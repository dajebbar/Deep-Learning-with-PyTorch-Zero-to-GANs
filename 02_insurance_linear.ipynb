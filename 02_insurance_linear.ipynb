{
  "nbformat": 4,
  "nbformat_minor": 0,
  "metadata": {
    "colab": {
      "name": "02-insurance-linear.ipynb",
      "provenance": [],
      "include_colab_link": true
    },
    "kernelspec": {
      "display_name": "Python 3",
      "language": "python",
      "name": "python3"
    },
    "language_info": {
      "codemirror_mode": {
        "name": "ipython",
        "version": 3
      },
      "file_extension": ".py",
      "mimetype": "text/x-python",
      "name": "python",
      "nbconvert_exporter": "python",
      "pygments_lexer": "ipython3",
      "version": "3.8.5"
    }
  },
  "cells": [
    {
      "cell_type": "markdown",
      "metadata": {
        "id": "view-in-github",
        "colab_type": "text"
      },
      "source": [
        "<a href=\"https://colab.research.google.com/github/dajebbar/Deep-Learning-with-PyTorch-Zero-to-GANs/blob/main/02_insurance_linear.ipynb\" target=\"_parent\"><img src=\"https://colab.research.google.com/assets/colab-badge.svg\" alt=\"Open In Colab\"/></a>"
      ]
    },
    {
      "cell_type": "code",
      "metadata": {
        "id": "NPKgyJMMs2eq"
      },
      "source": [
        "# Jovian Commit Essentials\n",
        "# Please retain and execute this cell without modifying the contents for `jovian.commit` to work\n",
        "!pip install jovian --upgrade -q\n",
        "import jovian\n",
        "jovian.set_project('02-insurance-linear-regression')\n",
        "jovian.set_colab_id('1xgtgs5iVsUgVbeF6k2su8ThwENBIMtj2')"
      ],
      "execution_count": 84,
      "outputs": []
    },
    {
      "cell_type": "markdown",
      "metadata": {
        "_cell_guid": "b1076dfc-b9ad-4769-8c92-a6c4dae69d19",
        "_uuid": "8f2839f25d086af736a60e9eeb907d3b93b6e0e5",
        "id": "eah5grk8Oc30"
      },
      "source": [
        "# Insurance cost prediction using linear regression\n",
        "\n",
        "Make a submisson here: https://jovian.ai/learn/deep-learning-with-pytorch-zero-to-gans/assignment/assignment-2-train-your-first-model\n",
        "\n",
        "In this assignment we're going to use information like a person's age, sex, BMI, no. of children and smoking habit to predict the price of yearly medical bills. This kind of model is useful for insurance companies to determine the yearly insurance premium for a person. The dataset for this problem is taken from [Kaggle](https://www.kaggle.com/mirichoi0218/insurance).\n",
        "\n",
        "\n",
        "We will create a model with the following steps:\n",
        "1. Download and explore the dataset\n",
        "2. Prepare the dataset for training\n",
        "3. Create a linear regression model\n",
        "4. Train the model to fit the data\n",
        "5. Make predictions using the trained model\n",
        "\n",
        "\n",
        "This assignment builds upon the concepts from the first 2 lessons. It will help to review these Jupyter notebooks:\n",
        "- PyTorch basics: https://jovian.ai/aakashns/01-pytorch-basics\n",
        "- Linear Regression: https://jovian.ai/aakashns/02-linear-regression\n",
        "- Logistic Regression: https://jovian.ai/aakashns/03-logistic-regression\n",
        "- Linear regression (minimal): https://jovian.ai/aakashns/housing-linear-minimal\n",
        "- Logistic regression (minimal): https://jovian.ai/aakashns/mnist-logistic-minimal\n",
        "\n",
        "As you go through this notebook, you will find a **???** in certain places. Your job is to replace the **???** with appropriate code or values, to ensure that the notebook runs properly end-to-end . In some cases, you'll be required to choose some hyperparameters (learning rate, batch size etc.). Try to experiment with the hypeparameters to get the lowest loss.\n"
      ]
    },
    {
      "cell_type": "code",
      "metadata": {
        "id": "5EqcLvY5Oc32"
      },
      "source": [
        "# Uncomment and run the appropriate command for your operating system, if required\n",
        "\n",
        "# Linux / Binder\n",
        "# !pip install numpy matplotlib pandas torch==1.7.0+cpu torchvision==0.8.1+cpu torchaudio==0.7.0 -f https://download.pytorch.org/whl/torch_stable.html\n",
        "\n",
        "# Windows\n",
        "# !pip install numpy matplotlib pandas torch==1.7.0+cpu torchvision==0.8.1+cpu torchaudio==0.7.0 -f https://download.pytorch.org/whl/torch_stable.html\n",
        "\n",
        "# MacOS\n",
        "# !pip install numpy matplotlib pandas torch torchvision torchaudio"
      ],
      "execution_count": null,
      "outputs": []
    },
    {
      "cell_type": "code",
      "metadata": {
        "id": "bgxaYaYNOc33"
      },
      "source": [
        "import torch\n",
        "import jovian\n",
        "import torchvision\n",
        "import torch.nn as nn\n",
        "import pandas as pd\n",
        "import matplotlib.pyplot as plt\n",
        "import torch.nn.functional as F\n",
        "from torchvision.datasets.utils import download_url\n",
        "from torch.utils.data import DataLoader, TensorDataset, random_split"
      ],
      "execution_count": 85,
      "outputs": []
    },
    {
      "cell_type": "code",
      "metadata": {
        "id": "IrdYW17YOc34"
      },
      "source": [
        "project_name='02-insurance-linear-regression' # will be used by jovian.commit"
      ],
      "execution_count": 86,
      "outputs": []
    },
    {
      "cell_type": "markdown",
      "metadata": {
        "id": "OjmTu9QOOc35"
      },
      "source": [
        "## Step 1: Download and explore the data\n",
        "\n",
        "Let us begin by downloading the data. We'll use the `download_url` function from PyTorch to get the data as a CSV (comma-separated values) file. "
      ]
    },
    {
      "cell_type": "code",
      "metadata": {
        "_cell_guid": "79c7e3d0-c299-4dcb-8224-4455121ee9b0",
        "_uuid": "d629ff2d2480ee46fbb7e2d37f6b5fab8052498a",
        "colab": {
          "base_uri": "https://localhost:8080/"
        },
        "id": "siXj_WgiOc35",
        "outputId": "a468012e-1679-4cd9-aba1-62cf11e395c8"
      },
      "source": [
        "DATASET_URL = \"https://hub.jovian.ml/wp-content/uploads/2020/05/insurance.csv\"\n",
        "DATA_FILENAME = \"insurance.csv\"\n",
        "download_url(DATASET_URL, '.')"
      ],
      "execution_count": 87,
      "outputs": [
        {
          "output_type": "stream",
          "text": [
            "Using downloaded and verified file: ./insurance.csv\n"
          ],
          "name": "stdout"
        }
      ]
    },
    {
      "cell_type": "markdown",
      "metadata": {
        "id": "fkXXYEhgOc38"
      },
      "source": [
        "To load the dataset into memory, we'll use the `read_csv` function from the `pandas` library. The data will be loaded as a Pandas dataframe. See this short tutorial to learn more: https://data36.com/pandas-tutorial-1-basics-reading-data-files-dataframes-data-selection/"
      ]
    },
    {
      "cell_type": "code",
      "metadata": {
        "colab": {
          "base_uri": "https://localhost:8080/",
          "height": 204
        },
        "id": "Wf3FVBZnOc39",
        "outputId": "1210d4b5-f3b0-4cce-d2af-c8ffd91d8c60"
      },
      "source": [
        "dataframe_raw = pd.read_csv(DATA_FILENAME)\n",
        "dataframe_raw.head()"
      ],
      "execution_count": 88,
      "outputs": [
        {
          "output_type": "execute_result",
          "data": {
            "text/html": [
              "<div>\n",
              "<style scoped>\n",
              "    .dataframe tbody tr th:only-of-type {\n",
              "        vertical-align: middle;\n",
              "    }\n",
              "\n",
              "    .dataframe tbody tr th {\n",
              "        vertical-align: top;\n",
              "    }\n",
              "\n",
              "    .dataframe thead th {\n",
              "        text-align: right;\n",
              "    }\n",
              "</style>\n",
              "<table border=\"1\" class=\"dataframe\">\n",
              "  <thead>\n",
              "    <tr style=\"text-align: right;\">\n",
              "      <th></th>\n",
              "      <th>age</th>\n",
              "      <th>sex</th>\n",
              "      <th>bmi</th>\n",
              "      <th>children</th>\n",
              "      <th>smoker</th>\n",
              "      <th>region</th>\n",
              "      <th>charges</th>\n",
              "    </tr>\n",
              "  </thead>\n",
              "  <tbody>\n",
              "    <tr>\n",
              "      <th>0</th>\n",
              "      <td>19</td>\n",
              "      <td>female</td>\n",
              "      <td>27.900</td>\n",
              "      <td>0</td>\n",
              "      <td>yes</td>\n",
              "      <td>southwest</td>\n",
              "      <td>16884.92400</td>\n",
              "    </tr>\n",
              "    <tr>\n",
              "      <th>1</th>\n",
              "      <td>18</td>\n",
              "      <td>male</td>\n",
              "      <td>33.770</td>\n",
              "      <td>1</td>\n",
              "      <td>no</td>\n",
              "      <td>southeast</td>\n",
              "      <td>1725.55230</td>\n",
              "    </tr>\n",
              "    <tr>\n",
              "      <th>2</th>\n",
              "      <td>28</td>\n",
              "      <td>male</td>\n",
              "      <td>33.000</td>\n",
              "      <td>3</td>\n",
              "      <td>no</td>\n",
              "      <td>southeast</td>\n",
              "      <td>4449.46200</td>\n",
              "    </tr>\n",
              "    <tr>\n",
              "      <th>3</th>\n",
              "      <td>33</td>\n",
              "      <td>male</td>\n",
              "      <td>22.705</td>\n",
              "      <td>0</td>\n",
              "      <td>no</td>\n",
              "      <td>northwest</td>\n",
              "      <td>21984.47061</td>\n",
              "    </tr>\n",
              "    <tr>\n",
              "      <th>4</th>\n",
              "      <td>32</td>\n",
              "      <td>male</td>\n",
              "      <td>28.880</td>\n",
              "      <td>0</td>\n",
              "      <td>no</td>\n",
              "      <td>northwest</td>\n",
              "      <td>3866.85520</td>\n",
              "    </tr>\n",
              "  </tbody>\n",
              "</table>\n",
              "</div>"
            ],
            "text/plain": [
              "   age     sex     bmi  children smoker     region      charges\n",
              "0   19  female  27.900         0    yes  southwest  16884.92400\n",
              "1   18    male  33.770         1     no  southeast   1725.55230\n",
              "2   28    male  33.000         3     no  southeast   4449.46200\n",
              "3   33    male  22.705         0     no  northwest  21984.47061\n",
              "4   32    male  28.880         0     no  northwest   3866.85520"
            ]
          },
          "metadata": {
            "tags": []
          },
          "execution_count": 88
        }
      ]
    },
    {
      "cell_type": "markdown",
      "metadata": {
        "id": "Kz31PVs5Oc3-"
      },
      "source": [
        "We're going to do a slight customization of the data, so that you every participant receives a slightly different version of the dataset. Fill in your name below as a string (enter at least 5 characters)"
      ]
    },
    {
      "cell_type": "code",
      "metadata": {
        "id": "Os9dp54xOc3_"
      },
      "source": [
        "your_name = 'dajebbar' # at least 5 characters"
      ],
      "execution_count": 89,
      "outputs": []
    },
    {
      "cell_type": "markdown",
      "metadata": {
        "id": "CaQAAzO2Oc4A"
      },
      "source": [
        "The `customize_dataset` function will customize the dataset slightly using your name as a source of random numbers."
      ]
    },
    {
      "cell_type": "code",
      "metadata": {
        "id": "R4h8TZduOc4A"
      },
      "source": [
        "def customize_dataset(dataframe_raw, rand_str):\n",
        "    dataframe = dataframe_raw.copy(deep=True)\n",
        "    # drop some rows\n",
        "    dataframe = dataframe.sample(int(0.95*len(dataframe)), random_state=int(ord(rand_str[0])))\n",
        "    # scale input\n",
        "    dataframe.bmi = dataframe.bmi * ord(rand_str[1])/100.\n",
        "    # scale target\n",
        "    dataframe.charges = dataframe.charges * ord(rand_str[2])/100.\n",
        "    # drop column\n",
        "    if ord(rand_str[3]) % 2 == 1:\n",
        "        dataframe = dataframe.drop(['region'], axis=1)\n",
        "    return dataframe"
      ],
      "execution_count": 90,
      "outputs": []
    },
    {
      "cell_type": "code",
      "metadata": {
        "colab": {
          "base_uri": "https://localhost:8080/",
          "height": 204
        },
        "id": "OlKSm6_LOc4C",
        "outputId": "0a64445b-dcba-4e80-ff4e-319076bacfe4"
      },
      "source": [
        "dataframe = customize_dataset(dataframe_raw, your_name)\n",
        "dataframe.head()"
      ],
      "execution_count": 91,
      "outputs": [
        {
          "output_type": "execute_result",
          "data": {
            "text/html": [
              "<div>\n",
              "<style scoped>\n",
              "    .dataframe tbody tr th:only-of-type {\n",
              "        vertical-align: middle;\n",
              "    }\n",
              "\n",
              "    .dataframe tbody tr th {\n",
              "        vertical-align: top;\n",
              "    }\n",
              "\n",
              "    .dataframe thead th {\n",
              "        text-align: right;\n",
              "    }\n",
              "</style>\n",
              "<table border=\"1\" class=\"dataframe\">\n",
              "  <thead>\n",
              "    <tr style=\"text-align: right;\">\n",
              "      <th></th>\n",
              "      <th>age</th>\n",
              "      <th>sex</th>\n",
              "      <th>bmi</th>\n",
              "      <th>children</th>\n",
              "      <th>smoker</th>\n",
              "      <th>charges</th>\n",
              "    </tr>\n",
              "  </thead>\n",
              "  <tbody>\n",
              "    <tr>\n",
              "      <th>12</th>\n",
              "      <td>23</td>\n",
              "      <td>male</td>\n",
              "      <td>33.36800</td>\n",
              "      <td>0</td>\n",
              "      <td>no</td>\n",
              "      <td>1936.453580</td>\n",
              "    </tr>\n",
              "    <tr>\n",
              "      <th>306</th>\n",
              "      <td>28</td>\n",
              "      <td>female</td>\n",
              "      <td>26.67500</td>\n",
              "      <td>2</td>\n",
              "      <td>no</td>\n",
              "      <td>21388.331398</td>\n",
              "    </tr>\n",
              "    <tr>\n",
              "      <th>318</th>\n",
              "      <td>44</td>\n",
              "      <td>female</td>\n",
              "      <td>26.81565</td>\n",
              "      <td>0</td>\n",
              "      <td>no</td>\n",
              "      <td>7866.466223</td>\n",
              "    </tr>\n",
              "    <tr>\n",
              "      <th>815</th>\n",
              "      <td>20</td>\n",
              "      <td>female</td>\n",
              "      <td>30.51620</td>\n",
              "      <td>0</td>\n",
              "      <td>no</td>\n",
              "      <td>1990.605164</td>\n",
              "    </tr>\n",
              "    <tr>\n",
              "      <th>157</th>\n",
              "      <td>18</td>\n",
              "      <td>male</td>\n",
              "      <td>24.41975</td>\n",
              "      <td>0</td>\n",
              "      <td>yes</td>\n",
              "      <td>16449.271065</td>\n",
              "    </tr>\n",
              "  </tbody>\n",
              "</table>\n",
              "</div>"
            ],
            "text/plain": [
              "     age     sex       bmi  children smoker       charges\n",
              "12    23    male  33.36800         0     no   1936.453580\n",
              "306   28  female  26.67500         2     no  21388.331398\n",
              "318   44  female  26.81565         0     no   7866.466223\n",
              "815   20  female  30.51620         0     no   1990.605164\n",
              "157   18    male  24.41975         0    yes  16449.271065"
            ]
          },
          "metadata": {
            "tags": []
          },
          "execution_count": 91
        }
      ]
    },
    {
      "cell_type": "markdown",
      "metadata": {
        "id": "hu7bSu1bOc4C"
      },
      "source": [
        "Let us answer some basic questions about the dataset. \n",
        "\n",
        "\n",
        "**Q: How many rows does the dataset have?**"
      ]
    },
    {
      "cell_type": "code",
      "metadata": {
        "colab": {
          "base_uri": "https://localhost:8080/"
        },
        "id": "NdU34avdOc4E",
        "outputId": "1550bb0e-3ced-4ef9-b50c-866f9d751ec6"
      },
      "source": [
        "num_rows = dataframe.shape[0]\n",
        "print(num_rows)"
      ],
      "execution_count": 92,
      "outputs": [
        {
          "output_type": "stream",
          "text": [
            "1271\n"
          ],
          "name": "stdout"
        }
      ]
    },
    {
      "cell_type": "markdown",
      "metadata": {
        "id": "pkpBkxXQOc4F"
      },
      "source": [
        "**Q: How many columns doe the dataset have**"
      ]
    },
    {
      "cell_type": "code",
      "metadata": {
        "colab": {
          "base_uri": "https://localhost:8080/"
        },
        "id": "hmb9W4RmOc4G",
        "outputId": "9889502b-0076-4f44-a3e7-feec0dc365c1"
      },
      "source": [
        "num_cols = dataframe.shape[1]\n",
        "print(num_cols)"
      ],
      "execution_count": 93,
      "outputs": [
        {
          "output_type": "stream",
          "text": [
            "6\n"
          ],
          "name": "stdout"
        }
      ]
    },
    {
      "cell_type": "markdown",
      "metadata": {
        "id": "h5cxtMG3Oc4G"
      },
      "source": [
        "**Q: What are the column titles of the input variables?**"
      ]
    },
    {
      "cell_type": "code",
      "metadata": {
        "colab": {
          "base_uri": "https://localhost:8080/"
        },
        "id": "xOvJ9bsiOc4H",
        "outputId": "38ae8a24-7767-4a27-dbde-c872ccd3b67a"
      },
      "source": [
        "input_cols = dataframe.columns\n",
        "input_cols"
      ],
      "execution_count": 94,
      "outputs": [
        {
          "output_type": "execute_result",
          "data": {
            "text/plain": [
              "Index(['age', 'sex', 'bmi', 'children', 'smoker', 'charges'], dtype='object')"
            ]
          },
          "metadata": {
            "tags": []
          },
          "execution_count": 94
        }
      ]
    },
    {
      "cell_type": "markdown",
      "metadata": {
        "id": "ipqvAbG5Oc4H"
      },
      "source": [
        "**Q: Which of the input columns are non-numeric or categorial variables ?**\n",
        "\n",
        "Hint: `sex` is one of them. List the columns that are not numbers."
      ]
    },
    {
      "cell_type": "code",
      "metadata": {
        "colab": {
          "base_uri": "https://localhost:8080/"
        },
        "id": "qfdXIqf-Oc4I",
        "outputId": "2564f007-2575-4690-e321-6736c6b2dc55"
      },
      "source": [
        "print(dataframe.select_dtypes(exclude=['int', 'float']))\n",
        "categorical_cols = ['sex', 'smoker']"
      ],
      "execution_count": 120,
      "outputs": [
        {
          "output_type": "stream",
          "text": [
            "         sex smoker\n",
            "12      male     no\n",
            "306   female     no\n",
            "318   female     no\n",
            "815   female     no\n",
            "157     male    yes\n",
            "...      ...    ...\n",
            "1118    male    yes\n",
            "1238    male     no\n",
            "38      male    yes\n",
            "839   female     no\n",
            "36    female     no\n",
            "\n",
            "[1271 rows x 2 columns]\n"
          ],
          "name": "stdout"
        }
      ]
    },
    {
      "cell_type": "markdown",
      "metadata": {
        "id": "8BQ55jWAOc4I"
      },
      "source": [
        "**Q: What are the column titles of output/target variable(s)?**"
      ]
    },
    {
      "cell_type": "code",
      "metadata": {
        "colab": {
          "base_uri": "https://localhost:8080/"
        },
        "id": "tPT6-vGUOc4I",
        "outputId": "39ea7cda-2b01-4085-e698-cc6adca695b0"
      },
      "source": [
        "output_cols = ['charges']\n",
        "output_cols"
      ],
      "execution_count": 103,
      "outputs": [
        {
          "output_type": "execute_result",
          "data": {
            "text/plain": [
              "['charges']"
            ]
          },
          "metadata": {
            "tags": []
          },
          "execution_count": 103
        }
      ]
    },
    {
      "cell_type": "markdown",
      "metadata": {
        "id": "41gW1bZwOc4J"
      },
      "source": [
        "**Q: (Optional) What is the minimum, maximum and average value of the `charges` column? Can you show the distribution of values in a graph?**\n",
        "Use this data visualization cheatsheet for referece: https://jovian.ml/aakashns/dataviz-cheatsheet"
      ]
    },
    {
      "cell_type": "code",
      "metadata": {
        "id": "hJhyqFBtR8GD"
      },
      "source": [
        "import matplotlib.pyplot as plt\n",
        "import numpy as np\n",
        "\n",
        "plt.style.use('fivethirtyeight')\n",
        "%matplotlib inline"
      ],
      "execution_count": 97,
      "outputs": []
    },
    {
      "cell_type": "code",
      "metadata": {
        "colab": {
          "base_uri": "https://localhost:8080/",
          "height": 840
        },
        "id": "99RxQuCdOc4J",
        "outputId": "dfb8300a-cff6-4381-8e54-a63320ff72e5"
      },
      "source": [
        "charges_info = dataframe[['charges']].describe()\n",
        "print(charges_info)\n",
        "print()\n",
        "print(np.log10(charges_info).describe())\n",
        "plt.figure(figsize=[12,8])\n",
        "plt.subplot(1,3,1)\n",
        "bins = np.arange(1180, 7000+140, 140)\n",
        "plt.hist(data=dataframe, x='charges', bins=bins)\n",
        "plt.xlabel('charges')\n",
        "\n",
        "plt.subplot(1,3,2)\n",
        "bins = np.arange(1180, 7000+140, 140)\n",
        "plt.hist(data=dataframe, x='charges', bins=bins)\n",
        "plt.xscale('log')\n",
        "plt.xlabel('log-charges')\n",
        "\n",
        "plt.subplot(1,3,3)\n",
        "bins = 10**np.arange(3,5+0.1,0.1)\n",
        "plt.hist(data=dataframe, x='charges', bins=bins)\n",
        "plt.xscale('log')\n",
        "plt.xlabel('log-charges')\n"
      ],
      "execution_count": 98,
      "outputs": [
        {
          "output_type": "stream",
          "text": [
            "            charges\n",
            "count   1271.000000\n",
            "mean   14155.264202\n",
            "std    12891.382400\n",
            "min     1189.186334\n",
            "25%     5043.461874\n",
            "50%     9954.826760\n",
            "75%    18085.943342\n",
            "max    67596.653691\n",
            "\n",
            "        charges\n",
            "count  8.000000\n",
            "mean   3.903580\n",
            "std    0.593014\n",
            "min    3.075250\n",
            "25%    3.553083\n",
            "50%    4.054167\n",
            "75%    4.177524\n",
            "max    4.829925\n"
          ],
          "name": "stdout"
        },
        {
          "output_type": "execute_result",
          "data": {
            "text/plain": [
              "Text(0.5, 0, 'log-charges')"
            ]
          },
          "metadata": {
            "tags": []
          },
          "execution_count": 98
        },
        {
          "output_type": "display_data",
          "data": {
            "image/png": "[encoded data removed]",
            "text/plain": [
              "<Figure size 864x576 with 3 Axes>"
            ]
          },
          "metadata": {
            "tags": [],
            "needs_background": "light"
          }
        }
      ]
    },
    {
      "cell_type": "markdown",
      "metadata": {
        "id": "rNOPM_Y0Oc4K"
      },
      "source": [
        "Remember to commit your notebook to Jovian after every step, so that you don't lose your work."
      ]
    },
    {
      "cell_type": "code",
      "metadata": {
        "id": "zVoww4bNOc4K"
      },
      "source": [
        "!pip install jovian --upgrade -q"
      ],
      "execution_count": 99,
      "outputs": []
    },
    {
      "cell_type": "code",
      "metadata": {
        "id": "ocuUihAWOc4K"
      },
      "source": [
        "import jovian"
      ],
      "execution_count": null,
      "outputs": []
    },
    {
      "cell_type": "code",
      "metadata": {
        "colab": {
          "base_uri": "https://localhost:8080/",
          "height": 103
        },
        "id": "aoPcvEKCOc4L",
        "outputId": "21dbdf8d-c0c4-413c-92b5-dacbc1fbcf83"
      },
      "source": [
        "jovian.commit()"
      ],
      "execution_count": 121,
      "outputs": [
        {
          "output_type": "stream",
          "text": [
            "[jovian] Detected Colab notebook...\u001b[0m\n",
            "[jovian] Uploading colab notebook to Jovian...\u001b[0m\n",
            "[jovian] Capturing environment..\u001b[0m\n",
            "[jovian] Committed successfully! https://jovian.ai/boubekri/02-insurance-linear-regression\u001b[0m\n"
          ],
          "name": "stdout"
        },
        {
          "output_type": "execute_result",
          "data": {
            "application/vnd.google.colaboratory.intrinsic+json": {
              "type": "string"
            },
            "text/plain": [
              "'https://jovian.ai/boubekri/02-insurance-linear-regression'"
            ]
          },
          "metadata": {
            "tags": []
          },
          "execution_count": 121
        }
      ]
    },
    {
      "cell_type": "markdown",
      "metadata": {
        "id": "KotRB56AOc4L"
      },
      "source": [
        "## Step 2: Prepare the dataset for training\n",
        "\n",
        "We need to convert the data from the Pandas dataframe into a PyTorch tensors for training. To do this, the first step is to convert it numpy arrays. If you've filled out `input_cols`, `categorial_cols` and `output_cols` correctly, this following function will perform the conversion to numpy arrays."
      ]
    },
    {
      "cell_type": "code",
      "metadata": {
        "id": "VfeLgjZ2Oc4M"
      },
      "source": [
        "def dataframe_to_arrays(dataframe):\n",
        "    # Make a copy of the original dataframe\n",
        "    dataframe1 = dataframe.copy(deep=True)\n",
        "    # Convert non-numeric categorical columns to numbers\n",
        "    for col in categorical_cols:\n",
        "        dataframe1[col] = dataframe1[col].astype('category').cat.codes\n",
        "    # Extract input & outupts as numpy arrays\n",
        "    inputs_array = dataframe1[input_cols].to_numpy()\n",
        "    targets_array = dataframe1[output_cols].to_numpy()\n",
        "    return inputs_array, targets_array"
      ],
      "execution_count": 122,
      "outputs": []
    },
    {
      "cell_type": "markdown",
      "metadata": {
        "id": "cuPPyBd6Oc4N"
      },
      "source": [
        "Read through the [Pandas documentation](https://pandas.pydata.org/pandas-docs/stable/user_guide/categorical.html) to understand how we're converting categorical variables into numbers."
      ]
    },
    {
      "cell_type": "code",
      "metadata": {
        "colab": {
          "base_uri": "https://localhost:8080/"
        },
        "id": "92Z-gjgTOc4O",
        "outputId": "e8518935-1c75-4998-f40b-5948b11ade64"
      },
      "source": [
        "inputs_array, targets_array = dataframe_to_arrays(dataframe)\n",
        "inputs_array, targets_array"
      ],
      "execution_count": 124,
      "outputs": [
        {
          "output_type": "execute_result",
          "data": {
            "text/plain": [
              "(array([[2.30000000e+01, 1.00000000e+00, 3.33680000e+01, 0.00000000e+00,\n",
              "         0.00000000e+00, 1.93645358e+03],\n",
              "        [2.80000000e+01, 0.00000000e+00, 2.66750000e+01, 2.00000000e+00,\n",
              "         0.00000000e+00, 2.13883314e+04],\n",
              "        [4.40000000e+01, 0.00000000e+00, 2.68156500e+01, 0.00000000e+00,\n",
              "         0.00000000e+00, 7.86646622e+03],\n",
              "        ...,\n",
              "        [3.50000000e+01, 1.00000000e+00, 3.55699000e+01, 1.00000000e+00,\n",
              "         1.00000000e+00, 4.21607329e+04],\n",
              "        [5.90000000e+01, 0.00000000e+00, 3.04095000e+01, 0.00000000e+00,\n",
              "         0.00000000e+00, 1.33795103e+04],\n",
              "        [6.20000000e+01, 0.00000000e+00, 3.19760500e+01, 3.00000000e+00,\n",
              "         0.00000000e+00, 1.65489250e+04]]), array([[ 1936.45358  ],\n",
              "        [21388.3313978],\n",
              "        [ 7866.466223 ],\n",
              "        ...,\n",
              "        [42160.732878 ],\n",
              "        [13379.51027  ],\n",
              "        [16548.924951 ]]))"
            ]
          },
          "metadata": {
            "tags": []
          },
          "execution_count": 124
        }
      ]
    },
    {
      "cell_type": "markdown",
      "metadata": {
        "id": "QiL_p_O4Oc4P"
      },
      "source": [
        "**Q: Convert the numpy arrays `inputs_array` and `targets_array` into PyTorch tensors. Make sure that the data type is `torch.float32`.**"
      ]
    },
    {
      "cell_type": "code",
      "metadata": {
        "id": "UPNj3FvCOc4Q"
      },
      "source": [
        "inputs = torch.from_numpy(inputs_array)\n",
        "targets = torch.from_numpy(targets_array)\n",
        "\n",
        "inputs, targets = inputs.type(torch.FloatTensor), targets.type(torch.FloatTensor)"
      ],
      "execution_count": 125,
      "outputs": []
    },
    {
      "cell_type": "code",
      "metadata": {
        "colab": {
          "base_uri": "https://localhost:8080/"
        },
        "id": "WMZsbwoDOc4R",
        "outputId": "410177fd-ec8e-422a-b581-1dae5b12c329"
      },
      "source": [
        "inputs.dtype, targets.dtype"
      ],
      "execution_count": 126,
      "outputs": [
        {
          "output_type": "execute_result",
          "data": {
            "text/plain": [
              "(torch.float32, torch.float32)"
            ]
          },
          "metadata": {
            "tags": []
          },
          "execution_count": 126
        }
      ]
    },
    {
      "cell_type": "markdown",
      "metadata": {
        "id": "rnPokQBkOc4S"
      },
      "source": [
        "Next, we need to create PyTorch datasets & data loaders for training & validation. We'll start by creating a `TensorDataset`."
      ]
    },
    {
      "cell_type": "code",
      "metadata": {
        "id": "8JEpQd3bOc4S"
      },
      "source": [
        "dataset = TensorDataset(inputs, targets)"
      ],
      "execution_count": 127,
      "outputs": []
    },
    {
      "cell_type": "markdown",
      "metadata": {
        "id": "Sbanz-dVOc4T"
      },
      "source": [
        "**Q: Pick a number between `0.1` and `0.2` to determine the fraction of data that will be used for creating the validation set. Then use `random_split` to create training & validation datasets.**"
      ]
    },
    {
      "cell_type": "code",
      "metadata": {
        "colab": {
          "base_uri": "https://localhost:8080/"
        },
        "id": "cOT85tyDOc4T",
        "outputId": "0739a659-9917-44a0-def8-ecd64d63e649"
      },
      "source": [
        "val_percent = 0.2 # between 0.1 and 0.2\n",
        "val_size = int(num_rows * val_percent)\n",
        "train_size = num_rows - val_size\n",
        "\n",
        "# Use the random_split function to split dataset into 2 parts of the desired length\n",
        "train_ds, val_ds = random_split(dataset, [train_size, val_size])\n",
        "len(train_ds), len(val_ds)"
      ],
      "execution_count": 128,
      "outputs": [
        {
          "output_type": "execute_result",
          "data": {
            "text/plain": [
              "(1017, 254)"
            ]
          },
          "metadata": {
            "tags": []
          },
          "execution_count": 128
        }
      ]
    },
    {
      "cell_type": "markdown",
      "metadata": {
        "id": "zDtmOefmOc4U"
      },
      "source": [
        "Finally, we can create data loaders for training & validation.\n",
        "\n",
        "**Q: Pick a batch size for the data loader.**"
      ]
    },
    {
      "cell_type": "code",
      "metadata": {
        "id": "BLmwi3t1Oc4U"
      },
      "source": [
        "batch_size = 64"
      ],
      "execution_count": 129,
      "outputs": []
    },
    {
      "cell_type": "code",
      "metadata": {
        "id": "pVYam_cXOc4U"
      },
      "source": [
        "train_loader = DataLoader(train_ds, batch_size, shuffle=True)\n",
        "val_loader = DataLoader(val_ds, batch_size)"
      ],
      "execution_count": 130,
      "outputs": []
    },
    {
      "cell_type": "markdown",
      "metadata": {
        "id": "WPoWhKA5Oc4V"
      },
      "source": [
        "Let's look at a batch of data to verify everything is working fine so far."
      ]
    },
    {
      "cell_type": "code",
      "metadata": {
        "colab": {
          "base_uri": "https://localhost:8080/"
        },
        "id": "Hgp8I7qXOc4V",
        "outputId": "2f711f81-3150-4b95-ae2c-fdabf3e03857"
      },
      "source": [
        "for xb, yb in train_loader:\n",
        "    print(\"inputs:\", xb)\n",
        "    print(\"targets:\", yb)\n",
        "    break"
      ],
      "execution_count": 131,
      "outputs": [
        {
          "output_type": "stream",
          "text": [
            "inputs: tensor([[5.7000e+01, 1.0000e+00, 2.7102e+01, 1.0000e+00, 0.0000e+00, 1.2247e+04],\n",
            "        [4.7000e+01, 1.0000e+00, 3.1331e+01, 1.0000e+00, 0.0000e+00, 8.5465e+03],\n",
            "        [6.4000e+01, 1.0000e+00, 2.3959e+01, 1.0000e+00, 0.0000e+00, 3.1977e+04],\n",
            "        [1.8000e+01, 0.0000e+00, 2.9212e+01, 0.0000e+00, 0.0000e+00, 2.3357e+03],\n",
            "        [2.2000e+01, 1.0000e+00, 2.6035e+01, 0.0000e+00, 0.0000e+00, 1.7649e+03],\n",
            "        [1.8000e+01, 0.0000e+00, 3.0410e+01, 4.0000e+00, 0.0000e+00, 4.8349e+03],\n",
            "        [4.6000e+01, 0.0000e+00, 3.2437e+01, 1.0000e+00, 0.0000e+00, 8.7350e+03],\n",
            "        [4.4000e+01, 0.0000e+00, 2.5026e+01, 1.0000e+00, 0.0000e+00, 8.0821e+03],\n",
            "        [3.0000e+01, 1.0000e+00, 3.6307e+01, 3.0000e+00, 0.0000e+00, 5.7545e+03],\n",
            "        [3.2000e+01, 1.0000e+00, 4.5134e+01, 2.0000e+00, 0.0000e+00, 4.9676e+03],\n",
            "        [4.2000e+01, 1.0000e+00, 2.5341e+01, 2.0000e+00, 0.0000e+00, 8.1934e+03],\n",
            "        [4.6000e+01, 1.0000e+00, 2.5026e+01, 5.0000e+00, 0.0000e+00, 1.0703e+04],\n",
            "        [2.2000e+01, 0.0000e+00, 2.3571e+01, 0.0000e+00, 0.0000e+00, 2.2795e+03],\n",
            "        [5.4000e+01, 1.0000e+00, 3.3184e+01, 2.0000e+00, 1.0000e+00, 4.6916e+04],\n",
            "        [2.2000e+01, 1.0000e+00, 3.3756e+01, 3.0000e+00, 0.0000e+00, 3.6496e+03],\n",
            "        [3.8000e+01, 1.0000e+00, 1.6311e+01, 2.0000e+00, 0.0000e+00, 7.0390e+03],\n",
            "        [2.0000e+01, 1.0000e+00, 3.4251e+01, 1.0000e+00, 0.0000e+00, 2.9388e+04],\n",
            "        [2.8000e+01, 0.0000e+00, 3.6491e+01, 1.0000e+00, 0.0000e+00, 3.9929e+03],\n",
            "        [4.3000e+01, 1.0000e+00, 2.6539e+01, 3.0000e+00, 0.0000e+00, 9.1226e+03],\n",
            "        [4.1000e+01, 0.0000e+00, 3.0652e+01, 0.0000e+00, 0.0000e+00, 6.5573e+03],\n",
            "        [5.9000e+01, 0.0000e+00, 2.2945e+01, 0.0000e+00, 1.0000e+00, 2.7220e+04],\n",
            "        [3.3000e+01, 1.0000e+00, 3.2437e+01, 5.0000e+00, 0.0000e+00, 7.0530e+03],\n",
            "        [2.3000e+01, 1.0000e+00, 4.0653e+01, 0.0000e+00, 0.0000e+00, 1.9475e+03],\n",
            "        [2.5000e+01, 0.0000e+00, 3.2970e+01, 1.0000e+00, 0.0000e+00, 3.4207e+03],\n",
            "        [2.4000e+01, 0.0000e+00, 2.4512e+01, 0.0000e+00, 0.0000e+00, 3.2269e+03],\n",
            "        [6.2000e+01, 1.0000e+00, 3.0516e+01, 1.0000e+00, 0.0000e+00, 2.8621e+04],\n",
            "        [4.9000e+01, 0.0000e+00, 3.5531e+01, 3.0000e+00, 0.0000e+00, 1.1004e+04],\n",
            "        [2.1000e+01, 1.0000e+00, 3.0167e+01, 0.0000e+00, 0.0000e+00, 1.6179e+03],\n",
            "        [5.4000e+01, 0.0000e+00, 4.5988e+01, 0.0000e+00, 1.0000e+00, 6.7597e+04],\n",
            "        [5.9000e+01, 0.0000e+00, 3.4144e+01, 0.0000e+00, 0.0000e+00, 1.2979e+04],\n",
            "        [5.7000e+01, 1.0000e+00, 2.2989e+01, 0.0000e+00, 0.0000e+00, 1.1617e+04],\n",
            "        [2.0000e+01, 0.0000e+00, 2.3687e+01, 0.0000e+00, 1.0000e+00, 2.7693e+04],\n",
            "        [5.4000e+01, 1.0000e+00, 3.9348e+01, 3.0000e+00, 1.0000e+00, 5.1462e+04],\n",
            "        [5.9000e+01, 1.0000e+00, 2.8935e+01, 3.0000e+00, 1.0000e+00, 3.1996e+04],\n",
            "        [6.3000e+01, 0.0000e+00, 3.5744e+01, 0.0000e+00, 0.0000e+00, 1.4721e+04],\n",
            "        [6.3000e+01, 1.0000e+00, 3.2650e+01, 3.0000e+00, 0.0000e+00, 1.6071e+04],\n",
            "        [6.1000e+01, 0.0000e+00, 3.5293e+01, 1.0000e+00, 1.0000e+00, 5.1429e+04],\n",
            "        [4.1000e+01, 1.0000e+00, 2.7553e+01, 1.0000e+00, 0.0000e+00, 7.0646e+03],\n",
            "        [1.8000e+01, 0.0000e+00, 3.7985e+01, 0.0000e+00, 0.0000e+00, 1.7310e+03],\n",
            "        [2.1000e+01, 0.0000e+00, 1.6311e+01, 1.0000e+00, 0.0000e+00, 3.3575e+03],\n",
            "        [2.5000e+01, 0.0000e+00, 4.0085e+01, 0.0000e+00, 0.0000e+00, 1.8952e+04],\n",
            "        [4.8000e+01, 1.0000e+00, 3.9348e+01, 2.0000e+00, 1.0000e+00, 4.8444e+04],\n",
            "        [2.5000e+01, 0.0000e+00, 2.0176e+01, 1.0000e+00, 0.0000e+00, 3.4013e+03],\n",
            "        [4.6000e+01, 1.0000e+00, 2.4051e+01, 3.0000e+00, 0.0000e+00, 1.0071e+04],\n",
            "        [6.0000e+01, 1.0000e+00, 3.0410e+01, 3.0000e+00, 1.0000e+00, 4.8898e+04],\n",
            "        [4.5000e+01, 1.0000e+00, 2.0734e+01, 0.0000e+00, 0.0000e+00, 7.6562e+03],\n",
            "        [2.9000e+01, 1.0000e+00, 2.8751e+01, 1.0000e+00, 0.0000e+00, 2.1494e+04],\n",
            "        [5.6000e+01, 1.0000e+00, 3.2650e+01, 4.0000e+00, 0.0000e+00, 1.3726e+04],\n",
            "        [1.9000e+01, 1.0000e+00, 3.5846e+01, 0.0000e+00, 1.0000e+00, 3.8393e+04],\n",
            "        [2.0000e+01, 0.0000e+00, 2.7921e+01, 0.0000e+00, 0.0000e+00, 2.6046e+03],\n",
            "        [1.8000e+01, 0.0000e+00, 2.8290e+01, 0.0000e+00, 0.0000e+00, 7.7632e+03],\n",
            "        [3.3000e+01, 0.0000e+00, 3.1913e+01, 2.0000e+00, 0.0000e+00, 5.6975e+03],\n",
            "        [5.4000e+01, 0.0000e+00, 2.3867e+01, 3.0000e+00, 0.0000e+00, 1.3228e+04],\n",
            "        [1.9000e+01, 0.0000e+00, 2.3959e+01, 0.0000e+00, 0.0000e+00, 1.8416e+03],\n",
            "        [1.8000e+01, 1.0000e+00, 2.4696e+01, 0.0000e+00, 0.0000e+00, 1.8105e+03],\n",
            "        [6.0000e+01, 0.0000e+00, 3.4047e+01, 0.0000e+00, 0.0000e+00, 1.3403e+04],\n",
            "        [4.4000e+01, 0.0000e+00, 3.7782e+01, 0.0000e+00, 1.0000e+00, 4.5562e+04],\n",
            "        [1.8000e+01, 1.0000e+00, 3.6171e+01, 0.0000e+00, 0.0000e+00, 1.2099e+03],\n",
            "        [2.7000e+01, 0.0000e+00, 2.4420e+01, 0.0000e+00, 0.0000e+00, 3.7721e+03],\n",
            "        [4.5000e+01, 1.0000e+00, 2.3314e+01, 2.0000e+00, 0.0000e+00, 9.1208e+03],\n",
            "        [2.8000e+01, 1.0000e+00, 3.5987e+01, 1.0000e+00, 0.0000e+00, 3.4738e+03],\n",
            "        [2.5000e+01, 0.0000e+00, 2.2761e+01, 0.0000e+00, 0.0000e+00, 3.3989e+03],\n",
            "        [4.8000e+01, 1.0000e+00, 3.4556e+01, 4.0000e+00, 0.0000e+00, 1.1381e+04],\n",
            "        [2.6000e+01, 1.0000e+00, 2.8566e+01, 0.0000e+00, 0.0000e+00, 3.0712e+03]])\n",
            "targets: tensor([[12247.4766],\n",
            "        [ 8546.5303],\n",
            "        [31976.6152],\n",
            "        [ 2335.6802],\n",
            "        [ 1764.8995],\n",
            "        [ 4834.8599],\n",
            "        [ 8735.0254],\n",
            "        [ 8082.1079],\n",
            "        [ 5754.4512],\n",
            "        [ 4967.5723],\n",
            "        [ 8193.4248],\n",
            "        [10702.7881],\n",
            "        [ 2279.4971],\n",
            "        [46916.3945],\n",
            "        [ 3649.6479],\n",
            "        [ 7038.9775],\n",
            "        [29387.7461],\n",
            "        [ 3992.8967],\n",
            "        [ 9122.5908],\n",
            "        [ 6557.2944],\n",
            "        [27219.5059],\n",
            "        [ 7053.0161],\n",
            "        [ 1947.5188],\n",
            "        [ 3420.7483],\n",
            "        [ 3226.8662],\n",
            "        [28621.0430],\n",
            "        [11004.3672],\n",
            "        [ 1617.8907],\n",
            "        [67596.6562],\n",
            "        [12979.2031],\n",
            "        [11616.8896],\n",
            "        [27693.2148],\n",
            "        [51462.1289],\n",
            "        [31996.0332],\n",
            "        [14721.2471],\n",
            "        [16071.2266],\n",
            "        [51428.6172],\n",
            "        [ 7064.5669],\n",
            "        [ 1731.0271],\n",
            "        [ 3357.5032],\n",
            "        [18951.6348],\n",
            "        [48444.1445],\n",
            "        [ 3401.3142],\n",
            "        [10070.6074],\n",
            "        [48898.3594],\n",
            "        [ 7656.1533],\n",
            "        [21494.4766],\n",
            "        [13726.1045],\n",
            "        [38392.5703],\n",
            "        [ 2604.6438],\n",
            "        [ 7763.1587],\n",
            "        [ 5697.5400],\n",
            "        [13228.4912],\n",
            "        [ 1841.6185],\n",
            "        [ 1810.4814],\n",
            "        [13403.2646],\n",
            "        [45562.4648],\n",
            "        [ 1209.9318],\n",
            "        [ 3772.1375],\n",
            "        [ 9120.7529],\n",
            "        [ 3473.7908],\n",
            "        [ 3398.8809],\n",
            "        [11381.0830],\n",
            "        [ 3071.1628]])\n"
          ],
          "name": "stdout"
        }
      ]
    },
    {
      "cell_type": "markdown",
      "metadata": {
        "id": "gDRLWs3jOc4V"
      },
      "source": [
        "Let's save our work by committing to Jovian."
      ]
    },
    {
      "cell_type": "code",
      "metadata": {
        "colab": {
          "base_uri": "https://localhost:8080/",
          "height": 86
        },
        "id": "C3N7qkixOc4V",
        "outputId": "21c52e23-3ff6-4e6a-a07c-03f23ab96a00"
      },
      "source": [
        "jovian.commit(project=project_name, environment=None)"
      ],
      "execution_count": 112,
      "outputs": [
        {
          "output_type": "stream",
          "text": [
            "[jovian] Detected Colab notebook...\u001b[0m\n",
            "[jovian] Uploading colab notebook to Jovian...\u001b[0m\n",
            "[jovian] Committed successfully! https://jovian.ai/boubekri/02-insurance-linear-regression\u001b[0m\n"
          ],
          "name": "stdout"
        },
        {
          "output_type": "execute_result",
          "data": {
            "application/vnd.google.colaboratory.intrinsic+json": {
              "type": "string"
            },
            "text/plain": [
              "'https://jovian.ai/boubekri/02-insurance-linear-regression'"
            ]
          },
          "metadata": {
            "tags": []
          },
          "execution_count": 112
        }
      ]
    },
    {
      "cell_type": "markdown",
      "metadata": {
        "id": "WnUzhtIMOc4W"
      },
      "source": [
        "## Step 3: Create a Linear Regression Model\n",
        "\n",
        "Our model itself is a fairly straightforward linear regression (we'll build more complex models in the next assignment). \n"
      ]
    },
    {
      "cell_type": "code",
      "metadata": {
        "id": "Q355oLFoOc4W"
      },
      "source": [
        "input_size = len(input_cols)\n",
        "output_size = len(output_cols)"
      ],
      "execution_count": 132,
      "outputs": []
    },
    {
      "cell_type": "markdown",
      "metadata": {
        "id": "Ic2PsZ2NOc4W"
      },
      "source": [
        "**Q: Complete the class definition below by filling out the constructor (`__init__`), `forward`, `training_step` and `validation_step` methods.**\n",
        "\n",
        "Hint: Think carefully about picking a good loss fuction (it's not cross entropy). Maybe try 2-3 of them and see which one works best. See https://pytorch.org/docs/stable/nn.functional.html#loss-functions"
      ]
    },
    {
      "cell_type": "code",
      "metadata": {
        "id": "M6XZygp4Oc4X"
      },
      "source": [
        "class InsuranceModel(nn.Module):\n",
        "    def __init__(self):\n",
        "        super().__init__()\n",
        "        self.linear = nn.Linear(input_size, output_size)                 # fill this (hint: use input_size & output_size defined above)\n",
        "        \n",
        "    def forward(self, xb):\n",
        "        out = self.linear(xb)                         # fill this\n",
        "        return out\n",
        "    \n",
        "    def training_step(self, batch):\n",
        "        inputs, targets = batch \n",
        "        # Generate predictions\n",
        "        out = self(inputs)          \n",
        "        # Calcuate loss\n",
        "        loss = F.l1_loss(out, targets)                        # fill this\n",
        "        return loss\n",
        "    \n",
        "    def validation_step(self, batch):\n",
        "        inputs, targets = batch\n",
        "        # Generate predictions\n",
        "        out = self(inputs)\n",
        "        # Calculate loss\n",
        "        loss = F.l1_loss(out, targets)                       # fill this    \n",
        "        return {'val_loss': loss.detach()}\n",
        "        \n",
        "    def validation_epoch_end(self, outputs):\n",
        "        batch_losses = [x['val_loss'] for x in outputs]\n",
        "        epoch_loss = torch.stack(batch_losses).mean()   # Combine losses\n",
        "        return {'val_loss': epoch_loss.item()}\n",
        "    \n",
        "    def epoch_end(self, epoch, result, num_epochs):\n",
        "        # Print result every 20th epoch\n",
        "        if (epoch+1) % 20 == 0 or epoch == num_epochs-1:\n",
        "            print(\"Epoch [{}], val_loss: {:.4f}\".format(epoch+1, result['val_loss']))"
      ],
      "execution_count": 138,
      "outputs": []
    },
    {
      "cell_type": "markdown",
      "metadata": {
        "id": "gZbVDE0EOc4X"
      },
      "source": [
        "Let us create a model using the `InsuranceModel` class. You may need to come back later and re-run the next cell to reinitialize the model, in case the loss becomes `nan` or `infinity`."
      ]
    },
    {
      "cell_type": "code",
      "metadata": {
        "id": "IIEeLqlPOc4Y"
      },
      "source": [
        "model = InsuranceModel()"
      ],
      "execution_count": 139,
      "outputs": []
    },
    {
      "cell_type": "markdown",
      "metadata": {
        "id": "V7sILj0ZOc4Y"
      },
      "source": [
        "Let's check out the weights and biases of the model using `model.parameters`."
      ]
    },
    {
      "cell_type": "code",
      "metadata": {
        "id": "Fg4SdVtVOc4Z",
        "colab": {
          "base_uri": "https://localhost:8080/"
        },
        "outputId": "08023834-07c1-4d95-e4b7-062e2da117e9"
      },
      "source": [
        "list(model.parameters())"
      ],
      "execution_count": 140,
      "outputs": [
        {
          "output_type": "execute_result",
          "data": {
            "text/plain": [
              "[Parameter containing:\n",
              " tensor([[ 0.4035, -0.0925,  0.0650,  0.1251,  0.1185,  0.1015]],\n",
              "        requires_grad=True), Parameter containing:\n",
              " tensor([-0.2304], requires_grad=True)]"
            ]
          },
          "metadata": {
            "tags": []
          },
          "execution_count": 140
        }
      ]
    },
    {
      "cell_type": "markdown",
      "metadata": {
        "id": "H8QkhIlsOc4Z"
      },
      "source": [
        "One final commit before we train the model."
      ]
    },
    {
      "cell_type": "code",
      "metadata": {
        "id": "gJPexP-kOc4a",
        "colab": {
          "base_uri": "https://localhost:8080/",
          "height": 86
        },
        "outputId": "82f02328-dc1b-41b6-8328-3d589c7c8fec"
      },
      "source": [
        "jovian.commit(project=project_name, environment=None)"
      ],
      "execution_count": 117,
      "outputs": [
        {
          "output_type": "stream",
          "text": [
            "[jovian] Detected Colab notebook...\u001b[0m\n",
            "[jovian] Uploading colab notebook to Jovian...\u001b[0m\n",
            "[jovian] Committed successfully! https://jovian.ai/boubekri/02-insurance-linear-regression\u001b[0m\n"
          ],
          "name": "stdout"
        },
        {
          "output_type": "execute_result",
          "data": {
            "application/vnd.google.colaboratory.intrinsic+json": {
              "type": "string"
            },
            "text/plain": [
              "'https://jovian.ai/boubekri/02-insurance-linear-regression'"
            ]
          },
          "metadata": {
            "tags": []
          },
          "execution_count": 117
        }
      ]
    },
    {
      "cell_type": "markdown",
      "metadata": {
        "id": "zkZdaqMWOc4a"
      },
      "source": [
        "## Step 4: Train the model to fit the data\n",
        "\n",
        "To train our model, we'll use the same `fit` function explained in the lecture. That's the benefit of defining a generic training loop - you can use it for any problem."
      ]
    },
    {
      "cell_type": "code",
      "metadata": {
        "id": "SYmytHHfOc4b"
      },
      "source": [
        "def evaluate(model, val_loader):\n",
        "    outputs = [model.validation_step(batch) for batch in val_loader]\n",
        "    return model.validation_epoch_end(outputs)\n",
        "\n",
        "def fit(epochs, lr, model, train_loader, val_loader, opt_func=torch.optim.SGD):\n",
        "    history = []\n",
        "    optimizer = opt_func(model.parameters(), lr)\n",
        "    for epoch in range(epochs):\n",
        "        # Training Phase \n",
        "        for batch in train_loader:\n",
        "            loss = model.training_step(batch)\n",
        "            loss.backward()\n",
        "            optimizer.step()\n",
        "            optimizer.zero_grad()\n",
        "        # Validation phase\n",
        "        result = evaluate(model, val_loader)\n",
        "        model.epoch_end(epoch, result, epochs)\n",
        "        history.append(result)\n",
        "    return history"
      ],
      "execution_count": 141,
      "outputs": []
    },
    {
      "cell_type": "markdown",
      "metadata": {
        "id": "zwvWafVNOc4b"
      },
      "source": [
        "**Q: Use the `evaluate` function to calculate the loss on the validation set before training.**"
      ]
    },
    {
      "cell_type": "code",
      "metadata": {
        "id": "tlUaTnJsOc4b",
        "colab": {
          "base_uri": "https://localhost:8080/"
        },
        "outputId": "5aab59b4-0bf9-4954-a9ec-2da6ed199586"
      },
      "source": [
        "result = evaluate(model, val_loader) # Use the the evaluate function\n",
        "print(result)"
      ],
      "execution_count": 142,
      "outputs": [
        {
          "output_type": "stream",
          "text": [
            "{'val_loss': 12462.40234375}\n"
          ],
          "name": "stdout"
        }
      ]
    },
    {
      "cell_type": "markdown",
      "metadata": {
        "id": "wAjGWZg7Oc4c"
      },
      "source": [
        "\n",
        "We are now ready to train the model. You may need to run the training loop many times, for different number of epochs and with different learning rates, to get a good result. Also, if your loss becomes too large (or `nan`), you may have to re-initialize the model by running the cell `model = InsuranceModel()`. Experiment with this for a while, and try to get to as low a loss as possible."
      ]
    },
    {
      "cell_type": "markdown",
      "metadata": {
        "id": "iHtfaJk2Oc4c"
      },
      "source": [
        "**Q: Train the model 4-5 times with different learning rates & for different number of epochs.**\n",
        "\n",
        "Hint: Vary learning rates by orders of 10 (e.g. `1e-2`, `1e-3`, `1e-4`, `1e-5`, `1e-6`) to figure out what works."
      ]
    },
    {
      "cell_type": "code",
      "metadata": {
        "id": "cKsvmXTEOc4c",
        "colab": {
          "base_uri": "https://localhost:8080/"
        },
        "outputId": "7914500f-9c3f-4b44-ba29-d36371eadb8e"
      },
      "source": [
        "epochs = 100\n",
        "lr = 1.e-2\n",
        "history1 = fit(epochs, lr, model, train_loader, val_loader)"
      ],
      "execution_count": 144,
      "outputs": [
        {
          "output_type": "stream",
          "text": [
            "Epoch [20], val_loss: 1470180.7500\n",
            "Epoch [40], val_loss: 453633.0312\n",
            "Epoch [60], val_loss: 1302204.1250\n",
            "Epoch [80], val_loss: 489357.5625\n",
            "Epoch [100], val_loss: 379383.1250\n"
          ],
          "name": "stdout"
        }
      ]
    },
    {
      "cell_type": "code",
      "metadata": {
        "id": "G7_hh7r9Oc4c",
        "colab": {
          "base_uri": "https://localhost:8080/"
        },
        "outputId": "59fe9b34-22ed-4ca8-afeb-004167cd1fea"
      },
      "source": [
        "epochs = 100\n",
        "lr = 1.e-3\n",
        "history2 = fit(epochs, lr, model, train_loader, val_loader)"
      ],
      "execution_count": 145,
      "outputs": [
        {
          "output_type": "stream",
          "text": [
            "Epoch [20], val_loss: 103405.5156\n",
            "Epoch [40], val_loss: 56491.5312\n",
            "Epoch [60], val_loss: 62103.4570\n",
            "Epoch [80], val_loss: 47137.3594\n",
            "Epoch [100], val_loss: 129205.6719\n"
          ],
          "name": "stdout"
        }
      ]
    },
    {
      "cell_type": "code",
      "metadata": {
        "id": "b07p3R-dOc4d",
        "colab": {
          "base_uri": "https://localhost:8080/"
        },
        "outputId": "d8dd3719-c3a7-4d23-9047-63a974cff185"
      },
      "source": [
        "epochs = 100\n",
        "lr = 1.e-4\n",
        "history3 = fit(epochs, lr, model, train_loader, val_loader)"
      ],
      "execution_count": 146,
      "outputs": [
        {
          "output_type": "stream",
          "text": [
            "Epoch [20], val_loss: 13843.0303\n",
            "Epoch [40], val_loss: 14192.7529\n",
            "Epoch [60], val_loss: 74.0108\n",
            "Epoch [80], val_loss: 3118.6499\n",
            "Epoch [100], val_loss: 10075.0205\n"
          ],
          "name": "stdout"
        }
      ]
    },
    {
      "cell_type": "code",
      "metadata": {
        "id": "Se70FCAyOc4d",
        "colab": {
          "base_uri": "https://localhost:8080/"
        },
        "outputId": "f00cc7b0-7750-43a2-ead7-b36176149ece"
      },
      "source": [
        "epochs = 100\n",
        "lr = 1.e-5\n",
        "history4 = fit(epochs, lr, model, train_loader, val_loader)"
      ],
      "execution_count": 147,
      "outputs": [
        {
          "output_type": "stream",
          "text": [
            "Epoch [20], val_loss: 1721.8623\n",
            "Epoch [40], val_loss: 1667.9333\n",
            "Epoch [60], val_loss: 1673.8256\n",
            "Epoch [80], val_loss: 579.4636\n",
            "Epoch [100], val_loss: 1750.6163\n"
          ],
          "name": "stdout"
        }
      ]
    },
    {
      "cell_type": "code",
      "metadata": {
        "id": "B2HpaigKOc4e",
        "colab": {
          "base_uri": "https://localhost:8080/"
        },
        "outputId": "c45dcead-717b-47ac-f8a3-4e0f5fadc257"
      },
      "source": [
        "epochs = 100\n",
        "lr = 1.e-6\n",
        "history5 = fit(epochs, lr, model, train_loader, val_loader)"
      ],
      "execution_count": 148,
      "outputs": [
        {
          "output_type": "stream",
          "text": [
            "Epoch [20], val_loss: 102.5116\n",
            "Epoch [40], val_loss: 79.3332\n",
            "Epoch [60], val_loss: 68.0602\n",
            "Epoch [80], val_loss: 68.9061\n",
            "Epoch [100], val_loss: 95.5987\n"
          ],
          "name": "stdout"
        }
      ]
    },
    {
      "cell_type": "markdown",
      "metadata": {
        "id": "PIsQm0WeOc4e"
      },
      "source": [
        "**Q: What is the final validation loss of your model?**"
      ]
    },
    {
      "cell_type": "code",
      "metadata": {
        "id": "3KvDiFySOc4e"
      },
      "source": [
        "val_loss = 95.5987"
      ],
      "execution_count": 150,
      "outputs": []
    },
    {
      "cell_type": "markdown",
      "metadata": {
        "id": "BSHtPaKUOc4f"
      },
      "source": [
        "Let's log the final validation loss to Jovian and commit the notebook"
      ]
    },
    {
      "cell_type": "code",
      "metadata": {
        "id": "zuorThlbOc4f",
        "colab": {
          "base_uri": "https://localhost:8080/"
        },
        "outputId": "a6a3ba97-074f-4602-ad2d-95ba4dbf1366"
      },
      "source": [
        "jovian.log_metrics(val_loss=val_loss)"
      ],
      "execution_count": 151,
      "outputs": [
        {
          "output_type": "stream",
          "text": [
            "[jovian] Metrics logged.\u001b[0m\n"
          ],
          "name": "stdout"
        }
      ]
    },
    {
      "cell_type": "code",
      "metadata": {
        "id": "2WNqukNWOc4g",
        "colab": {
          "base_uri": "https://localhost:8080/",
          "height": 103
        },
        "outputId": "e7ead94f-8032-4907-d0cb-cdce0fcca4d9"
      },
      "source": [
        "jovian.commit(project=project_name, environment=None)"
      ],
      "execution_count": 152,
      "outputs": [
        {
          "output_type": "stream",
          "text": [
            "[jovian] Detected Colab notebook...\u001b[0m\n",
            "[jovian] Uploading colab notebook to Jovian...\u001b[0m\n",
            "[jovian] Attaching records (metrics, hyperparameters, dataset etc.)\u001b[0m\n",
            "[jovian] Committed successfully! https://jovian.ai/boubekri/02-insurance-linear-regression\u001b[0m\n"
          ],
          "name": "stdout"
        },
        {
          "output_type": "execute_result",
          "data": {
            "application/vnd.google.colaboratory.intrinsic+json": {
              "type": "string"
            },
            "text/plain": [
              "'https://jovian.ai/boubekri/02-insurance-linear-regression'"
            ]
          },
          "metadata": {
            "tags": []
          },
          "execution_count": 152
        }
      ]
    },
    {
      "cell_type": "markdown",
      "metadata": {
        "id": "5aVaxcm9Oc4h"
      },
      "source": [
        "Now scroll back up, re-initialize the model, and try different set of values for batch size, number of epochs, learning rate etc. Commit each experiment and use the \"Compare\" and \"View Diff\" options on Jovian to compare the different results."
      ]
    },
    {
      "cell_type": "markdown",
      "metadata": {
        "id": "9Lu0P8YkOc4i"
      },
      "source": [
        "## Step 5: Make predictions using the trained model\n",
        "\n",
        "**Q: Complete the following function definition to make predictions on a single input**"
      ]
    },
    {
      "cell_type": "code",
      "metadata": {
        "id": "hKZiNnrAOc4j"
      },
      "source": [
        "def predict_single(input, target, model):\n",
        "    inputs = input.unsqueeze(0)\n",
        "    predictions = model(inputs)                # fill this\n",
        "    prediction = predictions[0].detach()\n",
        "    print(\"Input:\", input)\n",
        "    print(\"Target:\", target)\n",
        "    print(\"Prediction:\", prediction)"
      ],
      "execution_count": 153,
      "outputs": []
    },
    {
      "cell_type": "code",
      "metadata": {
        "id": "sv8C1jFZOc4j",
        "colab": {
          "base_uri": "https://localhost:8080/"
        },
        "outputId": "e21ebd3c-92d4-4b1a-e69b-dca64cb58278"
      },
      "source": [
        "input, target = val_ds[0]\n",
        "predict_single(input, target, model)"
      ],
      "execution_count": 154,
      "outputs": [
        {
          "output_type": "stream",
          "text": [
            "Input: tensor([  32.0000,    0.0000,   42.8934,    0.0000,    0.0000, 4233.8286])\n",
            "Target: tensor([4233.8286])\n",
            "Prediction: tensor([4338.7236])\n"
          ],
          "name": "stdout"
        }
      ]
    },
    {
      "cell_type": "code",
      "metadata": {
        "id": "sb6_ZXVYOc4k",
        "colab": {
          "base_uri": "https://localhost:8080/"
        },
        "outputId": "9ab388e3-aaf0-4a85-cfb8-7b763068ca9a"
      },
      "source": [
        "input, target = val_ds[10]\n",
        "predict_single(input, target, model)"
      ],
      "execution_count": 155,
      "outputs": [
        {
          "output_type": "stream",
          "text": [
            "Input: tensor([  40.0000,    0.0000,   28.7120,    0.0000,    0.0000, 6265.6006])\n",
            "Target: tensor([6265.6006])\n",
            "Prediction: tensor([6368.4004])\n"
          ],
          "name": "stdout"
        }
      ]
    },
    {
      "cell_type": "code",
      "metadata": {
        "id": "5-uV5oP7Oc4k",
        "colab": {
          "base_uri": "https://localhost:8080/"
        },
        "outputId": "670af10c-fa72-46cc-9a7d-49c9a629b7ce"
      },
      "source": [
        "input, target = val_ds[23]\n",
        "predict_single(input, target, model)"
      ],
      "execution_count": 156,
      "outputs": [
        {
          "output_type": "stream",
          "text": [
            "Input: tensor([  19.0000,    0.0000,   31.1467,    0.0000,    0.0000, 2258.5164])\n",
            "Target: tensor([2258.5164])\n",
            "Prediction: tensor([2327.2234])\n"
          ],
          "name": "stdout"
        }
      ]
    },
    {
      "cell_type": "markdown",
      "metadata": {
        "id": "yOV2vSyVOc4k"
      },
      "source": [
        "Are you happy with your model's predictions? Try to improve them further."
      ]
    },
    {
      "cell_type": "markdown",
      "metadata": {
        "id": "s7GCRPw_Oc4k"
      },
      "source": [
        "## (Optional) Step 6: Try another dataset & blog about it\n",
        "\n",
        "While this last step is optional for the submission of your assignment, we highly recommend that you do it. Try to replicate this notebook for a different linear regression or logistic regression problem. This will help solidify your understanding, and give you a chance to differentiate the generic patterns in machine learning from problem-specific details.You can use one of these starer notebooks (just change the dataset):\n",
        "\n",
        "- Linear regression (minimal): https://jovian.ai/aakashns/housing-linear-minimal\n",
        "- Logistic regression (minimal): https://jovian.ai/aakashns/mnist-logistic-minimal\n",
        "\n",
        "Here are some sources to find good datasets:\n",
        "\n",
        "- https://lionbridge.ai/datasets/10-open-datasets-for-linear-regression/\n",
        "- https://www.kaggle.com/rtatman/datasets-for-regression-analysis\n",
        "- https://archive.ics.uci.edu/ml/datasets.php?format=&task=reg&att=&area=&numAtt=&numIns=&type=&sort=nameUp&view=table\n",
        "- https://people.sc.fsu.edu/~jburkardt/datasets/regression/regression.html\n",
        "- https://archive.ics.uci.edu/ml/datasets/wine+quality\n",
        "- https://pytorch.org/docs/stable/torchvision/datasets.html\n",
        "\n",
        "We also recommend that you write a blog about your approach to the problem. Here is a suggested structure for your post (feel free to experiment with it):\n",
        "\n",
        "- Interesting title & subtitle\n",
        "- Overview of what the blog covers (which dataset, linear regression or logistic regression, intro to PyTorch)\n",
        "- Downloading & exploring the data\n",
        "- Preparing the data for training\n",
        "- Creating a model using PyTorch\n",
        "- Training the model to fit the data\n",
        "- Your thoughts on how to experiment with different hyperparmeters to reduce loss\n",
        "- Making predictions using the model\n",
        "\n",
        "As with the previous assignment, you can [embed Juptyer notebook cells & outputs from Jovian](https://medium.com/jovianml/share-and-embed-jupyter-notebooks-online-with-jovian-ml-df709a03064e) into your blog. \n",
        "\n",
        "Don't forget to share your work on the forum: https://jovian.ai/forum/t/linear-regression-and-logistic-regression-notebooks-and-blog-posts/14039"
      ]
    },
    {
      "cell_type": "code",
      "metadata": {
        "id": "uR1gwAtVOc4l",
        "colab": {
          "base_uri": "https://localhost:8080/",
          "height": 171
        },
        "outputId": "e31a895d-5f70-4374-e8dd-cc742008e2aa"
      },
      "source": [
        "jovian.commit(project=project_name, environment=None)\n",
        "jovian.commit(project=project_name, environment=None) # try again, kaggle fails sometimes"
      ],
      "execution_count": 157,
      "outputs": [
        {
          "output_type": "stream",
          "text": [
            "[jovian] Detected Colab notebook...\u001b[0m\n",
            "[jovian] Uploading colab notebook to Jovian...\u001b[0m\n",
            "[jovian] Attaching records (metrics, hyperparameters, dataset etc.)\u001b[0m\n",
            "[jovian] Committed successfully! https://jovian.ai/boubekri/02-insurance-linear-regression\u001b[0m\n",
            "[jovian] Detected Colab notebook...\u001b[0m\n",
            "[jovian] Uploading colab notebook to Jovian...\u001b[0m\n",
            "[jovian] Attaching records (metrics, hyperparameters, dataset etc.)\u001b[0m\n",
            "[jovian] Committed successfully! https://jovian.ai/boubekri/02-insurance-linear-regression\u001b[0m\n"
          ],
          "name": "stdout"
        },
        {
          "output_type": "execute_result",
          "data": {
            "application/vnd.google.colaboratory.intrinsic+json": {
              "type": "string"
            },
            "text/plain": [
              "'https://jovian.ai/boubekri/02-insurance-linear-regression'"
            ]
          },
          "metadata": {
            "tags": []
          },
          "execution_count": 157
        }
      ]
    },
    {
      "cell_type": "code",
      "metadata": {
        "id": "oPX19eYfOc4l",
        "colab": {
          "base_uri": "https://localhost:8080/"
        },
        "outputId": "ca74ee84-1cf1-4842-ea7b-87053a97f8cc"
      },
      "source": [
        "jovian.submit(assignment=\"zerotogans-a2\")"
      ],
      "execution_count": 158,
      "outputs": [
        {
          "output_type": "stream",
          "text": [
            "[jovian] Detected Colab notebook...\u001b[0m\n",
            "[jovian] Uploading colab notebook to Jovian...\u001b[0m\n",
            "[jovian] Capturing environment..\u001b[0m\n",
            "[jovian] Attaching records (metrics, hyperparameters, dataset etc.)\u001b[0m\n",
            "[jovian] Committed successfully! https://jovian.ai/boubekri/02-insurance-linear-regression\u001b[0m\n",
            "[jovian] Submitting assignment..\u001b[0m\n",
            "[jovian] Verify your submission at https://jovian.ai/learn/deep-learning-with-pytorch-zero-to-gans/assignment/assignment-2-train-your-first-model\u001b[0m\n"
          ],
          "name": "stdout"
        }
      ]
    }
  ]
}