{
  "nbformat": 4,
  "nbformat_minor": 0,
  "metadata": {
    "kernelspec": {
      "display_name": "Python 3",
      "language": "python",
      "name": "python3"
    },
    "language_info": {
      "codemirror_mode": {
        "name": "ipython",
        "version": 3
      },
      "file_extension": ".py",
      "mimetype": "text/x-python",
      "name": "python",
      "nbconvert_exporter": "python",
      "pygments_lexer": "ipython3",
      "version": "3.8.5"
    },
    "colab": {
      "name": "02-insurance-linear.ipynb",
      "provenance": [],
      "include_colab_link": true
    },
    "widgets": {
      "application/vnd.jupyter.widget-state+json": {
        "cc0e202d9fb944f7bafc34267c16852f": {
          "model_module": "@jupyter-widgets/controls",
          "model_name": "HBoxModel",
          "state": {
            "_view_name": "HBoxView",
            "_dom_classes": [],
            "_model_name": "HBoxModel",
            "_view_module": "@jupyter-widgets/controls",
            "_model_module_version": "1.5.0",
            "_view_count": null,
            "_view_module_version": "1.5.0",
            "box_style": "",
            "layout": "IPY_MODEL_157d1f658869447aa9ddd0b6cb12c054",
            "_model_module": "@jupyter-widgets/controls",
            "children": [
              "IPY_MODEL_339c5d6a3cd54b6e9ffff241e2d28def",
              "IPY_MODEL_1a6094c0cee54aca922e2370fab13c98"
            ]
          }
        },
        "157d1f658869447aa9ddd0b6cb12c054": {
          "model_module": "@jupyter-widgets/base",
          "model_name": "LayoutModel",
          "state": {
            "_view_name": "LayoutView",
            "grid_template_rows": null,
            "right": null,
            "justify_content": null,
            "_view_module": "@jupyter-widgets/base",
            "overflow": null,
            "_model_module_version": "1.2.0",
            "_view_count": null,
            "flex_flow": null,
            "width": null,
            "min_width": null,
            "border": null,
            "align_items": null,
            "bottom": null,
            "_model_module": "@jupyter-widgets/base",
            "top": null,
            "grid_column": null,
            "overflow_y": null,
            "overflow_x": null,
            "grid_auto_flow": null,
            "grid_area": null,
            "grid_template_columns": null,
            "flex": null,
            "_model_name": "LayoutModel",
            "justify_items": null,
            "grid_row": null,
            "max_height": null,
            "align_content": null,
            "visibility": null,
            "align_self": null,
            "height": null,
            "min_height": null,
            "padding": null,
            "grid_auto_rows": null,
            "grid_gap": null,
            "max_width": null,
            "order": null,
            "_view_module_version": "1.2.0",
            "grid_template_areas": null,
            "object_position": null,
            "object_fit": null,
            "grid_auto_columns": null,
            "margin": null,
            "display": null,
            "left": null
          }
        },
        "339c5d6a3cd54b6e9ffff241e2d28def": {
          "model_module": "@jupyter-widgets/controls",
          "model_name": "FloatProgressModel",
          "state": {
            "_view_name": "ProgressView",
            "style": "IPY_MODEL_2f4b8e69adb3490582c663d14c7d4153",
            "_dom_classes": [],
            "description": "",
            "_model_name": "FloatProgressModel",
            "bar_style": "success",
            "max": 55628,
            "_view_module": "@jupyter-widgets/controls",
            "_model_module_version": "1.5.0",
            "value": 55628,
            "_view_count": null,
            "_view_module_version": "1.5.0",
            "orientation": "horizontal",
            "min": 0,
            "description_tooltip": null,
            "_model_module": "@jupyter-widgets/controls",
            "layout": "IPY_MODEL_fd3b38ad092a4882963e228f6a933123"
          }
        },
        "1a6094c0cee54aca922e2370fab13c98": {
          "model_module": "@jupyter-widgets/controls",
          "model_name": "HTMLModel",
          "state": {
            "_view_name": "HTMLView",
            "style": "IPY_MODEL_91a4548f6dd54386985f0b1e27a60e46",
            "_dom_classes": [],
            "description": "",
            "_model_name": "HTMLModel",
            "placeholder": "​",
            "_view_module": "@jupyter-widgets/controls",
            "_model_module_version": "1.5.0",
            "value": " 56320/? [03:24&lt;00:00, 275.23it/s]",
            "_view_count": null,
            "_view_module_version": "1.5.0",
            "description_tooltip": null,
            "_model_module": "@jupyter-widgets/controls",
            "layout": "IPY_MODEL_3b06d5072562445db1d1ad78cfbec6ef"
          }
        },
        "2f4b8e69adb3490582c663d14c7d4153": {
          "model_module": "@jupyter-widgets/controls",
          "model_name": "ProgressStyleModel",
          "state": {
            "_view_name": "StyleView",
            "_model_name": "ProgressStyleModel",
            "description_width": "initial",
            "_view_module": "@jupyter-widgets/base",
            "_model_module_version": "1.5.0",
            "_view_count": null,
            "_view_module_version": "1.2.0",
            "bar_color": null,
            "_model_module": "@jupyter-widgets/controls"
          }
        },
        "fd3b38ad092a4882963e228f6a933123": {
          "model_module": "@jupyter-widgets/base",
          "model_name": "LayoutModel",
          "state": {
            "_view_name": "LayoutView",
            "grid_template_rows": null,
            "right": null,
            "justify_content": null,
            "_view_module": "@jupyter-widgets/base",
            "overflow": null,
            "_model_module_version": "1.2.0",
            "_view_count": null,
            "flex_flow": null,
            "width": null,
            "min_width": null,
            "border": null,
            "align_items": null,
            "bottom": null,
            "_model_module": "@jupyter-widgets/base",
            "top": null,
            "grid_column": null,
            "overflow_y": null,
            "overflow_x": null,
            "grid_auto_flow": null,
            "grid_area": null,
            "grid_template_columns": null,
            "flex": null,
            "_model_name": "LayoutModel",
            "justify_items": null,
            "grid_row": null,
            "max_height": null,
            "align_content": null,
            "visibility": null,
            "align_self": null,
            "height": null,
            "min_height": null,
            "padding": null,
            "grid_auto_rows": null,
            "grid_gap": null,
            "max_width": null,
            "order": null,
            "_view_module_version": "1.2.0",
            "grid_template_areas": null,
            "object_position": null,
            "object_fit": null,
            "grid_auto_columns": null,
            "margin": null,
            "display": null,
            "left": null
          }
        },
        "91a4548f6dd54386985f0b1e27a60e46": {
          "model_module": "@jupyter-widgets/controls",
          "model_name": "DescriptionStyleModel",
          "state": {
            "_view_name": "StyleView",
            "_model_name": "DescriptionStyleModel",
            "description_width": "",
            "_view_module": "@jupyter-widgets/base",
            "_model_module_version": "1.5.0",
            "_view_count": null,
            "_view_module_version": "1.2.0",
            "_model_module": "@jupyter-widgets/controls"
          }
        },
        "3b06d5072562445db1d1ad78cfbec6ef": {
          "model_module": "@jupyter-widgets/base",
          "model_name": "LayoutModel",
          "state": {
            "_view_name": "LayoutView",
            "grid_template_rows": null,
            "right": null,
            "justify_content": null,
            "_view_module": "@jupyter-widgets/base",
            "overflow": null,
            "_model_module_version": "1.2.0",
            "_view_count": null,
            "flex_flow": null,
            "width": null,
            "min_width": null,
            "border": null,
            "align_items": null,
            "bottom": null,
            "_model_module": "@jupyter-widgets/base",
            "top": null,
            "grid_column": null,
            "overflow_y": null,
            "overflow_x": null,
            "grid_auto_flow": null,
            "grid_area": null,
            "grid_template_columns": null,
            "flex": null,
            "_model_name": "LayoutModel",
            "justify_items": null,
            "grid_row": null,
            "max_height": null,
            "align_content": null,
            "visibility": null,
            "align_self": null,
            "height": null,
            "min_height": null,
            "padding": null,
            "grid_auto_rows": null,
            "grid_gap": null,
            "max_width": null,
            "order": null,
            "_view_module_version": "1.2.0",
            "grid_template_areas": null,
            "object_position": null,
            "object_fit": null,
            "grid_auto_columns": null,
            "margin": null,
            "display": null,
            "left": null
          }
        }
      }
    }
  },
  "cells": [
    {
      "cell_type": "markdown",
      "metadata": {
        "id": "view-in-github",
        "colab_type": "text"
      },
      "source": [
        "<a href=\"https://colab.research.google.com/github/dajebbar/Deep-Learning-with-PyTorch-Zero-to-GANs/blob/main/02_insurance_linear.ipynb\" target=\"_parent\"><img src=\"https://colab.research.google.com/assets/colab-badge.svg\" alt=\"Open In Colab\"/></a>"
      ]
    },
    {
      "cell_type": "code",
      "metadata": {
        "colab": {
          "base_uri": "https://localhost:8080/"
        },
        "id": "289746WTOc3r",
        "outputId": "d7bfcc18-04a0-4a2a-bacd-ab20a4487881"
      },
      "source": [
        "# Jovian Commit Essentials\n",
        "# Please retain and execute this cell without modifying the contents for `jovian.commit` to work\n",
        "!pip install jovian --upgrade -q\n",
        "import jovian\n",
        "jovian.set_project('02-insurance-linear-regression')\n",
        "jovian.set_colab_id('1xgtgs5iVsUgVbeF6k2su8ThwENBIMtj2')"
      ],
      "execution_count": 1,
      "outputs": [
        {
          "output_type": "stream",
          "text": [
            "\u001b[?25l\r\u001b[K     |████▉                           | 10kB 19.5MB/s eta 0:00:01\r\u001b[K     |█████████▊                      | 20kB 23.2MB/s eta 0:00:01\r\u001b[K     |██████████████▌                 | 30kB 15.3MB/s eta 0:00:01\r\u001b[K     |███████████████████▍            | 40kB 11.2MB/s eta 0:00:01\r\u001b[K     |████████████████████████▏       | 51kB 9.9MB/s eta 0:00:01\r\u001b[K     |█████████████████████████████   | 61kB 9.2MB/s eta 0:00:01\r\u001b[K     |████████████████████████████████| 71kB 4.5MB/s \n",
            "\u001b[?25h  Building wheel for uuid (setup.py) ... \u001b[?25l\u001b[?25hdone\n"
          ],
          "name": "stdout"
        }
      ]
    },
    {
      "cell_type": "markdown",
      "metadata": {
        "_cell_guid": "b1076dfc-b9ad-4769-8c92-a6c4dae69d19",
        "_uuid": "8f2839f25d086af736a60e9eeb907d3b93b6e0e5",
        "id": "eah5grk8Oc30"
      },
      "source": [
        "# Insurance cost prediction using linear regression\n",
        "\n",
        "Make a submisson here: https://jovian.ai/learn/deep-learning-with-pytorch-zero-to-gans/assignment/assignment-2-train-your-first-model\n",
        "\n",
        "In this assignment we're going to use information like a person's age, sex, BMI, no. of children and smoking habit to predict the price of yearly medical bills. This kind of model is useful for insurance companies to determine the yearly insurance premium for a person. The dataset for this problem is taken from [Kaggle](https://www.kaggle.com/mirichoi0218/insurance).\n",
        "\n",
        "\n",
        "We will create a model with the following steps:\n",
        "1. Download and explore the dataset\n",
        "2. Prepare the dataset for training\n",
        "3. Create a linear regression model\n",
        "4. Train the model to fit the data\n",
        "5. Make predictions using the trained model\n",
        "\n",
        "\n",
        "This assignment builds upon the concepts from the first 2 lessons. It will help to review these Jupyter notebooks:\n",
        "- PyTorch basics: https://jovian.ai/aakashns/01-pytorch-basics\n",
        "- Linear Regression: https://jovian.ai/aakashns/02-linear-regression\n",
        "- Logistic Regression: https://jovian.ai/aakashns/03-logistic-regression\n",
        "- Linear regression (minimal): https://jovian.ai/aakashns/housing-linear-minimal\n",
        "- Logistic regression (minimal): https://jovian.ai/aakashns/mnist-logistic-minimal\n",
        "\n",
        "As you go through this notebook, you will find a **???** in certain places. Your job is to replace the **???** with appropriate code or values, to ensure that the notebook runs properly end-to-end . In some cases, you'll be required to choose some hyperparameters (learning rate, batch size etc.). Try to experiment with the hypeparameters to get the lowest loss.\n"
      ]
    },
    {
      "cell_type": "code",
      "metadata": {
        "id": "5EqcLvY5Oc32"
      },
      "source": [
        "# Uncomment and run the appropriate command for your operating system, if required\n",
        "\n",
        "# Linux / Binder\n",
        "# !pip install numpy matplotlib pandas torch==1.7.0+cpu torchvision==0.8.1+cpu torchaudio==0.7.0 -f https://download.pytorch.org/whl/torch_stable.html\n",
        "\n",
        "# Windows\n",
        "# !pip install numpy matplotlib pandas torch==1.7.0+cpu torchvision==0.8.1+cpu torchaudio==0.7.0 -f https://download.pytorch.org/whl/torch_stable.html\n",
        "\n",
        "# MacOS\n",
        "# !pip install numpy matplotlib pandas torch torchvision torchaudio"
      ],
      "execution_count": null,
      "outputs": []
    },
    {
      "cell_type": "code",
      "metadata": {
        "id": "bgxaYaYNOc33"
      },
      "source": [
        "import torch\n",
        "import jovian\n",
        "import torchvision\n",
        "import torch.nn as nn\n",
        "import pandas as pd\n",
        "import matplotlib.pyplot as plt\n",
        "import torch.nn.functional as F\n",
        "from torchvision.datasets.utils import download_url\n",
        "from torch.utils.data import DataLoader, TensorDataset, random_split"
      ],
      "execution_count": 2,
      "outputs": []
    },
    {
      "cell_type": "code",
      "metadata": {
        "id": "IrdYW17YOc34"
      },
      "source": [
        "project_name='02-insurance-linear-regression' # will be used by jovian.commit"
      ],
      "execution_count": 3,
      "outputs": []
    },
    {
      "cell_type": "markdown",
      "metadata": {
        "id": "OjmTu9QOOc35"
      },
      "source": [
        "## Step 1: Download and explore the data\n",
        "\n",
        "Let us begin by downloading the data. We'll use the `download_url` function from PyTorch to get the data as a CSV (comma-separated values) file. "
      ]
    },
    {
      "cell_type": "code",
      "metadata": {
        "_cell_guid": "79c7e3d0-c299-4dcb-8224-4455121ee9b0",
        "_uuid": "d629ff2d2480ee46fbb7e2d37f6b5fab8052498a",
        "colab": {
          "base_uri": "https://localhost:8080/",
          "height": 83,
          "referenced_widgets": [
            "cc0e202d9fb944f7bafc34267c16852f",
            "157d1f658869447aa9ddd0b6cb12c054",
            "339c5d6a3cd54b6e9ffff241e2d28def",
            "1a6094c0cee54aca922e2370fab13c98",
            "2f4b8e69adb3490582c663d14c7d4153",
            "fd3b38ad092a4882963e228f6a933123",
            "91a4548f6dd54386985f0b1e27a60e46",
            "3b06d5072562445db1d1ad78cfbec6ef"
          ]
        },
        "id": "siXj_WgiOc35",
        "outputId": "d0cd82bf-681b-401b-8891-1c7692375684"
      },
      "source": [
        "DATASET_URL = \"https://hub.jovian.ml/wp-content/uploads/2020/05/insurance.csv\"\n",
        "DATA_FILENAME = \"insurance.csv\"\n",
        "download_url(DATASET_URL, '.')"
      ],
      "execution_count": 4,
      "outputs": [
        {
          "output_type": "stream",
          "text": [
            "Downloading https://hub.jovian.ml/wp-content/uploads/2020/05/insurance.csv to ./insurance.csv\n"
          ],
          "name": "stdout"
        },
        {
          "output_type": "display_data",
          "data": {
            "application/vnd.jupyter.widget-view+json": {
              "model_id": "cc0e202d9fb944f7bafc34267c16852f",
              "version_minor": 0,
              "version_major": 2
            },
            "text/plain": [
              "HBox(children=(FloatProgress(value=0.0, max=55628.0), HTML(value='')))"
            ]
          },
          "metadata": {
            "tags": []
          }
        },
        {
          "output_type": "stream",
          "text": [
            "\n"
          ],
          "name": "stdout"
        }
      ]
    },
    {
      "cell_type": "markdown",
      "metadata": {
        "id": "fkXXYEhgOc38"
      },
      "source": [
        "To load the dataset into memory, we'll use the `read_csv` function from the `pandas` library. The data will be loaded as a Pandas dataframe. See this short tutorial to learn more: https://data36.com/pandas-tutorial-1-basics-reading-data-files-dataframes-data-selection/"
      ]
    },
    {
      "cell_type": "code",
      "metadata": {
        "colab": {
          "base_uri": "https://localhost:8080/",
          "height": 204
        },
        "id": "Wf3FVBZnOc39",
        "outputId": "1fbc5a1c-7c17-4f46-8dac-ccc3ea365222"
      },
      "source": [
        "dataframe_raw = pd.read_csv(DATA_FILENAME)\n",
        "dataframe_raw.head()"
      ],
      "execution_count": 5,
      "outputs": [
        {
          "output_type": "execute_result",
          "data": {
            "text/html": [
              "<div>\n",
              "<style scoped>\n",
              "    .dataframe tbody tr th:only-of-type {\n",
              "        vertical-align: middle;\n",
              "    }\n",
              "\n",
              "    .dataframe tbody tr th {\n",
              "        vertical-align: top;\n",
              "    }\n",
              "\n",
              "    .dataframe thead th {\n",
              "        text-align: right;\n",
              "    }\n",
              "</style>\n",
              "<table border=\"1\" class=\"dataframe\">\n",
              "  <thead>\n",
              "    <tr style=\"text-align: right;\">\n",
              "      <th></th>\n",
              "      <th>age</th>\n",
              "      <th>sex</th>\n",
              "      <th>bmi</th>\n",
              "      <th>children</th>\n",
              "      <th>smoker</th>\n",
              "      <th>region</th>\n",
              "      <th>charges</th>\n",
              "    </tr>\n",
              "  </thead>\n",
              "  <tbody>\n",
              "    <tr>\n",
              "      <th>0</th>\n",
              "      <td>19</td>\n",
              "      <td>female</td>\n",
              "      <td>27.900</td>\n",
              "      <td>0</td>\n",
              "      <td>yes</td>\n",
              "      <td>southwest</td>\n",
              "      <td>16884.92400</td>\n",
              "    </tr>\n",
              "    <tr>\n",
              "      <th>1</th>\n",
              "      <td>18</td>\n",
              "      <td>male</td>\n",
              "      <td>33.770</td>\n",
              "      <td>1</td>\n",
              "      <td>no</td>\n",
              "      <td>southeast</td>\n",
              "      <td>1725.55230</td>\n",
              "    </tr>\n",
              "    <tr>\n",
              "      <th>2</th>\n",
              "      <td>28</td>\n",
              "      <td>male</td>\n",
              "      <td>33.000</td>\n",
              "      <td>3</td>\n",
              "      <td>no</td>\n",
              "      <td>southeast</td>\n",
              "      <td>4449.46200</td>\n",
              "    </tr>\n",
              "    <tr>\n",
              "      <th>3</th>\n",
              "      <td>33</td>\n",
              "      <td>male</td>\n",
              "      <td>22.705</td>\n",
              "      <td>0</td>\n",
              "      <td>no</td>\n",
              "      <td>northwest</td>\n",
              "      <td>21984.47061</td>\n",
              "    </tr>\n",
              "    <tr>\n",
              "      <th>4</th>\n",
              "      <td>32</td>\n",
              "      <td>male</td>\n",
              "      <td>28.880</td>\n",
              "      <td>0</td>\n",
              "      <td>no</td>\n",
              "      <td>northwest</td>\n",
              "      <td>3866.85520</td>\n",
              "    </tr>\n",
              "  </tbody>\n",
              "</table>\n",
              "</div>"
            ],
            "text/plain": [
              "   age     sex     bmi  children smoker     region      charges\n",
              "0   19  female  27.900         0    yes  southwest  16884.92400\n",
              "1   18    male  33.770         1     no  southeast   1725.55230\n",
              "2   28    male  33.000         3     no  southeast   4449.46200\n",
              "3   33    male  22.705         0     no  northwest  21984.47061\n",
              "4   32    male  28.880         0     no  northwest   3866.85520"
            ]
          },
          "metadata": {
            "tags": []
          },
          "execution_count": 5
        }
      ]
    },
    {
      "cell_type": "markdown",
      "metadata": {
        "id": "Kz31PVs5Oc3-"
      },
      "source": [
        "We're going to do a slight customization of the data, so that you every participant receives a slightly different version of the dataset. Fill in your name below as a string (enter at least 5 characters)"
      ]
    },
    {
      "cell_type": "code",
      "metadata": {
        "id": "Os9dp54xOc3_"
      },
      "source": [
        "your_name = 'dajebbar' # at least 5 characters"
      ],
      "execution_count": 7,
      "outputs": []
    },
    {
      "cell_type": "markdown",
      "metadata": {
        "id": "CaQAAzO2Oc4A"
      },
      "source": [
        "The `customize_dataset` function will customize the dataset slightly using your name as a source of random numbers."
      ]
    },
    {
      "cell_type": "code",
      "metadata": {
        "id": "R4h8TZduOc4A"
      },
      "source": [
        "def customize_dataset(dataframe_raw, rand_str):\n",
        "    dataframe = dataframe_raw.copy(deep=True)\n",
        "    # drop some rows\n",
        "    dataframe = dataframe.sample(int(0.95*len(dataframe)), random_state=int(ord(rand_str[0])))\n",
        "    # scale input\n",
        "    dataframe.bmi = dataframe.bmi * ord(rand_str[1])/100.\n",
        "    # scale target\n",
        "    dataframe.charges = dataframe.charges * ord(rand_str[2])/100.\n",
        "    # drop column\n",
        "    if ord(rand_str[3]) % 2 == 1:\n",
        "        dataframe = dataframe.drop(['region'], axis=1)\n",
        "    return dataframe"
      ],
      "execution_count": 8,
      "outputs": []
    },
    {
      "cell_type": "code",
      "metadata": {
        "colab": {
          "base_uri": "https://localhost:8080/",
          "height": 204
        },
        "id": "OlKSm6_LOc4C",
        "outputId": "148be78a-8b2f-4acd-9716-67e329faac87"
      },
      "source": [
        "dataframe = customize_dataset(dataframe_raw, your_name)\n",
        "dataframe.head()"
      ],
      "execution_count": 9,
      "outputs": [
        {
          "output_type": "execute_result",
          "data": {
            "text/html": [
              "<div>\n",
              "<style scoped>\n",
              "    .dataframe tbody tr th:only-of-type {\n",
              "        vertical-align: middle;\n",
              "    }\n",
              "\n",
              "    .dataframe tbody tr th {\n",
              "        vertical-align: top;\n",
              "    }\n",
              "\n",
              "    .dataframe thead th {\n",
              "        text-align: right;\n",
              "    }\n",
              "</style>\n",
              "<table border=\"1\" class=\"dataframe\">\n",
              "  <thead>\n",
              "    <tr style=\"text-align: right;\">\n",
              "      <th></th>\n",
              "      <th>age</th>\n",
              "      <th>sex</th>\n",
              "      <th>bmi</th>\n",
              "      <th>children</th>\n",
              "      <th>smoker</th>\n",
              "      <th>charges</th>\n",
              "    </tr>\n",
              "  </thead>\n",
              "  <tbody>\n",
              "    <tr>\n",
              "      <th>12</th>\n",
              "      <td>23</td>\n",
              "      <td>male</td>\n",
              "      <td>33.36800</td>\n",
              "      <td>0</td>\n",
              "      <td>no</td>\n",
              "      <td>1936.453580</td>\n",
              "    </tr>\n",
              "    <tr>\n",
              "      <th>306</th>\n",
              "      <td>28</td>\n",
              "      <td>female</td>\n",
              "      <td>26.67500</td>\n",
              "      <td>2</td>\n",
              "      <td>no</td>\n",
              "      <td>21388.331398</td>\n",
              "    </tr>\n",
              "    <tr>\n",
              "      <th>318</th>\n",
              "      <td>44</td>\n",
              "      <td>female</td>\n",
              "      <td>26.81565</td>\n",
              "      <td>0</td>\n",
              "      <td>no</td>\n",
              "      <td>7866.466223</td>\n",
              "    </tr>\n",
              "    <tr>\n",
              "      <th>815</th>\n",
              "      <td>20</td>\n",
              "      <td>female</td>\n",
              "      <td>30.51620</td>\n",
              "      <td>0</td>\n",
              "      <td>no</td>\n",
              "      <td>1990.605164</td>\n",
              "    </tr>\n",
              "    <tr>\n",
              "      <th>157</th>\n",
              "      <td>18</td>\n",
              "      <td>male</td>\n",
              "      <td>24.41975</td>\n",
              "      <td>0</td>\n",
              "      <td>yes</td>\n",
              "      <td>16449.271065</td>\n",
              "    </tr>\n",
              "  </tbody>\n",
              "</table>\n",
              "</div>"
            ],
            "text/plain": [
              "     age     sex       bmi  children smoker       charges\n",
              "12    23    male  33.36800         0     no   1936.453580\n",
              "306   28  female  26.67500         2     no  21388.331398\n",
              "318   44  female  26.81565         0     no   7866.466223\n",
              "815   20  female  30.51620         0     no   1990.605164\n",
              "157   18    male  24.41975         0    yes  16449.271065"
            ]
          },
          "metadata": {
            "tags": []
          },
          "execution_count": 9
        }
      ]
    },
    {
      "cell_type": "markdown",
      "metadata": {
        "id": "hu7bSu1bOc4C"
      },
      "source": [
        "Let us answer some basic questions about the dataset. \n",
        "\n",
        "\n",
        "**Q: How many rows does the dataset have?**"
      ]
    },
    {
      "cell_type": "code",
      "metadata": {
        "colab": {
          "base_uri": "https://localhost:8080/"
        },
        "id": "NdU34avdOc4E",
        "outputId": "c6f04804-3c85-4754-da91-51f9c0994949"
      },
      "source": [
        "num_rows = dataframe.shape[0]\n",
        "print(num_rows)"
      ],
      "execution_count": 10,
      "outputs": [
        {
          "output_type": "stream",
          "text": [
            "1271\n"
          ],
          "name": "stdout"
        }
      ]
    },
    {
      "cell_type": "markdown",
      "metadata": {
        "id": "pkpBkxXQOc4F"
      },
      "source": [
        "**Q: How many columns doe the dataset have**"
      ]
    },
    {
      "cell_type": "code",
      "metadata": {
        "colab": {
          "base_uri": "https://localhost:8080/"
        },
        "id": "hmb9W4RmOc4G",
        "outputId": "cd621013-07eb-4bfd-9160-0beb1b4892fe"
      },
      "source": [
        "num_cols = dataframe.shape[1]\n",
        "print(num_cols)"
      ],
      "execution_count": 11,
      "outputs": [
        {
          "output_type": "stream",
          "text": [
            "6\n"
          ],
          "name": "stdout"
        }
      ]
    },
    {
      "cell_type": "markdown",
      "metadata": {
        "id": "h5cxtMG3Oc4G"
      },
      "source": [
        "**Q: What are the column titles of the input variables?**"
      ]
    },
    {
      "cell_type": "code",
      "metadata": {
        "colab": {
          "base_uri": "https://localhost:8080/"
        },
        "id": "xOvJ9bsiOc4H",
        "outputId": "0d1e072c-e9e0-4363-ec2f-559c6f3321e0"
      },
      "source": [
        "input_cols = dataframe.columns\n",
        "input_cols"
      ],
      "execution_count": 13,
      "outputs": [
        {
          "output_type": "execute_result",
          "data": {
            "text/plain": [
              "Index(['age', 'sex', 'bmi', 'children', 'smoker', 'charges'], dtype='object')"
            ]
          },
          "metadata": {
            "tags": []
          },
          "execution_count": 13
        }
      ]
    },
    {
      "cell_type": "markdown",
      "metadata": {
        "id": "ipqvAbG5Oc4H"
      },
      "source": [
        "**Q: Which of the input columns are non-numeric or categorial variables ?**\n",
        "\n",
        "Hint: `sex` is one of them. List the columns that are not numbers."
      ]
    },
    {
      "cell_type": "code",
      "metadata": {
        "colab": {
          "base_uri": "https://localhost:8080/",
          "height": 419
        },
        "id": "qfdXIqf-Oc4I",
        "outputId": "b3801222-9f9f-4221-bece-66487a4c9367"
      },
      "source": [
        "categorical_cols = dataframe.select_dtypes(exclude=['int', 'float'])\n",
        "categorical_cols"
      ],
      "execution_count": 15,
      "outputs": [
        {
          "output_type": "execute_result",
          "data": {
            "text/html": [
              "<div>\n",
              "<style scoped>\n",
              "    .dataframe tbody tr th:only-of-type {\n",
              "        vertical-align: middle;\n",
              "    }\n",
              "\n",
              "    .dataframe tbody tr th {\n",
              "        vertical-align: top;\n",
              "    }\n",
              "\n",
              "    .dataframe thead th {\n",
              "        text-align: right;\n",
              "    }\n",
              "</style>\n",
              "<table border=\"1\" class=\"dataframe\">\n",
              "  <thead>\n",
              "    <tr style=\"text-align: right;\">\n",
              "      <th></th>\n",
              "      <th>sex</th>\n",
              "      <th>smoker</th>\n",
              "    </tr>\n",
              "  </thead>\n",
              "  <tbody>\n",
              "    <tr>\n",
              "      <th>12</th>\n",
              "      <td>male</td>\n",
              "      <td>no</td>\n",
              "    </tr>\n",
              "    <tr>\n",
              "      <th>306</th>\n",
              "      <td>female</td>\n",
              "      <td>no</td>\n",
              "    </tr>\n",
              "    <tr>\n",
              "      <th>318</th>\n",
              "      <td>female</td>\n",
              "      <td>no</td>\n",
              "    </tr>\n",
              "    <tr>\n",
              "      <th>815</th>\n",
              "      <td>female</td>\n",
              "      <td>no</td>\n",
              "    </tr>\n",
              "    <tr>\n",
              "      <th>157</th>\n",
              "      <td>male</td>\n",
              "      <td>yes</td>\n",
              "    </tr>\n",
              "    <tr>\n",
              "      <th>...</th>\n",
              "      <td>...</td>\n",
              "      <td>...</td>\n",
              "    </tr>\n",
              "    <tr>\n",
              "      <th>1118</th>\n",
              "      <td>male</td>\n",
              "      <td>yes</td>\n",
              "    </tr>\n",
              "    <tr>\n",
              "      <th>1238</th>\n",
              "      <td>male</td>\n",
              "      <td>no</td>\n",
              "    </tr>\n",
              "    <tr>\n",
              "      <th>38</th>\n",
              "      <td>male</td>\n",
              "      <td>yes</td>\n",
              "    </tr>\n",
              "    <tr>\n",
              "      <th>839</th>\n",
              "      <td>female</td>\n",
              "      <td>no</td>\n",
              "    </tr>\n",
              "    <tr>\n",
              "      <th>36</th>\n",
              "      <td>female</td>\n",
              "      <td>no</td>\n",
              "    </tr>\n",
              "  </tbody>\n",
              "</table>\n",
              "<p>1271 rows × 2 columns</p>\n",
              "</div>"
            ],
            "text/plain": [
              "         sex smoker\n",
              "12      male     no\n",
              "306   female     no\n",
              "318   female     no\n",
              "815   female     no\n",
              "157     male    yes\n",
              "...      ...    ...\n",
              "1118    male    yes\n",
              "1238    male     no\n",
              "38      male    yes\n",
              "839   female     no\n",
              "36    female     no\n",
              "\n",
              "[1271 rows x 2 columns]"
            ]
          },
          "metadata": {
            "tags": []
          },
          "execution_count": 15
        }
      ]
    },
    {
      "cell_type": "markdown",
      "metadata": {
        "id": "8BQ55jWAOc4I"
      },
      "source": [
        "**Q: What are the column titles of output/target variable(s)?**"
      ]
    },
    {
      "cell_type": "code",
      "metadata": {
        "colab": {
          "base_uri": "https://localhost:8080/"
        },
        "id": "tPT6-vGUOc4I",
        "outputId": "4495bad7-48f7-4941-b257-044c0b6a91e5"
      },
      "source": [
        "output_cols = ['sex', 'smoker']\n",
        "output_cols"
      ],
      "execution_count": 16,
      "outputs": [
        {
          "output_type": "execute_result",
          "data": {
            "text/plain": [
              "['sex', 'smoker']"
            ]
          },
          "metadata": {
            "tags": []
          },
          "execution_count": 16
        }
      ]
    },
    {
      "cell_type": "markdown",
      "metadata": {
        "id": "41gW1bZwOc4J"
      },
      "source": [
        "**Q: (Optional) What is the minimum, maximum and average value of the `charges` column? Can you show the distribution of values in a graph?**\n",
        "Use this data visualization cheatsheet for referece: https://jovian.ml/aakashns/dataviz-cheatsheet"
      ]
    },
    {
      "cell_type": "code",
      "metadata": {
        "id": "hJhyqFBtR8GD"
      },
      "source": [
        "import matplotlib.pyplot as plt\n",
        "import numpy as np\n",
        "\n",
        "plt.style.use('fivethirtyeight')\n",
        "%matplotlib inline"
      ],
      "execution_count": 22,
      "outputs": []
    },
    {
      "cell_type": "code",
      "metadata": {
        "colab": {
          "base_uri": "https://localhost:8080/",
          "height": 840
        },
        "id": "99RxQuCdOc4J",
        "outputId": "814d884f-d189-423b-f633-a4dd8d9d35a0"
      },
      "source": [
        "charges_info = dataframe[['charges']].describe()\n",
        "print(charges_info)\n",
        "print()\n",
        "print(np.log10(charges_info).describe())\n",
        "plt.figure(figsize=[12,8])\n",
        "plt.subplot(1,3,1)\n",
        "bins = np.arange(1180, 7000+140, 140)\n",
        "plt.hist(data=dataframe, x='charges', bins=bins)\n",
        "plt.xlabel('charges')\n",
        "\n",
        "plt.subplot(1,3,2)\n",
        "bins = np.arange(1180, 7000+140, 140)\n",
        "plt.hist(data=dataframe, x='charges', bins=bins)\n",
        "plt.xscale('log')\n",
        "plt.xlabel('log-charges')\n",
        "\n",
        "plt.subplot(1,3,3)\n",
        "bins = 10**np.arange(3,5+0.1,0.1)\n",
        "plt.hist(data=dataframe, x='charges', bins=bins)\n",
        "plt.xscale('log')\n",
        "plt.xlabel('log-charges')\n"
      ],
      "execution_count": 32,
      "outputs": [
        {
          "output_type": "stream",
          "text": [
            "            charges\n",
            "count   1271.000000\n",
            "mean   14155.264202\n",
            "std    12891.382400\n",
            "min     1189.186334\n",
            "25%     5043.461874\n",
            "50%     9954.826760\n",
            "75%    18085.943342\n",
            "max    67596.653691\n",
            "\n",
            "        charges\n",
            "count  8.000000\n",
            "mean   3.903580\n",
            "std    0.593014\n",
            "min    3.075250\n",
            "25%    3.553083\n",
            "50%    4.054167\n",
            "75%    4.177524\n",
            "max    4.829925\n"
          ],
          "name": "stdout"
        },
        {
          "output_type": "execute_result",
          "data": {
            "text/plain": [
              "Text(0.5, 0, 'log-charges')"
            ]
          },
          "metadata": {
            "tags": []
          },
          "execution_count": 32
        },
        {
          "output_type": "display_data",
          "data": {
            "image/png": "[encoded data removed]",
            "text/plain": [
              "<Figure size 864x576 with 3 Axes>"
            ]
          },
          "metadata": {
            "tags": [],
            "needs_background": "light"
          }
        }
      ]
    },
    {
      "cell_type": "markdown",
      "metadata": {
        "id": "rNOPM_Y0Oc4K"
      },
      "source": [
        "Remember to commit your notebook to Jovian after every step, so that you don't lose your work."
      ]
    },
    {
      "cell_type": "code",
      "metadata": {
        "id": "zVoww4bNOc4K"
      },
      "source": [
        "!pip install jovian --upgrade -q"
      ],
      "execution_count": 33,
      "outputs": []
    },
    {
      "cell_type": "code",
      "metadata": {
        "id": "ocuUihAWOc4K"
      },
      "source": [
        "import jovian"
      ],
      "execution_count": 34,
      "outputs": []
    },
    {
      "cell_type": "code",
      "metadata": {
        "colab": {
          "base_uri": "https://localhost:8080/",
          "height": 137
        },
        "id": "aoPcvEKCOc4L",
        "outputId": "13a8a654-ccb2-438a-a4e6-7a177dc37acd"
      },
      "source": [
        "jovian.commit()"
      ],
      "execution_count": 35,
      "outputs": [
        {
          "output_type": "stream",
          "text": [
            "[jovian] Detected Colab notebook...\u001b[0m\n",
            "[jovian] Please enter your API key ( from https://jovian.ai/ ):\u001b[0m\n",
            "API KEY: ··········\n",
            "[jovian] Uploading colab notebook to Jovian...\u001b[0m\n",
            "[jovian] Capturing environment..\u001b[0m\n",
            "[jovian] Committed successfully! https://jovian.ai/boubekri/02-insurance-linear-regression\u001b[0m\n"
          ],
          "name": "stdout"
        },
        {
          "output_type": "execute_result",
          "data": {
            "application/vnd.google.colaboratory.intrinsic+json": {
              "type": "string"
            },
            "text/plain": [
              "'https://jovian.ai/boubekri/02-insurance-linear-regression'"
            ]
          },
          "metadata": {
            "tags": []
          },
          "execution_count": 35
        }
      ]
    },
    {
      "cell_type": "markdown",
      "metadata": {
        "id": "KotRB56AOc4L"
      },
      "source": [
        "## Step 2: Prepare the dataset for training\n",
        "\n",
        "We need to convert the data from the Pandas dataframe into a PyTorch tensors for training. To do this, the first step is to convert it numpy arrays. If you've filled out `input_cols`, `categorial_cols` and `output_cols` correctly, this following function will perform the conversion to numpy arrays."
      ]
    },
    {
      "cell_type": "code",
      "metadata": {
        "id": "VfeLgjZ2Oc4M"
      },
      "source": [
        "def dataframe_to_arrays(dataframe):\n",
        "    # Make a copy of the original dataframe\n",
        "    dataframe1 = dataframe.copy(deep=True)\n",
        "    # Convert non-numeric categorical columns to numbers\n",
        "    for col in categorical_cols:\n",
        "        dataframe1[col] = dataframe1[col].astype('category').cat.codes\n",
        "    # Extract input & outupts as numpy arrays\n",
        "    inputs_array = dataframe1[input_cols].to_numpy()\n",
        "    targets_array = dataframe1[output_cols].to_numpy()\n",
        "    return inputs_array, targets_array"
      ],
      "execution_count": 36,
      "outputs": []
    },
    {
      "cell_type": "markdown",
      "metadata": {
        "id": "cuPPyBd6Oc4N"
      },
      "source": [
        "Read through the [Pandas documentation](https://pandas.pydata.org/pandas-docs/stable/user_guide/categorical.html) to understand how we're converting categorical variables into numbers."
      ]
    },
    {
      "cell_type": "code",
      "metadata": {
        "colab": {
          "base_uri": "https://localhost:8080/"
        },
        "id": "92Z-gjgTOc4O",
        "outputId": "71076d1e-e4d4-41f3-e598-deeb15f109e4"
      },
      "source": [
        "inputs_array, targets_array = dataframe_to_arrays(dataframe)\n",
        "inputs_array, targets_array"
      ],
      "execution_count": 37,
      "outputs": [
        {
          "output_type": "execute_result",
          "data": {
            "text/plain": [
              "(array([[2.30000000e+01, 1.00000000e+00, 3.33680000e+01, 0.00000000e+00,\n",
              "         0.00000000e+00, 1.93645358e+03],\n",
              "        [2.80000000e+01, 0.00000000e+00, 2.66750000e+01, 2.00000000e+00,\n",
              "         0.00000000e+00, 2.13883314e+04],\n",
              "        [4.40000000e+01, 0.00000000e+00, 2.68156500e+01, 0.00000000e+00,\n",
              "         0.00000000e+00, 7.86646622e+03],\n",
              "        ...,\n",
              "        [3.50000000e+01, 1.00000000e+00, 3.55699000e+01, 1.00000000e+00,\n",
              "         1.00000000e+00, 4.21607329e+04],\n",
              "        [5.90000000e+01, 0.00000000e+00, 3.04095000e+01, 0.00000000e+00,\n",
              "         0.00000000e+00, 1.33795103e+04],\n",
              "        [6.20000000e+01, 0.00000000e+00, 3.19760500e+01, 3.00000000e+00,\n",
              "         0.00000000e+00, 1.65489250e+04]]), array([[1, 0],\n",
              "        [0, 0],\n",
              "        [0, 0],\n",
              "        ...,\n",
              "        [1, 1],\n",
              "        [0, 0],\n",
              "        [0, 0]], dtype=int8))"
            ]
          },
          "metadata": {
            "tags": []
          },
          "execution_count": 37
        }
      ]
    },
    {
      "cell_type": "markdown",
      "metadata": {
        "id": "QiL_p_O4Oc4P"
      },
      "source": [
        "**Q: Convert the numpy arrays `inputs_array` and `targets_array` into PyTorch tensors. Make sure that the data type is `torch.float32`.**"
      ]
    },
    {
      "cell_type": "code",
      "metadata": {
        "id": "UPNj3FvCOc4Q"
      },
      "source": [
        "inputs = torch.from_numpy(inputs_array)\n",
        "targets = torch.from_numpy(targets_array)\n",
        "\n",
        "inputs, targets = inputs.type(torch.FloatTensor), targets.type(torch.FloatTensor)"
      ],
      "execution_count": 41,
      "outputs": []
    },
    {
      "cell_type": "code",
      "metadata": {
        "colab": {
          "base_uri": "https://localhost:8080/"
        },
        "id": "WMZsbwoDOc4R",
        "outputId": "726bf87d-61c9-4fde-aa62-ac0f24b4967c"
      },
      "source": [
        "inputs.dtype, targets.dtype"
      ],
      "execution_count": 42,
      "outputs": [
        {
          "output_type": "execute_result",
          "data": {
            "text/plain": [
              "(torch.float32, torch.float32)"
            ]
          },
          "metadata": {
            "tags": []
          },
          "execution_count": 42
        }
      ]
    },
    {
      "cell_type": "markdown",
      "metadata": {
        "id": "rnPokQBkOc4S"
      },
      "source": [
        "Next, we need to create PyTorch datasets & data loaders for training & validation. We'll start by creating a `TensorDataset`."
      ]
    },
    {
      "cell_type": "code",
      "metadata": {
        "id": "8JEpQd3bOc4S"
      },
      "source": [
        "dataset = TensorDataset(inputs, targets)"
      ],
      "execution_count": 43,
      "outputs": []
    },
    {
      "cell_type": "markdown",
      "metadata": {
        "id": "Sbanz-dVOc4T"
      },
      "source": [
        "**Q: Pick a number between `0.1` and `0.2` to determine the fraction of data that will be used for creating the validation set. Then use `random_split` to create training & validation datasets.**"
      ]
    },
    {
      "cell_type": "code",
      "metadata": {
        "colab": {
          "base_uri": "https://localhost:8080/"
        },
        "id": "cOT85tyDOc4T",
        "outputId": "7155dd0e-24f7-4ae8-9ecd-04ae5e417253"
      },
      "source": [
        "val_percent = 0.2 # between 0.1 and 0.2\n",
        "val_size = int(num_rows * val_percent)\n",
        "train_size = num_rows - val_size\n",
        "\n",
        "# Use the random_split function to split dataset into 2 parts of the desired length\n",
        "train_ds, val_ds = random_split(dataset, [train_size, val_size])\n",
        "len(train_ds), len(val_ds)"
      ],
      "execution_count": 46,
      "outputs": [
        {
          "output_type": "execute_result",
          "data": {
            "text/plain": [
              "(1017, 254)"
            ]
          },
          "metadata": {
            "tags": []
          },
          "execution_count": 46
        }
      ]
    },
    {
      "cell_type": "markdown",
      "metadata": {
        "id": "zDtmOefmOc4U"
      },
      "source": [
        "Finally, we can create data loaders for training & validation.\n",
        "\n",
        "**Q: Pick a batch size for the data loader.**"
      ]
    },
    {
      "cell_type": "code",
      "metadata": {
        "id": "BLmwi3t1Oc4U"
      },
      "source": [
        "batch_size = 64"
      ],
      "execution_count": 47,
      "outputs": []
    },
    {
      "cell_type": "code",
      "metadata": {
        "id": "pVYam_cXOc4U"
      },
      "source": [
        "train_loader = DataLoader(train_ds, batch_size, shuffle=True)\n",
        "val_loader = DataLoader(val_ds, batch_size)"
      ],
      "execution_count": 48,
      "outputs": []
    },
    {
      "cell_type": "markdown",
      "metadata": {
        "id": "WPoWhKA5Oc4V"
      },
      "source": [
        "Let's look at a batch of data to verify everything is working fine so far."
      ]
    },
    {
      "cell_type": "code",
      "metadata": {
        "colab": {
          "base_uri": "https://localhost:8080/"
        },
        "id": "Hgp8I7qXOc4V",
        "outputId": "0cc78592-744f-4ae7-f76c-cce4f28e2cef"
      },
      "source": [
        "for xb, yb in train_loader:\n",
        "    print(\"inputs:\", xb)\n",
        "    print(\"targets:\", yb)\n",
        "    break"
      ],
      "execution_count": 49,
      "outputs": [
        {
          "output_type": "stream",
          "text": [
            "inputs: tensor([[2.5000e+01, 1.0000e+00, 4.4174e+01, 2.0000e+00, 1.0000e+00, 4.4639e+04],\n",
            "        [2.8000e+01, 1.0000e+00, 3.5308e+01, 1.0000e+00, 1.0000e+00, 5.4266e+04],\n",
            "        [4.7000e+01, 1.0000e+00, 3.4998e+01, 1.0000e+00, 1.0000e+00, 4.4744e+04],\n",
            "        [5.3000e+01, 1.0000e+00, 3.0225e+01, 1.0000e+00, 0.0000e+00, 1.1090e+04],\n",
            "        [3.6000e+01, 1.0000e+00, 2.6723e+01, 3.0000e+00, 0.0000e+00, 7.1515e+03],\n",
            "        [2.0000e+01, 0.0000e+00, 3.5890e+01, 5.0000e+00, 0.0000e+00, 5.1205e+03],\n",
            "        [6.0000e+01, 1.0000e+00, 3.8703e+01, 0.0000e+00, 1.0000e+00, 5.1064e+04],\n",
            "        [3.3000e+01, 0.0000e+00, 1.8522e+01, 2.0000e+00, 1.0000e+00, 1.7783e+04],\n",
            "        [2.8000e+01, 0.0000e+00, 1.6771e+01, 0.0000e+00, 0.0000e+00, 3.9566e+03],\n",
            "        [4.2000e+01, 0.0000e+00, 3.1884e+01, 0.0000e+00, 0.0000e+00, 7.4730e+03],\n",
            "        [1.9000e+01, 0.0000e+00, 2.7742e+01, 5.0000e+00, 0.0000e+00, 4.9691e+03],\n",
            "        [2.5000e+01, 1.0000e+00, 2.3406e+01, 0.0000e+00, 1.0000e+00, 1.6767e+04],\n",
            "        [1.8000e+01, 0.0000e+00, 2.9396e+01, 0.0000e+00, 0.0000e+00, 2.3360e+03],\n",
            "        [4.4000e+01, 0.0000e+00, 2.5026e+01, 1.0000e+00, 0.0000e+00, 8.0821e+03],\n",
            "        [3.4000e+01, 1.0000e+00, 2.9876e+01, 0.0000e+00, 1.0000e+00, 3.7621e+04],\n",
            "        [1.9000e+01, 1.0000e+00, 2.5249e+01, 1.0000e+00, 1.0000e+00, 1.7438e+04],\n",
            "        [4.6000e+01, 1.0000e+00, 2.6772e+01, 0.0000e+00, 0.0000e+00, 2.6079e+04],\n",
            "        [3.0000e+01, 1.0000e+00, 3.4241e+01, 0.0000e+00, 1.0000e+00, 3.9048e+04],\n",
            "        [5.7000e+01, 1.0000e+00, 4.0866e+01, 1.0000e+00, 1.0000e+00, 5.1596e+04],\n",
            "        [2.7000e+01, 1.0000e+00, 2.9585e+01, 0.0000e+00, 0.0000e+00, 2.6437e+03],\n",
            "        [3.5000e+01, 1.0000e+00, 2.9585e+01, 1.0000e+00, 0.0000e+00, 5.0361e+03],\n",
            "        [3.1000e+01, 0.0000e+00, 2.8382e+01, 1.0000e+00, 0.0000e+00, 4.6115e+03],\n",
            "        [2.8000e+01, 0.0000e+00, 2.3130e+01, 2.0000e+00, 0.0000e+00, 5.0029e+03],\n",
            "        [4.4000e+01, 1.0000e+00, 3.6918e+01, 1.0000e+00, 0.0000e+00, 7.5818e+03],\n",
            "        [2.3000e+01, 1.0000e+00, 2.3775e+01, 0.0000e+00, 0.0000e+00, 2.5399e+03],\n",
            "        [4.4000e+01, 0.0000e+00, 3.1370e+01, 1.0000e+00, 0.0000e+00, 8.0917e+03],\n",
            "        [2.1000e+01, 0.0000e+00, 3.1700e+01, 2.0000e+00, 0.0000e+00, 2.7580e+04],\n",
            "        [4.1000e+01, 0.0000e+00, 3.4998e+01, 1.0000e+00, 0.0000e+00, 7.1882e+03],\n",
            "        [3.8000e+01, 1.0000e+00, 3.3659e+01, 2.0000e+00, 0.0000e+00, 6.4473e+03],\n",
            "        [4.1000e+01, 1.0000e+00, 2.9857e+01, 3.0000e+00, 1.0000e+00, 4.1973e+04],\n",
            "        [5.0000e+01, 1.0000e+00, 3.5114e+01, 0.0000e+00, 0.0000e+00, 8.9653e+03],\n",
            "        [1.8000e+01, 1.0000e+00, 3.4144e+01, 1.0000e+00, 0.0000e+00, 1.8312e+03],\n",
            "        [2.3000e+01, 0.0000e+00, 3.8092e+01, 2.0000e+00, 0.0000e+00, 3.7106e+03],\n",
            "        [4.8000e+01, 1.0000e+00, 2.7160e+01, 1.0000e+00, 1.0000e+00, 2.4982e+04],\n",
            "        [3.2000e+01, 0.0000e+00, 3.6031e+01, 3.0000e+00, 0.0000e+00, 6.7144e+03],\n",
            "        [4.0000e+01, 1.0000e+00, 3.1792e+01, 1.0000e+00, 1.0000e+00, 4.1473e+04],\n",
            "        [4.8000e+01, 1.0000e+00, 2.8809e+01, 0.0000e+00, 0.0000e+00, 8.2570e+03],\n",
            "        [2.8000e+01, 1.0000e+00, 3.2805e+01, 0.0000e+00, 0.0000e+00, 2.0854e+04],\n",
            "        [4.6000e+01, 0.0000e+00, 2.9294e+01, 2.0000e+00, 0.0000e+00, 9.3546e+03],\n",
            "        [3.9000e+01, 0.0000e+00, 3.0962e+01, 2.0000e+00, 0.0000e+00, 7.6421e+03],\n",
            "        [3.9000e+01, 1.0000e+00, 2.5433e+01, 1.0000e+00, 0.0000e+00, 6.4910e+03],\n",
            "        [4.2000e+01, 1.0000e+00, 2.6093e+01, 0.0000e+00, 0.0000e+00, 6.3279e+03],\n",
            "        [2.9000e+01, 0.0000e+00, 2.8702e+01, 1.0000e+00, 0.0000e+00, 4.1843e+03],\n",
            "        [2.8000e+01, 1.0000e+00, 2.3086e+01, 2.0000e+00, 0.0000e+00, 4.0785e+03],\n",
            "        [5.2000e+01, 0.0000e+00, 4.5347e+01, 5.0000e+00, 0.0000e+00, 1.3348e+04],\n",
            "        [6.0000e+01, 1.0000e+00, 2.3590e+01, 0.0000e+00, 0.0000e+00, 1.3275e+04],\n",
            "        [3.5000e+01, 0.0000e+00, 2.6869e+01, 3.0000e+00, 0.0000e+00, 6.7990e+03],\n",
            "        [2.8000e+01, 1.0000e+00, 3.6918e+01, 0.0000e+00, 0.0000e+00, 2.8509e+03],\n",
            "        [4.6000e+01, 0.0000e+00, 1.9351e+01, 2.0000e+00, 0.0000e+00, 9.7455e+03],\n",
            "        [4.7000e+01, 1.0000e+00, 3.1331e+01, 1.0000e+00, 0.0000e+00, 8.5465e+03],\n",
            "        [3.2000e+01, 1.0000e+00, 2.7276e+01, 4.0000e+00, 1.0000e+00, 2.2761e+04],\n",
            "        [4.8000e+01, 0.0000e+00, 3.1263e+01, 1.0000e+00, 0.0000e+00, 9.4034e+03],\n",
            "        [5.8000e+01, 1.0000e+00, 2.4420e+01, 0.0000e+00, 0.0000e+00, 1.2647e+04],\n",
            "        [5.9000e+01, 0.0000e+00, 2.5710e+01, 0.0000e+00, 0.0000e+00, 1.3584e+04],\n",
            "        [3.0000e+01, 1.0000e+00, 2.6816e+01, 1.0000e+00, 0.0000e+00, 4.4914e+03],\n",
            "        [4.3000e+01, 1.0000e+00, 2.5249e+01, 0.0000e+00, 0.0000e+00, 7.2476e+03],\n",
            "        [6.1000e+01, 1.0000e+00, 3.2898e+01, 0.0000e+00, 0.0000e+00, 1.3932e+04],\n",
            "        [4.2000e+01, 0.0000e+00, 2.5395e+01, 1.0000e+00, 0.0000e+00, 7.4695e+03],\n",
            "        [5.7000e+01, 0.0000e+00, 2.7839e+01, 0.0000e+00, 0.0000e+00, 1.2143e+04],\n",
            "        [2.4000e+01, 1.0000e+00, 3.8945e+01, 0.0000e+00, 1.0000e+00, 4.0414e+04],\n",
            "        [5.2000e+01, 0.0000e+00, 3.0778e+01, 2.0000e+00, 0.0000e+00, 1.1859e+04],\n",
            "        [4.4000e+01, 0.0000e+00, 3.5386e+01, 0.0000e+00, 0.0000e+00, 1.3565e+04],\n",
            "        [2.9000e+01, 0.0000e+00, 3.7665e+01, 3.0000e+00, 0.0000e+00, 5.4466e+03],\n",
            "        [1.8000e+01, 0.0000e+00, 2.7369e+01, 0.0000e+00, 0.0000e+00, 2.3329e+03]])\n",
            "targets: tensor([[1., 1.],\n",
            "        [1., 1.],\n",
            "        [1., 1.],\n",
            "        [1., 0.],\n",
            "        [1., 0.],\n",
            "        [0., 0.],\n",
            "        [1., 1.],\n",
            "        [0., 1.],\n",
            "        [0., 0.],\n",
            "        [0., 0.],\n",
            "        [0., 0.],\n",
            "        [1., 1.],\n",
            "        [0., 0.],\n",
            "        [0., 0.],\n",
            "        [1., 1.],\n",
            "        [1., 1.],\n",
            "        [1., 0.],\n",
            "        [1., 1.],\n",
            "        [1., 1.],\n",
            "        [1., 0.],\n",
            "        [1., 0.],\n",
            "        [0., 0.],\n",
            "        [0., 0.],\n",
            "        [1., 0.],\n",
            "        [1., 0.],\n",
            "        [0., 0.],\n",
            "        [0., 0.],\n",
            "        [0., 0.],\n",
            "        [1., 0.],\n",
            "        [1., 1.],\n",
            "        [1., 0.],\n",
            "        [1., 0.],\n",
            "        [0., 0.],\n",
            "        [1., 1.],\n",
            "        [0., 0.],\n",
            "        [1., 1.],\n",
            "        [1., 0.],\n",
            "        [1., 0.],\n",
            "        [0., 0.],\n",
            "        [0., 0.],\n",
            "        [1., 0.],\n",
            "        [1., 0.],\n",
            "        [0., 0.],\n",
            "        [1., 0.],\n",
            "        [0., 0.],\n",
            "        [1., 0.],\n",
            "        [0., 0.],\n",
            "        [1., 0.],\n",
            "        [0., 0.],\n",
            "        [1., 0.],\n",
            "        [1., 1.],\n",
            "        [0., 0.],\n",
            "        [1., 0.],\n",
            "        [0., 0.],\n",
            "        [1., 0.],\n",
            "        [1., 0.],\n",
            "        [1., 0.],\n",
            "        [0., 0.],\n",
            "        [0., 0.],\n",
            "        [1., 1.],\n",
            "        [0., 0.],\n",
            "        [0., 0.],\n",
            "        [0., 0.],\n",
            "        [0., 0.]])\n"
          ],
          "name": "stdout"
        }
      ]
    },
    {
      "cell_type": "markdown",
      "metadata": {
        "id": "gDRLWs3jOc4V"
      },
      "source": [
        "Let's save our work by committing to Jovian."
      ]
    },
    {
      "cell_type": "code",
      "metadata": {
        "colab": {
          "base_uri": "https://localhost:8080/",
          "height": 86
        },
        "id": "C3N7qkixOc4V",
        "outputId": "848ac02d-9e5d-403d-c03a-a9789679db30"
      },
      "source": [
        "jovian.commit(project=project_name, environment=None)"
      ],
      "execution_count": 50,
      "outputs": [
        {
          "output_type": "stream",
          "text": [
            "[jovian] Detected Colab notebook...\u001b[0m\n",
            "[jovian] Uploading colab notebook to Jovian...\u001b[0m\n",
            "[jovian] Committed successfully! https://jovian.ai/boubekri/02-insurance-linear-regression\u001b[0m\n"
          ],
          "name": "stdout"
        },
        {
          "output_type": "execute_result",
          "data": {
            "application/vnd.google.colaboratory.intrinsic+json": {
              "type": "string"
            },
            "text/plain": [
              "'https://jovian.ai/boubekri/02-insurance-linear-regression'"
            ]
          },
          "metadata": {
            "tags": []
          },
          "execution_count": 50
        }
      ]
    },
    {
      "cell_type": "markdown",
      "metadata": {
        "id": "WnUzhtIMOc4W"
      },
      "source": [
        "## Step 3: Create a Linear Regression Model\n",
        "\n",
        "Our model itself is a fairly straightforward linear regression (we'll build more complex models in the next assignment). \n"
      ]
    },
    {
      "cell_type": "code",
      "metadata": {
        "id": "Q355oLFoOc4W"
      },
      "source": [
        "input_size = len(input_cols)\n",
        "output_size = len(output_cols)"
      ],
      "execution_count": 51,
      "outputs": []
    },
    {
      "cell_type": "markdown",
      "metadata": {
        "id": "Ic2PsZ2NOc4W"
      },
      "source": [
        "**Q: Complete the class definition below by filling out the constructor (`__init__`), `forward`, `training_step` and `validation_step` methods.**\n",
        "\n",
        "Hint: Think carefully about picking a good loss fuction (it's not cross entropy). Maybe try 2-3 of them and see which one works best. See https://pytorch.org/docs/stable/nn.functional.html#loss-functions"
      ]
    },
    {
      "cell_type": "code",
      "metadata": {
        "id": "M6XZygp4Oc4X"
      },
      "source": [
        "class InsuranceModel(nn.Module):\n",
        "    def __init__(self):\n",
        "        super().__init__()\n",
        "        self.linear = nn.Linear(input_size, output_size)                 # fill this (hint: use input_size & output_size defined above)\n",
        "        \n",
        "    def forward(self, xb):\n",
        "        out = self.linear(xb)                         # fill this\n",
        "        return out\n",
        "    \n",
        "    def training_step(self, batch):\n",
        "        inputs, targets = batch \n",
        "        # Generate predictions\n",
        "        out = self(inputs)          \n",
        "        # Calcuate loss\n",
        "        loss = F.cross_entropy(out, targets)                         # fill this\n",
        "        return loss\n",
        "    \n",
        "    def validation_step(self, batch):\n",
        "        inputs, targets = batch\n",
        "        # Generate predictions\n",
        "        out = self(inputs)\n",
        "        # Calculate loss\n",
        "        loss = F.cross_entropy(out, targets)                       # fill this    \n",
        "        return {'val_loss': loss.detach()}\n",
        "        \n",
        "    def validation_epoch_end(self, outputs):\n",
        "        batch_losses = [x['val_loss'] for x in outputs]\n",
        "        epoch_loss = torch.stack(batch_losses).mean()   # Combine losses\n",
        "        return {'val_loss': epoch_loss.item()}\n",
        "    \n",
        "    def epoch_end(self, epoch, result, num_epochs):\n",
        "        # Print result every 20th epoch\n",
        "        if (epoch+1) % 20 == 0 or epoch == num_epochs-1:\n",
        "            print(\"Epoch [{}], val_loss: {:.4f}\".format(epoch+1, result['val_loss']))"
      ],
      "execution_count": 52,
      "outputs": []
    },
    {
      "cell_type": "markdown",
      "metadata": {
        "id": "gZbVDE0EOc4X"
      },
      "source": [
        "Let us create a model using the `InsuranceModel` class. You may need to come back later and re-run the next cell to reinitialize the model, in case the loss becomes `nan` or `infinity`."
      ]
    },
    {
      "cell_type": "code",
      "metadata": {
        "id": "IIEeLqlPOc4Y"
      },
      "source": [
        "model = InsuranceModel()"
      ],
      "execution_count": 53,
      "outputs": []
    },
    {
      "cell_type": "markdown",
      "metadata": {
        "id": "V7sILj0ZOc4Y"
      },
      "source": [
        "Let's check out the weights and biases of the model using `model.parameters`."
      ]
    },
    {
      "cell_type": "code",
      "metadata": {
        "colab": {
          "base_uri": "https://localhost:8080/"
        },
        "id": "Fg4SdVtVOc4Z",
        "outputId": "f6486cd8-a2fb-4233-f8b8-9ddfa1b38ea3"
      },
      "source": [
        "list(model.parameters())"
      ],
      "execution_count": 54,
      "outputs": [
        {
          "output_type": "execute_result",
          "data": {
            "text/plain": [
              "[Parameter containing:\n",
              " tensor([[-0.1163, -0.2795, -0.1597,  0.3084,  0.3300,  0.3230],\n",
              "         [-0.3185,  0.3218, -0.2355,  0.0098, -0.0681,  0.3723]],\n",
              "        requires_grad=True), Parameter containing:\n",
              " tensor([-0.0747,  0.2228], requires_grad=True)]"
            ]
          },
          "metadata": {
            "tags": []
          },
          "execution_count": 54
        }
      ]
    },
    {
      "cell_type": "markdown",
      "metadata": {
        "id": "H8QkhIlsOc4Z"
      },
      "source": [
        "One final commit before we train the model."
      ]
    },
    {
      "cell_type": "code",
      "metadata": {
        "colab": {
          "base_uri": "https://localhost:8080/",
          "height": 86
        },
        "id": "gJPexP-kOc4a",
        "outputId": "05ec85e8-f31b-4125-d564-6fee5ed04cc8"
      },
      "source": [
        "jovian.commit(project=project_name, environment=None)"
      ],
      "execution_count": 55,
      "outputs": [
        {
          "output_type": "stream",
          "text": [
            "[jovian] Detected Colab notebook...\u001b[0m\n",
            "[jovian] Uploading colab notebook to Jovian...\u001b[0m\n",
            "[jovian] Committed successfully! https://jovian.ai/boubekri/02-insurance-linear-regression\u001b[0m\n"
          ],
          "name": "stdout"
        },
        {
          "output_type": "execute_result",
          "data": {
            "application/vnd.google.colaboratory.intrinsic+json": {
              "type": "string"
            },
            "text/plain": [
              "'https://jovian.ai/boubekri/02-insurance-linear-regression'"
            ]
          },
          "metadata": {
            "tags": []
          },
          "execution_count": 55
        }
      ]
    },
    {
      "cell_type": "markdown",
      "metadata": {
        "id": "zkZdaqMWOc4a"
      },
      "source": [
        "## Step 4: Train the model to fit the data\n",
        "\n",
        "To train our model, we'll use the same `fit` function explained in the lecture. That's the benefit of defining a generic training loop - you can use it for any problem."
      ]
    },
    {
      "cell_type": "code",
      "metadata": {
        "id": "SYmytHHfOc4b"
      },
      "source": [
        "def evaluate(model, val_loader):\n",
        "    outputs = [model.validation_step(batch) for batch in val_loader]\n",
        "    return model.validation_epoch_end(outputs)\n",
        "\n",
        "def fit(epochs, lr, model, train_loader, val_loader, opt_func=torch.optim.SGD):\n",
        "    history = []\n",
        "    optimizer = opt_func(model.parameters(), lr)\n",
        "    for epoch in range(epochs):\n",
        "        # Training Phase \n",
        "        for batch in train_loader:\n",
        "            loss = model.training_step(batch)\n",
        "            loss.backward()\n",
        "            optimizer.step()\n",
        "            optimizer.zero_grad()\n",
        "        # Validation phase\n",
        "        result = evaluate(model, val_loader)\n",
        "        model.epoch_end(epoch, result, epochs)\n",
        "        history.append(result)\n",
        "    return history"
      ],
      "execution_count": null,
      "outputs": []
    },
    {
      "cell_type": "markdown",
      "metadata": {
        "id": "zwvWafVNOc4b"
      },
      "source": [
        "**Q: Use the `evaluate` function to calculate the loss on the validation set before training.**"
      ]
    },
    {
      "cell_type": "code",
      "metadata": {
        "id": "tlUaTnJsOc4b"
      },
      "source": [
        "result = ??? # Use the the evaluate function\n",
        "print(result)"
      ],
      "execution_count": null,
      "outputs": []
    },
    {
      "cell_type": "markdown",
      "metadata": {
        "id": "wAjGWZg7Oc4c"
      },
      "source": [
        "\n",
        "We are now ready to train the model. You may need to run the training loop many times, for different number of epochs and with different learning rates, to get a good result. Also, if your loss becomes too large (or `nan`), you may have to re-initialize the model by running the cell `model = InsuranceModel()`. Experiment with this for a while, and try to get to as low a loss as possible."
      ]
    },
    {
      "cell_type": "markdown",
      "metadata": {
        "id": "iHtfaJk2Oc4c"
      },
      "source": [
        "**Q: Train the model 4-5 times with different learning rates & for different number of epochs.**\n",
        "\n",
        "Hint: Vary learning rates by orders of 10 (e.g. `1e-2`, `1e-3`, `1e-4`, `1e-5`, `1e-6`) to figure out what works."
      ]
    },
    {
      "cell_type": "code",
      "metadata": {
        "id": "cKsvmXTEOc4c"
      },
      "source": [
        "epochs = ???\n",
        "lr = ???\n",
        "history1 = fit(epochs, lr, model, train_loader, val_loader)"
      ],
      "execution_count": null,
      "outputs": []
    },
    {
      "cell_type": "code",
      "metadata": {
        "id": "G7_hh7r9Oc4c"
      },
      "source": [
        "epochs = ???\n",
        "lr = ???\n",
        "history2 = fit(epochs, lr, model, train_loader, val_loader)"
      ],
      "execution_count": null,
      "outputs": []
    },
    {
      "cell_type": "code",
      "metadata": {
        "id": "b07p3R-dOc4d"
      },
      "source": [
        "epochs = ???\n",
        "lr = ???\n",
        "history3 = fit(epochs, lr, model, train_loader, val_loader)"
      ],
      "execution_count": null,
      "outputs": []
    },
    {
      "cell_type": "code",
      "metadata": {
        "id": "Se70FCAyOc4d"
      },
      "source": [
        "epochs = ???\n",
        "lr = ???\n",
        "history4 = fit(epochs, lr, model, train_loader, val_loader)"
      ],
      "execution_count": null,
      "outputs": []
    },
    {
      "cell_type": "code",
      "metadata": {
        "id": "B2HpaigKOc4e"
      },
      "source": [
        "epochs = ???\n",
        "lr = ???\n",
        "history5 = fit(epochs, lr, model, train_loader, val_loader)"
      ],
      "execution_count": null,
      "outputs": []
    },
    {
      "cell_type": "markdown",
      "metadata": {
        "id": "PIsQm0WeOc4e"
      },
      "source": [
        "**Q: What is the final validation loss of your model?**"
      ]
    },
    {
      "cell_type": "code",
      "metadata": {
        "id": "3KvDiFySOc4e"
      },
      "source": [
        "val_loss = ???"
      ],
      "execution_count": null,
      "outputs": []
    },
    {
      "cell_type": "markdown",
      "metadata": {
        "id": "BSHtPaKUOc4f"
      },
      "source": [
        "Let's log the final validation loss to Jovian and commit the notebook"
      ]
    },
    {
      "cell_type": "code",
      "metadata": {
        "id": "zuorThlbOc4f"
      },
      "source": [
        "jovian.log_metrics(val_loss=val_loss)"
      ],
      "execution_count": null,
      "outputs": []
    },
    {
      "cell_type": "code",
      "metadata": {
        "id": "2WNqukNWOc4g"
      },
      "source": [
        "jovian.commit(project=project_name, environment=None)"
      ],
      "execution_count": null,
      "outputs": []
    },
    {
      "cell_type": "markdown",
      "metadata": {
        "id": "5aVaxcm9Oc4h"
      },
      "source": [
        "Now scroll back up, re-initialize the model, and try different set of values for batch size, number of epochs, learning rate etc. Commit each experiment and use the \"Compare\" and \"View Diff\" options on Jovian to compare the different results."
      ]
    },
    {
      "cell_type": "markdown",
      "metadata": {
        "id": "9Lu0P8YkOc4i"
      },
      "source": [
        "## Step 5: Make predictions using the trained model\n",
        "\n",
        "**Q: Complete the following function definition to make predictions on a single input**"
      ]
    },
    {
      "cell_type": "code",
      "metadata": {
        "id": "hKZiNnrAOc4j"
      },
      "source": [
        "def predict_single(input, target, model):\n",
        "    inputs = input.unsqueeze(0)\n",
        "    predictions = ???                # fill this\n",
        "    prediction = predictions[0].detach()\n",
        "    print(\"Input:\", input)\n",
        "    print(\"Target:\", target)\n",
        "    print(\"Prediction:\", prediction)"
      ],
      "execution_count": null,
      "outputs": []
    },
    {
      "cell_type": "code",
      "metadata": {
        "id": "sv8C1jFZOc4j"
      },
      "source": [
        "input, target = val_ds[0]\n",
        "predict_single(input, target, model)"
      ],
      "execution_count": null,
      "outputs": []
    },
    {
      "cell_type": "code",
      "metadata": {
        "id": "sb6_ZXVYOc4k"
      },
      "source": [
        "input, target = val_ds[10]\n",
        "predict_single(input, target, model)"
      ],
      "execution_count": null,
      "outputs": []
    },
    {
      "cell_type": "code",
      "metadata": {
        "id": "5-uV5oP7Oc4k"
      },
      "source": [
        "input, target = val_ds[23]\n",
        "predict_single(input, target, model)"
      ],
      "execution_count": null,
      "outputs": []
    },
    {
      "cell_type": "markdown",
      "metadata": {
        "id": "yOV2vSyVOc4k"
      },
      "source": [
        "Are you happy with your model's predictions? Try to improve them further."
      ]
    },
    {
      "cell_type": "markdown",
      "metadata": {
        "id": "s7GCRPw_Oc4k"
      },
      "source": [
        "## (Optional) Step 6: Try another dataset & blog about it\n",
        "\n",
        "While this last step is optional for the submission of your assignment, we highly recommend that you do it. Try to replicate this notebook for a different linear regression or logistic regression problem. This will help solidify your understanding, and give you a chance to differentiate the generic patterns in machine learning from problem-specific details.You can use one of these starer notebooks (just change the dataset):\n",
        "\n",
        "- Linear regression (minimal): https://jovian.ai/aakashns/housing-linear-minimal\n",
        "- Logistic regression (minimal): https://jovian.ai/aakashns/mnist-logistic-minimal\n",
        "\n",
        "Here are some sources to find good datasets:\n",
        "\n",
        "- https://lionbridge.ai/datasets/10-open-datasets-for-linear-regression/\n",
        "- https://www.kaggle.com/rtatman/datasets-for-regression-analysis\n",
        "- https://archive.ics.uci.edu/ml/datasets.php?format=&task=reg&att=&area=&numAtt=&numIns=&type=&sort=nameUp&view=table\n",
        "- https://people.sc.fsu.edu/~jburkardt/datasets/regression/regression.html\n",
        "- https://archive.ics.uci.edu/ml/datasets/wine+quality\n",
        "- https://pytorch.org/docs/stable/torchvision/datasets.html\n",
        "\n",
        "We also recommend that you write a blog about your approach to the problem. Here is a suggested structure for your post (feel free to experiment with it):\n",
        "\n",
        "- Interesting title & subtitle\n",
        "- Overview of what the blog covers (which dataset, linear regression or logistic regression, intro to PyTorch)\n",
        "- Downloading & exploring the data\n",
        "- Preparing the data for training\n",
        "- Creating a model using PyTorch\n",
        "- Training the model to fit the data\n",
        "- Your thoughts on how to experiment with different hyperparmeters to reduce loss\n",
        "- Making predictions using the model\n",
        "\n",
        "As with the previous assignment, you can [embed Juptyer notebook cells & outputs from Jovian](https://medium.com/jovianml/share-and-embed-jupyter-notebooks-online-with-jovian-ml-df709a03064e) into your blog. \n",
        "\n",
        "Don't forget to share your work on the forum: https://jovian.ai/forum/t/linear-regression-and-logistic-regression-notebooks-and-blog-posts/14039"
      ]
    },
    {
      "cell_type": "code",
      "metadata": {
        "id": "uR1gwAtVOc4l",
        "outputId": "a566ceb8-0a80-4d10-c04b-1eff3901555b"
      },
      "source": [
        "jovian.commit(project=project_name, environment=None)\n",
        "jovian.commit(project=project_name, environment=None) # try again, kaggle fails sometimes"
      ],
      "execution_count": null,
      "outputs": [
        {
          "output_type": "display_data",
          "data": {
            "application/javascript": [
              "window.require && require([\"base/js/namespace\"],function(Jupyter){Jupyter.notebook.save_checkpoint()})"
            ],
            "text/plain": [
              "<IPython.core.display.Javascript object>"
            ]
          },
          "metadata": {
            "tags": []
          }
        },
        {
          "output_type": "stream",
          "text": [
            "[jovian] Attempting to save notebook..\u001b[0m\n",
            "[jovian] Updating notebook \"aakashns/02-insurance-linear-regression\" on https://jovian.ai/\u001b[0m\n",
            "[jovian] Uploading notebook..\u001b[0m\n",
            "[jovian] Committed successfully! https://jovian.ai/aakashns/02-insurance-linear-regression\u001b[0m\n"
          ],
          "name": "stdout"
        },
        {
          "output_type": "display_data",
          "data": {
            "application/javascript": [
              "window.require && require([\"base/js/namespace\"],function(Jupyter){Jupyter.notebook.save_checkpoint()})"
            ],
            "text/plain": [
              "<IPython.core.display.Javascript object>"
            ]
          },
          "metadata": {
            "tags": []
          }
        },
        {
          "output_type": "stream",
          "text": [
            "[jovian] Attempting to save notebook..\u001b[0m\n"
          ],
          "name": "stdout"
        }
      ]
    },
    {
      "cell_type": "code",
      "metadata": {
        "id": "oPX19eYfOc4l"
      },
      "source": [
        ""
      ],
      "execution_count": null,
      "outputs": []
    }
  ]
}