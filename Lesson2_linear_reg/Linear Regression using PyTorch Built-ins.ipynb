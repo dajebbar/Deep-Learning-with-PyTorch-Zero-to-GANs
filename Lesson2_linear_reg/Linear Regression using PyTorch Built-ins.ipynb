{
 "cells": [
  {
   "cell_type": "code",
   "execution_count": 1,
   "metadata": {},
   "outputs": [],
   "source": [
    "import torch.nn as nn\n",
    "import torch.nn.functional as F\n",
    "from torch.utils.data import TensorDataset\n",
    "from torch.utils.data import DataLoader"
   ]
  },
  {
   "cell_type": "code",
   "execution_count": 2,
   "metadata": {},
   "outputs": [],
   "source": [
    "# define TensorDataset\n",
    "def tensor_dataset(inputs, targets):\n",
    "    return TensorDataset(inputs, targets)\n",
    "\n",
    "# train_ds = tensor_dataset(inputs, targets)\n",
    "\n",
    "# define DataLoader\n",
    "def data_loader(train_ds, batch_size=5):\n",
    "    return DataLoader(train_ds, batch_size, shuffle=True)\n",
    "\n",
    "# train_dl = data_loader(train_ds, batch_size)\n",
    "\n",
    "# Define model\n",
    "def models(inputs_col, targets_col):\n",
    "    return nn.Linear(inputs_col, targets_col)\n",
    "\n",
    "# model = models(inputs_col, targets_col)\n",
    "\n",
    "# loss function\n",
    "loss_fn = F.mse_loss\n",
    "\n",
    "# loss = loss_fn(model(inputs), targets)\n",
    "\n",
    "# Define optimizer\n",
    "def optimizer(lr = 1e-5):\n",
    "    return torch.optim.SGD(model.parameters(), lr)\n",
    "\n",
    "# opt = optimizer()"
   ]
  },
  {
   "cell_type": "markdown",
   "metadata": {},
   "source": [
    "## Train the model\n",
    "\n",
    "We are now ready to train the model. We'll follow the same process to implement gradient descent:\n",
    "\n",
    "1. Generate predictions\n",
    "\n",
    "2. Calculate the loss\n",
    "\n",
    "3. Compute gradients w.r.t the weights and biases\n",
    "\n",
    "4. Adjust the weights by subtracting a small quantity proportional to the gradient\n",
    "\n",
    "5. Reset the gradients to zero\n",
    "\n",
    "The only change is that we'll work batches of data instead of processing the entire training data in every iteration. Let's define a utility function `fit` that trains the model for a given number of epochs."
   ]
  },
  {
   "cell_type": "code",
   "execution_count": 3,
   "metadata": {},
   "outputs": [],
   "source": [
    "# Fonction utilitaire pour entraîner le modèle\n",
    "\n",
    "def fit(num_epoch, model, loss_fn, opt, train_dl, step_epoch=10):\n",
    "    \n",
    "    # Repeat for given number of epochs\n",
    "    \n",
    "    for epoch in range(num_epoch):\n",
    "        \n",
    "        # Train with batches of data\n",
    "        for xb, yb in train_dl:\n",
    "            \n",
    "            # 1. Generate predictions\n",
    "            pred = model(xb)\n",
    "            \n",
    "            # 2. Calculate loss\n",
    "            loss = loss_fn(pred, yb)\n",
    "            \n",
    "            # 3. Compute gradients\n",
    "            loss.backward()\n",
    "            \n",
    "            # 4. Update parameters using gradients\n",
    "            opt.step()\n",
    "            \n",
    "            # 5. Reset the gradients to zero\n",
    "            opt.zero_grad()\n",
    "            \n",
    "        if (epoch+1) % step_epoch == 0:\n",
    "            print(f\"Epoch[{epoch+1}/{num_epoch}], loss: {loss.item(): .4f}\")\n",
    "        "
   ]
  },
  {
   "cell_type": "markdown",
   "metadata": {},
   "source": [
    "# Example"
   ]
  },
  {
   "cell_type": "code",
   "execution_count": 4,
   "metadata": {},
   "outputs": [],
   "source": [
    "import numpy as np\n",
    "import torch\n",
    "\n",
    "# Input (temp, rainfall, humidity)\n",
    "inputs = np.array([[73, 67, 43], \n",
    "                   [91, 88, 64], \n",
    "                   [87, 134, 58], \n",
    "                   [102, 43, 37], \n",
    "                   [69, 96, 70], \n",
    "                   [74, 66, 43], \n",
    "                   [91, 87, 65], \n",
    "                   [88, 134, 59], \n",
    "                   [101, 44, 37], \n",
    "                   [68, 96, 71], \n",
    "                   [73, 66, 44], \n",
    "                   [92, 87, 64], \n",
    "                   [87, 135, 57], \n",
    "                   [103, 43, 36], \n",
    "                   [68, 97, 70]], \n",
    "                  dtype='float32')\n",
    "\n",
    "# Targets (apples, oranges)\n",
    "targets = np.array([[56, 70], \n",
    "                    [81, 101], \n",
    "                    [119, 133], \n",
    "                    [22, 37], \n",
    "                    [103, 119],\n",
    "                    [57, 69], \n",
    "                    [80, 102], \n",
    "                    [118, 132], \n",
    "                    [21, 38], \n",
    "                    [104, 118], \n",
    "                    [57, 69], \n",
    "                    [82, 100], \n",
    "                    [118, 134], \n",
    "                    [20, 38], \n",
    "                    [102, 120]], \n",
    "                   dtype='float32')\n",
    "\n",
    "inputs = torch.from_numpy(inputs)\n",
    "\n",
    "targets = torch.from_numpy(targets)"
   ]
  },
  {
   "cell_type": "code",
   "execution_count": 5,
   "metadata": {},
   "outputs": [],
   "source": [
    "train_ds = tensor_dataset(inputs, targets)\n",
    "train_dl = data_loader(train_ds, batch_size=5)\n",
    "model = models(3, 2)\n",
    "loss = loss_fn(model(inputs), targets)\n",
    "opt = optimizer()"
   ]
  },
  {
   "cell_type": "code",
   "execution_count": 6,
   "metadata": {},
   "outputs": [
    {
     "name": "stdout",
     "output_type": "stream",
     "text": [
      "Epoch[100/1000], loss:  2.9764\n",
      "Epoch[200/1000], loss:  7.8077\n",
      "Epoch[300/1000], loss:  5.2324\n",
      "Epoch[400/1000], loss:  3.4647\n",
      "Epoch[500/1000], loss:  1.9651\n",
      "Epoch[600/1000], loss:  2.8707\n",
      "Epoch[700/1000], loss:  1.5232\n",
      "Epoch[800/1000], loss:  1.6430\n",
      "Epoch[900/1000], loss:  1.2028\n",
      "Epoch[1000/1000], loss:  1.4482\n"
     ]
    }
   ],
   "source": [
    "fit(1000, model, loss_fn, opt, train_dl, step_epoch=100)"
   ]
  },
  {
   "cell_type": "code",
   "execution_count": null,
   "metadata": {},
   "outputs": [],
   "source": []
  }
 ],
 "metadata": {
  "hide_input": false,
  "kernelspec": {
   "display_name": "Python 3",
   "language": "python",
   "name": "python3"
  },
  "language_info": {
   "codemirror_mode": {
    "name": "ipython",
    "version": 3
   },
   "file_extension": ".py",
   "mimetype": "text/x-python",
   "name": "python",
   "nbconvert_exporter": "python",
   "pygments_lexer": "ipython3",
   "version": "3.8.3"
  }
 },
 "nbformat": 4,
 "nbformat_minor": 4
}
