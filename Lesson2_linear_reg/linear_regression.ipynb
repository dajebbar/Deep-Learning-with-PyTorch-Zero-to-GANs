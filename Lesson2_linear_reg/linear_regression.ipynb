{
  "nbformat": 4,
  "nbformat_minor": 0,
  "metadata": {
    "colab": {
      "name": "linear-regression.ipynb",
      "provenance": [],
      "collapsed_sections": []
    },
    "kernelspec": {
      "display_name": "Python 3",
      "language": "python",
      "name": "python3"
    },
    "language_info": {
      "codemirror_mode": {
        "name": "ipython",
        "version": 3
      },
      "file_extension": ".py",
      "mimetype": "text/x-python",
      "name": "python",
      "nbconvert_exporter": "python",
      "pygments_lexer": "ipython3",
      "version": "3.7.6"
    }
  },
  "cells": [
    {
      "cell_type": "code",
      "metadata": {
        "colab": {
          "base_uri": "https://localhost:8080/"
        },
        "id": "NmVN0RJ3VAYm",
        "outputId": "e2febcd7-0ea5-4646-b2ce-bc861b8a004f"
      },
      "source": [
        "# Jovian Commit Essentials\n",
        "# Please retain and execute this cell without modifying the contents for `jovian.commit` to work\n",
        "!pip install jovian --upgrade -q\n",
        "import jovian\n",
        "jovian.set_project('linear-regression')\n",
        "jovian.set_colab_id('1AKo4_TmdybnZAUVSmZJGvEX3Vov2WEqL')"
      ],
      "execution_count": 1,
      "outputs": [
        {
          "output_type": "stream",
          "text": [
            "\u001b[?25l\r\u001b[K     |████▉                           | 10kB 19.2MB/s eta 0:00:01\r\u001b[K     |█████████▊                      | 20kB 15.2MB/s eta 0:00:01\r\u001b[K     |██████████████▌                 | 30kB 9.4MB/s eta 0:00:01\r\u001b[K     |███████████████████▍            | 40kB 8.3MB/s eta 0:00:01\r\u001b[K     |████████████████████████▏       | 51kB 4.7MB/s eta 0:00:01\r\u001b[K     |█████████████████████████████   | 61kB 4.9MB/s eta 0:00:01\r\u001b[K     |████████████████████████████████| 71kB 3.6MB/s \n",
            "\u001b[?25h  Building wheel for uuid (setup.py) ... \u001b[?25l\u001b[?25hdone\n"
          ],
          "name": "stdout"
        }
      ]
    },
    {
      "cell_type": "code",
      "metadata": {
        "id": "k71l7fLyQauT"
      },
      "source": [
        "!pip install jovian --upgrade --quiet"
      ],
      "execution_count": 2,
      "outputs": []
    },
    {
      "cell_type": "code",
      "metadata": {
        "id": "9bwU4TMLQauW"
      },
      "source": [
        "import numpy as np\n",
        "import torch"
      ],
      "execution_count": 3,
      "outputs": []
    },
    {
      "cell_type": "markdown",
      "metadata": {
        "id": "M92Rl2anQ9m8"
      },
      "source": [
        "## Training data\n",
        "\n",
        "We can represent the training data using two matrices: `inputs` and `targets`, each with one row per observation, and one column per variable."
      ]
    },
    {
      "cell_type": "code",
      "metadata": {
        "id": "ZNDZlfTLQ1jK"
      },
      "source": [
        "# Input (temp, rainfall, humidity)\n",
        "inputs = np.array([[73, 67, 43], \n",
        "                   [91, 88, 64], \n",
        "                   [87, 134, 58], \n",
        "                   [102, 43, 37], \n",
        "                   [69, 96, 70]], dtype='float32')"
      ],
      "execution_count": 4,
      "outputs": []
    },
    {
      "cell_type": "code",
      "metadata": {
        "id": "s-3br0T3RGfK"
      },
      "source": [
        "# Targets (apples, oranges)\n",
        "targets = np.array([[56, 70], \n",
        "                    [81, 101], \n",
        "                    [119, 133], \n",
        "                    [22, 37], \n",
        "                    [103, 119]], dtype='float32')"
      ],
      "execution_count": 5,
      "outputs": []
    },
    {
      "cell_type": "markdown",
      "metadata": {
        "id": "pvYH4b3QRd4X"
      },
      "source": [
        "Let's convert the arrays to PyTorch tensors."
      ]
    },
    {
      "cell_type": "code",
      "metadata": {
        "id": "LRIpuJr9RJyT"
      },
      "source": [
        "inputs = torch.from_numpy(inputs)\n",
        "targets = torch.from_numpy(targets)"
      ],
      "execution_count": 6,
      "outputs": []
    },
    {
      "cell_type": "markdown",
      "metadata": {
        "id": "xkEToJ3IR5bZ"
      },
      "source": [
        "## Linear regression model from scratch\n",
        "\n",
        "The weights and biases (`w11, w12,... w23, b1 & b2`) can also be represented as matrices, initialized as random values. The first row of `w` and the first element of `b` are used to predict the first target variable, i.e., yield of apples, and similarly, the second for oranges.\n",
        "\n",
        "yield_apple  = w11 * temp + w12 * rainfall + w13 * humidity + b1\n",
        "yield_orange = w21 * temp + w22 * rainfall + w23 * humidity + b2"
      ]
    },
    {
      "cell_type": "code",
      "metadata": {
        "colab": {
          "base_uri": "https://localhost:8080/"
        },
        "id": "Kwx1X2KKRxe8",
        "outputId": "8f4945f8-793f-4fcc-8fa9-e22d62be2540"
      },
      "source": [
        "# Weights and biases\n",
        "w = torch.randn((2, 3), requires_grad=True)\n",
        "b = torch.randn((2,), requires_grad=True)\n",
        "print(w)\n",
        "print(b)"
      ],
      "execution_count": 7,
      "outputs": [
        {
          "output_type": "stream",
          "text": [
            "tensor([[ 0.5376,  0.0660, -0.4016],\n",
            "        [-0.6218, -0.9119, -0.3167]], requires_grad=True)\n",
            "tensor([-0.6848,  0.0488], requires_grad=True)\n"
          ],
          "name": "stdout"
        }
      ]
    },
    {
      "cell_type": "markdown",
      "metadata": {
        "id": "dsudi6BFS76v"
      },
      "source": [
        "Our *model* is simply a function that performs a matrix multiplication of the `inputs` and the weights `w` (transposed) and adds the bias `b` (replicated for each observation).\n",
        "\n",
        "# $$X \\times w^T + b$$"
      ]
    },
    {
      "cell_type": "markdown",
      "metadata": {
        "id": "RzS7vzM-TW-j"
      },
      "source": [
        "We can define the model as follows:"
      ]
    },
    {
      "cell_type": "code",
      "metadata": {
        "id": "PiyPUzc7SlvL"
      },
      "source": [
        "def model(x):\n",
        "  return torch.matmul(x, w.t()) + b"
      ],
      "execution_count": 8,
      "outputs": []
    },
    {
      "cell_type": "code",
      "metadata": {
        "colab": {
          "base_uri": "https://localhost:8080/"
        },
        "id": "1JuI_rvLU0pL",
        "outputId": "e6691210-ef3b-46b3-8d10-37ddd91f81cf"
      },
      "source": [
        "print(inputs)\n",
        "print(w)\n",
        "print(b)"
      ],
      "execution_count": 9,
      "outputs": [
        {
          "output_type": "stream",
          "text": [
            "tensor([[ 73.,  67.,  43.],\n",
            "        [ 91.,  88.,  64.],\n",
            "        [ 87., 134.,  58.],\n",
            "        [102.,  43.,  37.],\n",
            "        [ 69.,  96.,  70.]])\n",
            "tensor([[ 0.5376,  0.0660, -0.4016],\n",
            "        [-0.6218, -0.9119, -0.3167]], requires_grad=True)\n",
            "tensor([-0.6848,  0.0488], requires_grad=True)\n"
          ],
          "name": "stdout"
        }
      ]
    },
    {
      "cell_type": "code",
      "metadata": {
        "colab": {
          "base_uri": "https://localhost:8080/"
        },
        "id": "KhN3fVmJUjZF",
        "outputId": "0e780a28-7df9-4cfd-8b6d-a2d62c842012"
      },
      "source": [
        "# Generate predictions\n",
        "preds = model(inputs)\n",
        "print(preds)\n",
        "print('=' * 20)\n",
        "print(targets)"
      ],
      "execution_count": 10,
      "outputs": [
        {
          "output_type": "stream",
          "text": [
            "tensor([[  25.7127, -120.0610],\n",
            "        [  28.3416, -157.0552],\n",
            "        [  31.6379, -194.6161],\n",
            "        [  42.1283, -114.3067],\n",
            "        [  14.6328, -152.5713]], grad_fn=<AddBackward0>)\n",
            "====================\n",
            "tensor([[ 56.,  70.],\n",
            "        [ 81., 101.],\n",
            "        [119., 133.],\n",
            "        [ 22.,  37.],\n",
            "        [103., 119.]])\n"
          ],
          "name": "stdout"
        }
      ]
    },
    {
      "cell_type": "markdown",
      "metadata": {
        "id": "o8gluGWkZIuC"
      },
      "source": [
        "You can see a big difference between our model's predictions and the actual targets because we've initialized our model with random weights and biases. Obviously, we can't expect a randomly initialized model to just work."
      ]
    },
    {
      "cell_type": "markdown",
      "metadata": {
        "id": "XFvgRLRsbYrJ"
      },
      "source": [
        "## Loss function\n",
        "\n",
        "Before we improve our model, we need a way to evaluate how well our model is performing. We can compare the model's predictions with the actual targets using the following method:\n",
        "\n",
        "* Calculate the difference between the two matrices (`preds` and `targets`).\n",
        "* Square all elements of the difference matrix to remove negative values.\n",
        "* Calculate the average of the elements in the resulting matrix.\n",
        "\n",
        "The result is a single number, known as the **mean squared error** (MSE)."
      ]
    },
    {
      "cell_type": "code",
      "metadata": {
        "id": "KT0fk-7daZKx"
      },
      "source": [
        "# MSE loss\n",
        "def mse(t1, t2):\n",
        "  diff = t1-t2\n",
        "  return torch.sum(diff * diff) / diff.numel()"
      ],
      "execution_count": 11,
      "outputs": []
    },
    {
      "cell_type": "code",
      "metadata": {
        "colab": {
          "base_uri": "https://localhost:8080/"
        },
        "id": "w7nEWwoTb1Dv",
        "outputId": "481fa8a5-0de8-4457-dd7e-cdcde15bf0c4"
      },
      "source": [
        "loss = mse(preds, targets)\n",
        "print(loss)"
      ],
      "execution_count": 12,
      "outputs": [
        {
          "output_type": "stream",
          "text": [
            "tensor(32622.8906, grad_fn=<DivBackward0>)\n"
          ],
          "name": "stdout"
        }
      ]
    },
    {
      "cell_type": "code",
      "metadata": {
        "id": "qCshCibteKXN"
      },
      "source": [
        "# diff = (preds - targets)**2\n",
        "# loss = torch.mean(diff)\n",
        "# loss"
      ],
      "execution_count": 13,
      "outputs": []
    },
    {
      "cell_type": "markdown",
      "metadata": {
        "id": "GxBX1xy8iXyF"
      },
      "source": [
        "Here’s how we can interpret the result: On average, each element in the prediction differs from the actual target by the square root of the loss. And that’s pretty bad, considering the numbers we are trying to predict are themselves in the range 50–200. The result is called the loss because it indicates how bad the model is at predicting the target variables. It represents information loss in the model: the lower the loss, the better the model."
      ]
    },
    {
      "cell_type": "markdown",
      "metadata": {
        "id": "wAn7TElzikSx"
      },
      "source": [
        "## Compute gradients\n",
        "With PyTorch, we can automatically compute the gradient or derivative of the loss w.r.t. to the weights and biases because they have `requires_grad` set to `True`. We'll see how this is useful in just a moment."
      ]
    },
    {
      "cell_type": "code",
      "metadata": {
        "id": "82UVSvNYb55A"
      },
      "source": [
        "# Compute gradients\n",
        "loss.backward()"
      ],
      "execution_count": 14,
      "outputs": []
    },
    {
      "cell_type": "markdown",
      "metadata": {
        "id": "H2r2SDybz4oe"
      },
      "source": [
        "The gradients are stored in the `.grad` property of the respective tensors. Note that the derivative of the loss w.r.t. the weights matrix is itself a matrix with the same dimensions."
      ]
    },
    {
      "cell_type": "code",
      "metadata": {
        "colab": {
          "base_uri": "https://localhost:8080/"
        },
        "id": "tZSNcoR4zyzt",
        "outputId": "0c51b05d-0d33-491c-bef8-462e41964970"
      },
      "source": [
        "print(w)\n",
        "print(w.grad)"
      ],
      "execution_count": 15,
      "outputs": [
        {
          "output_type": "stream",
          "text": [
            "tensor([[ 0.5376,  0.0660, -0.4016],\n",
            "        [-0.6218, -0.9119, -0.3167]], requires_grad=True)\n",
            "tensor([[ -3729.5278,  -5197.4883,  -3036.0898],\n",
            "        [-20006.3574, -22384.1055, -13659.6445]])\n"
          ],
          "name": "stdout"
        }
      ]
    },
    {
      "cell_type": "code",
      "metadata": {
        "id": "Xrf9QISTz9BW",
        "colab": {
          "base_uri": "https://localhost:8080/"
        },
        "outputId": "f10891d4-f3d2-4971-f75d-795a3b17897a"
      },
      "source": [
        "import jovian\n",
        "\n",
        "jovian"
      ],
      "execution_count": 16,
      "outputs": [
        {
          "output_type": "execute_result",
          "data": {
            "text/plain": [
              "<module 'jovian' from '/usr/local/lib/python3.7/dist-packages/jovian/__init__.py'>"
            ]
          },
          "metadata": {
            "tags": []
          },
          "execution_count": 16
        }
      ]
    },
    {
      "cell_type": "markdown",
      "metadata": {
        "id": "5Te-8cSTfxSS"
      },
      "source": [
        "## Adjust weights and biases to reduce the loss\n",
        "The increase or decrease in the loss by changing a weight element is proportional to the gradient of the loss w.r.t. that element. This observation forms the basis of _the gradient descent_ optimization algorithm that we'll use to improve our model (by _descending_ along the _gradient_).\n",
        "\n",
        "We can subtract from each weight element a small quantity proportional to the derivative of the loss w.r.t. that element to reduce the loss slightly."
      ]
    },
    {
      "cell_type": "code",
      "metadata": {
        "colab": {
          "base_uri": "https://localhost:8080/"
        },
        "id": "FmyF4sUMfykW",
        "outputId": "6f090ce4-7068-434c-d866-15fd9fd367db"
      },
      "source": [
        "print(w)\n",
        "print(w.grad)"
      ],
      "execution_count": 17,
      "outputs": [
        {
          "output_type": "stream",
          "text": [
            "tensor([[ 0.5376,  0.0660, -0.4016],\n",
            "        [-0.6218, -0.9119, -0.3167]], requires_grad=True)\n",
            "tensor([[ -3729.5278,  -5197.4883,  -3036.0898],\n",
            "        [-20006.3574, -22384.1055, -13659.6445]])\n"
          ],
          "name": "stdout"
        }
      ]
    },
    {
      "cell_type": "code",
      "metadata": {
        "id": "LnZiFVsoiIO5"
      },
      "source": [
        "# Let's take learning rate lr = 1e-5\n",
        "lr = 1e-5\n",
        "with torch.no_grad():\n",
        "  w -= w.grad * lr\n",
        "  b -= b.grad * lr"
      ],
      "execution_count": 18,
      "outputs": []
    },
    {
      "cell_type": "code",
      "metadata": {
        "colab": {
          "base_uri": "https://localhost:8080/"
        },
        "id": "BB4c-qEXk8Sh",
        "outputId": "8c9e90e4-e6ca-473d-b88b-b47b161f795a"
      },
      "source": [
        "print(w)\n",
        "print(b)"
      ],
      "execution_count": 20,
      "outputs": [
        {
          "output_type": "stream",
          "text": [
            "tensor([[ 0.5749,  0.1180, -0.3713],\n",
            "        [-0.4217, -0.6881, -0.1801]], requires_grad=True)\n",
            "tensor([-0.6843,  0.0512], requires_grad=True)\n"
          ],
          "name": "stdout"
        }
      ]
    },
    {
      "cell_type": "markdown",
      "metadata": {
        "id": "lgxfDHUqi_4T"
      },
      "source": [
        "We multiply the gradients with a very small number ($10^{-5}$ in this case) to ensure that we don't modify the weights by a very large amount. We want to take a small step in the downhill direction of the gradient, not a giant leap. This number is called the *learning rate* of the algorithm. \n",
        "\n",
        "We use `torch.no_grad` to indicate to PyTorch that we shouldn't track, calculate, or modify gradients while updating the weights and biases.  \n",
        "\n",
        "Before we proceed to verify that the loss is actually lower, we reset the gradients to zero by invoking the `.zero_()` method. We need to do this because PyTorch accumulates gradients. Otherwise, the next time we invoke `.backward` on the loss, the new gradient values are added to the existing gradients, which may lead to unexpected results."
      ]
    },
    {
      "cell_type": "code",
      "metadata": {
        "colab": {
          "base_uri": "https://localhost:8080/"
        },
        "id": "9c8xGjaEi_Ec",
        "outputId": "2bfc2756-04d2-43e7-e0ea-770123019ea2"
      },
      "source": [
        "w.grad.zero_()\n",
        "b.grad.zero_()\n",
        "print(w.grad)\n",
        "print(b.grad)"
      ],
      "execution_count": 22,
      "outputs": [
        {
          "output_type": "stream",
          "text": [
            "tensor([[0., 0., 0.],\n",
            "        [0., 0., 0.]])\n",
            "tensor([0., 0.])\n"
          ],
          "name": "stdout"
        }
      ]
    },
    {
      "cell_type": "markdown",
      "metadata": {
        "id": "C1PRiLjsmT_d"
      },
      "source": [
        "## Train the model using gradient descent\n",
        "\n",
        "As seen above, we reduce the loss and improve our model using the gradient descent optimization algorithm. Thus, we can _train_ the model using the following steps:\n",
        "\n",
        "1. Generate predictions\n",
        "\n",
        "2. Calculate the loss\n",
        "\n",
        "3. Compute gradients w.r.t the weights and biases\n",
        "\n",
        "4. Adjust the weights by subtracting a small quantity proportional to the gradient\n",
        "\n",
        "5. Reset the gradients to zero\n",
        "\n",
        "Let's implement the above step by step."
      ]
    },
    {
      "cell_type": "code",
      "metadata": {
        "colab": {
          "base_uri": "https://localhost:8080/"
        },
        "id": "U8Kk1mhlj4xE",
        "outputId": "65043de2-dad7-44eb-b63c-03fe96cbcdd2"
      },
      "source": [
        "# Generate predictions\n",
        "preds = model(inputs)\n",
        "print(preds)"
      ],
      "execution_count": 23,
      "outputs": [
        {
          "output_type": "stream",
          "text": [
            "tensor([[  33.2236,  -84.5830],\n",
            "        [  38.2528, -110.4068],\n",
            "        [  43.6087, -139.2908],\n",
            "        [  49.2912,  -79.2186],\n",
            "        [  24.3215, -107.7140]], grad_fn=<AddBackward0>)\n"
          ],
          "name": "stdout"
        }
      ]
    },
    {
      "cell_type": "code",
      "metadata": {
        "colab": {
          "base_uri": "https://localhost:8080/"
        },
        "id": "v0Z9He5tmoEh",
        "outputId": "27a3018b-ab29-43f7-e7c6-ef47abb4d7fb"
      },
      "source": [
        "# Calculate the loss\n",
        "loss = mse(preds, targets)\n",
        "print(loss)"
      ],
      "execution_count": 24,
      "outputs": [
        {
          "output_type": "stream",
          "text": [
            "tensor(22260.2070, grad_fn=<DivBackward0>)\n"
          ],
          "name": "stdout"
        }
      ]
    },
    {
      "cell_type": "code",
      "metadata": {
        "colab": {
          "base_uri": "https://localhost:8080/"
        },
        "id": "PWkF0FR5myUI",
        "outputId": "42f47112-5746-43d6-a52c-b02de4184c56"
      },
      "source": [
        "# Compute gradients\n",
        "loss.backward()\n",
        "print(w.grad)\n",
        "print(b.grad)"
      ],
      "execution_count": 25,
      "outputs": [
        {
          "output_type": "stream",
          "text": [
            "tensor([[ -2951.3674,  -4353.9653,  -2517.1250],\n",
            "        [-16341.8887, -18441.9551, -11228.0078]])\n",
            "tensor([ -38.4605, -196.2426])\n"
          ],
          "name": "stdout"
        }
      ]
    },
    {
      "cell_type": "markdown",
      "metadata": {
        "id": "jbaRRnVcnHV0"
      },
      "source": [
        "Let's update the weights and biases using the gradients computed above."
      ]
    },
    {
      "cell_type": "code",
      "metadata": {
        "id": "2kb7QvBqnAUo"
      },
      "source": [
        "# Adjust weights & reset gradients\n",
        "with torch.no_grad():\n",
        "  w -= w.grad * lr\n",
        "  b -= b.grad * lr\n",
        "  w.grad.zero_()\n",
        "  b.grad.zero_()"
      ],
      "execution_count": 26,
      "outputs": []
    },
    {
      "cell_type": "markdown",
      "metadata": {
        "id": "Az8wXPbXnylA"
      },
      "source": [
        "Let's take a look at the new weights and biases."
      ]
    },
    {
      "cell_type": "code",
      "metadata": {
        "colab": {
          "base_uri": "https://localhost:8080/"
        },
        "id": "ND5JBOgHnnoI",
        "outputId": "84ac3ec2-67d0-45e5-f818-aed8bb0df765"
      },
      "source": [
        "print(w)\n",
        "print(b)"
      ],
      "execution_count": 27,
      "outputs": [
        {
          "output_type": "stream",
          "text": [
            "tensor([[ 0.6044,  0.1615, -0.3461],\n",
            "        [-0.2583, -0.5037, -0.0679]], requires_grad=True)\n",
            "tensor([-0.6840,  0.0531], requires_grad=True)\n"
          ],
          "name": "stdout"
        }
      ]
    },
    {
      "cell_type": "markdown",
      "metadata": {
        "id": "eSKPrPiMoBvx"
      },
      "source": [
        "With the new weights and biases, the model should have a lower loss."
      ]
    },
    {
      "cell_type": "code",
      "metadata": {
        "colab": {
          "base_uri": "https://localhost:8080/"
        },
        "id": "1vH23Egen2Qe",
        "outputId": "ee8b20fd-0b01-4845-ef14-361f9bd75805"
      },
      "source": [
        "# Calculate loss\n",
        "print(f\"loss before: {loss}\")\n",
        "preds = model(inputs)\n",
        "loss = mse(preds, targets)\n",
        "print(f\"loss after: {loss}\")"
      ],
      "execution_count": 28,
      "outputs": [
        {
          "output_type": "stream",
          "text": [
            "loss before: 22260.20703125\n",
            "loss after: 15273.6279296875\n"
          ],
          "name": "stdout"
        }
      ]
    },
    {
      "cell_type": "markdown",
      "metadata": {
        "id": "g-9oOC4moob4"
      },
      "source": [
        "## Train for multiple epochs\n",
        "\n",
        "To reduce the loss further, we can repeat the process of adjusting the weights and biases using the gradients multiple times. Each iteration is called an _epoch_. Let's train the model for 100 epochs."
      ]
    },
    {
      "cell_type": "code",
      "metadata": {
        "id": "9B9mlpjZofLX"
      },
      "source": [
        "for i in range(100):\n",
        "  # generate predictions\n",
        "  preds = model(inputs)\n",
        "  # calculate the loss\n",
        "  loss = mse(preds, targets)\n",
        "  # compute gradients\n",
        "  loss.backward()\n",
        "  # adjust the weights and reset the gradients\n",
        "  with torch.no_grad():\n",
        "      w -= w.grad * lr\n",
        "      b -= b.grad * lr\n",
        "      w.grad.zero_()\n",
        "      b.grad.zero_()\n"
      ],
      "execution_count": 30,
      "outputs": []
    },
    {
      "cell_type": "markdown",
      "metadata": {
        "id": "A6_cio6lqV0u"
      },
      "source": [
        "Once again, let's verify that the loss is now lower:"
      ]
    },
    {
      "cell_type": "code",
      "metadata": {
        "colab": {
          "base_uri": "https://localhost:8080/"
        },
        "id": "3Zm2brRlqOn7",
        "outputId": "68e980a1-de1d-406c-ce4e-8ce0c4b39609"
      },
      "source": [
        "# Calculate loss\n",
        "preds = model(inputs)\n",
        "loss = mse(preds, targets)\n",
        "print(f\"loss= {loss}\")"
      ],
      "execution_count": 32,
      "outputs": [
        {
          "output_type": "stream",
          "text": [
            "loss= 267.3872375488281\n"
          ],
          "name": "stdout"
        }
      ]
    },
    {
      "cell_type": "markdown",
      "metadata": {
        "id": "GHjwps2-qpqW"
      },
      "source": [
        "The loss is now much lower than its initial value. Let's look at the model's predictions and compare them with the targets."
      ]
    },
    {
      "cell_type": "code",
      "metadata": {
        "colab": {
          "base_uri": "https://localhost:8080/"
        },
        "id": "yMkU8tPrqa0m",
        "outputId": "fb11d081-ffbf-4937-d755-35b43f134db3"
      },
      "source": [
        "# predictions\n",
        "print(preds)\n",
        "\n",
        "print(\"=\" * 50)\n",
        "\n",
        "# targets\n",
        "print(targets)\n"
      ],
      "execution_count": 33,
      "outputs": [
        {
          "output_type": "stream",
          "text": [
            "tensor([[ 63.0731,  74.6333],\n",
            "        [ 80.7282, 101.0593],\n",
            "        [112.5561, 125.1219],\n",
            "        [ 55.5345,  61.8349],\n",
            "        [ 79.1074, 105.3428]], grad_fn=<AddBackward0>)\n",
            "==================================================\n",
            "tensor([[ 56.,  70.],\n",
            "        [ 81., 101.],\n",
            "        [119., 133.],\n",
            "        [ 22.,  37.],\n",
            "        [103., 119.]])\n"
          ],
          "name": "stdout"
        }
      ]
    },
    {
      "cell_type": "markdown",
      "metadata": {
        "id": "1wJj5tKZrD6K"
      },
      "source": [
        "The predictions are now quite close to the target variables. We can get even better results by training for a few more epochs. "
      ]
    },
    {
      "cell_type": "code",
      "metadata": {
        "colab": {
          "base_uri": "https://localhost:8080/",
          "height": 137
        },
        "id": "bYfb10XNq6LW",
        "outputId": "dd320fcd-15e2-4d1d-b71c-2cdf680a07f2"
      },
      "source": [
        "jovian.commit()"
      ],
      "execution_count": 34,
      "outputs": [
        {
          "output_type": "stream",
          "text": [
            "[jovian] Detected Colab notebook...\u001b[0m\n",
            "[jovian] Please enter your API key ( from https://jovian.ai/ ):\u001b[0m\n",
            "API KEY: ··········\n",
            "[jovian] Uploading colab notebook to Jovian...\u001b[0m\n",
            "[jovian] Capturing environment..\u001b[0m\n",
            "[jovian] Committed successfully! https://jovian.ai/boubekri/linear-regression\u001b[0m\n"
          ],
          "name": "stdout"
        },
        {
          "output_type": "execute_result",
          "data": {
            "application/vnd.google.colaboratory.intrinsic+json": {
              "type": "string"
            },
            "text/plain": [
              "'https://jovian.ai/boubekri/linear-regression'"
            ]
          },
          "metadata": {
            "tags": []
          },
          "execution_count": 34
        }
      ]
    },
    {
      "cell_type": "code",
      "metadata": {
        "id": "iak8HzglrK85"
      },
      "source": [
        ""
      ],
      "execution_count": null,
      "outputs": []
    }
  ]
}