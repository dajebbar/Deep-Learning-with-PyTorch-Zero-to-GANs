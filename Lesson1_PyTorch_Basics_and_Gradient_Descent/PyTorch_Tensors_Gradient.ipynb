{
  "nbformat": 4,
  "nbformat_minor": 0,
  "metadata": {
    "colab": {
      "name": "PyTorch_Tensors_Gradient.ipynb",
      "provenance": []
    },
    "kernelspec": {
      "display_name": "Python 3",
      "name": "python3"
    }
  },
  "cells": [
    {
      "cell_type": "code",
      "metadata": {
        "id": "VeYcntDLTGov"
      },
      "source": [
        "# Jovian Commit Essentials\n",
        "# Please retain and execute this cell without modifying the contents for `jovian.commit` to work\n",
        "!pip install jovian --upgrade -q\n",
        "import jovian\n",
        "jovian.set_project('pytorch-tensors-gradient')\n",
        "jovian.set_colab_id('1fJ7arM56hQdH94GtYHvc6nRmdMr0JibP')"
      ],
      "execution_count": 1,
      "outputs": []
    },
    {
      "cell_type": "code",
      "metadata": {
        "id": "-8_6OuOEPUa7"
      },
      "source": [
        "import torch"
      ],
      "execution_count": 2,
      "outputs": []
    },
    {
      "cell_type": "markdown",
      "metadata": {
        "id": "xcnkaavCSUTN"
      },
      "source": [
        "# Tensors\n",
        "\n",
        "At its core, PyTorch is a library for processing `tensors`. A `tensor` is a number, vector, matrix, or any n-dimensional array. Let's create a `tensor` with a single number."
      ]
    },
    {
      "cell_type": "markdown",
      "metadata": {
        "id": "wZHxL08WRm3s"
      },
      "source": [
        "tensor with a single number"
      ]
    },
    {
      "cell_type": "code",
      "metadata": {
        "colab": {
          "base_uri": "https://localhost:8080/"
        },
        "id": "GfDhxjoWRBwJ",
        "outputId": "f3a89deb-d885-4154-ce9f-85c5fdf46a21"
      },
      "source": [
        "t1 = torch.tensor(4.)\n",
        "t1"
      ],
      "execution_count": 3,
      "outputs": [
        {
          "output_type": "execute_result",
          "data": {
            "text/plain": [
              "tensor(4.)"
            ]
          },
          "metadata": {
            "tags": []
          },
          "execution_count": 3
        }
      ]
    },
    {
      "cell_type": "code",
      "metadata": {
        "colab": {
          "base_uri": "https://localhost:8080/"
        },
        "id": "M-8P9oYYR_L0",
        "outputId": "e4787d39-940d-4b82-814d-f04cd3842558"
      },
      "source": [
        "t1.dtype"
      ],
      "execution_count": 4,
      "outputs": [
        {
          "output_type": "execute_result",
          "data": {
            "text/plain": [
              "torch.float32"
            ]
          },
          "metadata": {
            "tags": []
          },
          "execution_count": 4
        }
      ]
    },
    {
      "cell_type": "markdown",
      "metadata": {
        "id": "oPqvtSLBS_ud"
      },
      "source": [
        "Let's try creating more complex tensors."
      ]
    },
    {
      "cell_type": "code",
      "metadata": {
        "colab": {
          "base_uri": "https://localhost:8080/"
        },
        "id": "fBjUyxxMSzux",
        "outputId": "09bb480d-56e7-4c5e-8aa8-6dfdf5f5d0ea"
      },
      "source": [
        "# vercor\n",
        "t2 = torch.tensor(list(range(6)))\n",
        "t2"
      ],
      "execution_count": 5,
      "outputs": [
        {
          "output_type": "execute_result",
          "data": {
            "text/plain": [
              "tensor([0, 1, 2, 3, 4, 5])"
            ]
          },
          "metadata": {
            "tags": []
          },
          "execution_count": 5
        }
      ]
    },
    {
      "cell_type": "code",
      "metadata": {
        "colab": {
          "base_uri": "https://localhost:8080/"
        },
        "id": "gIsvRgqdTPY8",
        "outputId": "5455c614-fa4d-48fa-a9b6-e01573451e18"
      },
      "source": [
        "t2.dtype"
      ],
      "execution_count": 6,
      "outputs": [
        {
          "output_type": "execute_result",
          "data": {
            "text/plain": [
              "torch.int64"
            ]
          },
          "metadata": {
            "tags": []
          },
          "execution_count": 6
        }
      ]
    },
    {
      "cell_type": "code",
      "metadata": {
        "colab": {
          "base_uri": "https://localhost:8080/"
        },
        "id": "_3DmHmAITTHG",
        "outputId": "77579d92-23fe-4d29-a703-6314e9784151"
      },
      "source": [
        "t2.shape"
      ],
      "execution_count": 7,
      "outputs": [
        {
          "output_type": "execute_result",
          "data": {
            "text/plain": [
              "torch.Size([6])"
            ]
          },
          "metadata": {
            "tags": []
          },
          "execution_count": 7
        }
      ]
    },
    {
      "cell_type": "code",
      "metadata": {
        "colab": {
          "base_uri": "https://localhost:8080/"
        },
        "id": "sP6GQ22ZTWQI",
        "outputId": "27b659bf-97da-4842-cf23-4a0c0a3a6ee6"
      },
      "source": [
        "# Matrix\n",
        "\n",
        "t3 = torch.tensor([\n",
        "                   [10, 20],\n",
        "                   [11, 21],\n",
        "                   [12, 24]\n",
        "])\n",
        "t3"
      ],
      "execution_count": 8,
      "outputs": [
        {
          "output_type": "execute_result",
          "data": {
            "text/plain": [
              "tensor([[10, 20],\n",
              "        [11, 21],\n",
              "        [12, 24]])"
            ]
          },
          "metadata": {
            "tags": []
          },
          "execution_count": 8
        }
      ]
    },
    {
      "cell_type": "code",
      "metadata": {
        "colab": {
          "base_uri": "https://localhost:8080/"
        },
        "id": "J9Nm6Z1uTtnN",
        "outputId": "177f1963-ace0-4156-93fc-cfb1eba8372c"
      },
      "source": [
        "t3.dtype"
      ],
      "execution_count": 9,
      "outputs": [
        {
          "output_type": "execute_result",
          "data": {
            "text/plain": [
              "torch.int64"
            ]
          },
          "metadata": {
            "tags": []
          },
          "execution_count": 9
        }
      ]
    },
    {
      "cell_type": "code",
      "metadata": {
        "colab": {
          "base_uri": "https://localhost:8080/"
        },
        "id": "83C5xXcMTxuf",
        "outputId": "d0bd846b-88e7-4e7e-c6f6-87645beb521b"
      },
      "source": [
        "t3.shape"
      ],
      "execution_count": 10,
      "outputs": [
        {
          "output_type": "execute_result",
          "data": {
            "text/plain": [
              "torch.Size([3, 2])"
            ]
          },
          "metadata": {
            "tags": []
          },
          "execution_count": 10
        }
      ]
    },
    {
      "cell_type": "code",
      "metadata": {
        "colab": {
          "base_uri": "https://localhost:8080/"
        },
        "id": "0vlMvL-PTz-9",
        "outputId": "3244ae8c-372c-4d57-d157-e218e75386c5"
      },
      "source": [
        "# 3-dimentional array\n",
        "t4 = torch.tensor([\n",
        "                   [\n",
        "                    [1, 2, 3],\n",
        "                    [4, 5., 6]\n",
        "                   ],\n",
        "                   [\n",
        "                    [7, 8, 9],\n",
        "                    [10, 11, 12]\n",
        "                   ]\n",
        "])\n",
        "\n",
        "t4"
      ],
      "execution_count": 11,
      "outputs": [
        {
          "output_type": "execute_result",
          "data": {
            "text/plain": [
              "tensor([[[ 1.,  2.,  3.],\n",
              "         [ 4.,  5.,  6.]],\n",
              "\n",
              "        [[ 7.,  8.,  9.],\n",
              "         [10., 11., 12.]]])"
            ]
          },
          "metadata": {
            "tags": []
          },
          "execution_count": 11
        }
      ]
    },
    {
      "cell_type": "code",
      "metadata": {
        "colab": {
          "base_uri": "https://localhost:8080/"
        },
        "id": "eUM0ix2tUda7",
        "outputId": "96dba695-a21d-4eae-eea5-d9a0f76ea732"
      },
      "source": [
        "t4.dtype"
      ],
      "execution_count": 12,
      "outputs": [
        {
          "output_type": "execute_result",
          "data": {
            "text/plain": [
              "torch.float32"
            ]
          },
          "metadata": {
            "tags": []
          },
          "execution_count": 12
        }
      ]
    },
    {
      "cell_type": "code",
      "metadata": {
        "colab": {
          "base_uri": "https://localhost:8080/"
        },
        "id": "xxQdyDunUj_6",
        "outputId": "6f6c1416-8407-4537-ac6f-e086c9511923"
      },
      "source": [
        "t4.shape"
      ],
      "execution_count": 13,
      "outputs": [
        {
          "output_type": "execute_result",
          "data": {
            "text/plain": [
              "torch.Size([2, 2, 3])"
            ]
          },
          "metadata": {
            "tags": []
          },
          "execution_count": 13
        }
      ]
    },
    {
      "cell_type": "markdown",
      "metadata": {
        "id": "S4izigacU7BA"
      },
      "source": [
        "Note that it's not possible to create tensors with an improper shape."
      ]
    },
    {
      "cell_type": "code",
      "metadata": {
        "id": "OFwIQtQKUiJn"
      },
      "source": [
        "# Matrix\n",
        "# t5 = torch.tensor([[5., 6, 11], \n",
        "#                    [7, 8], \n",
        "#                    [9, 10]])\n",
        "\n",
        "# It's give a ValueError error."
      ],
      "execution_count": 14,
      "outputs": []
    },
    {
      "cell_type": "markdown",
      "metadata": {
        "id": "TELb-VI3VeuZ"
      },
      "source": [
        "A ValueError is thrown because the lengths of the rows [5., 6, 11] and [7, 8] don't match."
      ]
    },
    {
      "cell_type": "markdown",
      "metadata": {
        "id": "Yvz-NTeMXGNa"
      },
      "source": [
        "# Tensor operations and gradients\n",
        "We can combine tensors with the usual arithmetic operations. Let's look at an example:"
      ]
    },
    {
      "cell_type": "code",
      "metadata": {
        "colab": {
          "base_uri": "https://localhost:8080/"
        },
        "id": "LTOj5XqxVKk8",
        "outputId": "cb57a45a-9f5f-4259-e855-939a7a8a65a2"
      },
      "source": [
        "# create tensors\n",
        "x = torch.tensor(3.)\n",
        "w = torch.tensor(4., requires_grad=True)\n",
        "b = torch.tensor(5., requires_grad=True)\n",
        "\n",
        "x, w, b"
      ],
      "execution_count": 15,
      "outputs": [
        {
          "output_type": "execute_result",
          "data": {
            "text/plain": [
              "(tensor(3.), tensor(4., requires_grad=True), tensor(5., requires_grad=True))"
            ]
          },
          "metadata": {
            "tags": []
          },
          "execution_count": 15
        }
      ]
    },
    {
      "cell_type": "markdown",
      "metadata": {
        "id": "M4JeYnEBcsQh"
      },
      "source": [
        "Let's create a new tensor y by combining these tensors."
      ]
    },
    {
      "cell_type": "code",
      "metadata": {
        "colab": {
          "base_uri": "https://localhost:8080/"
        },
        "id": "PVGDJIY3XqdQ",
        "outputId": "999e1e49-93b7-4fe9-83c6-b5caa0938f55"
      },
      "source": [
        "y = w * x + b\n",
        "y"
      ],
      "execution_count": 16,
      "outputs": [
        {
          "output_type": "execute_result",
          "data": {
            "text/plain": [
              "tensor(17., grad_fn=<AddBackward0>)"
            ]
          },
          "metadata": {
            "tags": []
          },
          "execution_count": 16
        }
      ]
    },
    {
      "cell_type": "markdown",
      "metadata": {
        "id": "zSN650SWdGq5"
      },
      "source": [
        "As expected, `y` is a tensor with the value `3 * 4 + 5 = 17`. What makes PyTorch unique is that we can automatically compute the derivative of `y` w.r.t. the tensors that have `requires_grad` set to `True` i.e. w and b. This feature of PyTorch is called _autograd_ (automatic gradients).\n",
        "\n",
        "To compute the derivatives, we can invoke the `.backward` method on our result `y`."
      ]
    },
    {
      "cell_type": "code",
      "metadata": {
        "id": "XoqiH8pGczFP"
      },
      "source": [
        "# compute dericatives\n",
        "y.backward()"
      ],
      "execution_count": 17,
      "outputs": []
    },
    {
      "cell_type": "markdown",
      "metadata": {
        "id": "3-ekq9VldkXk"
      },
      "source": [
        "The derivatives of y with respect to the input tensors are stored in the .grad property of the respective tensors."
      ]
    },
    {
      "cell_type": "code",
      "metadata": {
        "colab": {
          "base_uri": "https://localhost:8080/"
        },
        "id": "yCOR60xydcMF",
        "outputId": "d7c79145-1119-4321-e831-61d54c50c598"
      },
      "source": [
        "# Display gradients\n",
        "print(f\"dy/dx : {x.grad}\")\n",
        "print(f\"dy/dw : {w.grad}\")\n",
        "print(f\"dy/db : {b.grad}\")"
      ],
      "execution_count": 18,
      "outputs": [
        {
          "output_type": "stream",
          "text": [
            "dy/dx : None\n",
            "dy/dw : 3.0\n",
            "dy/db : 1.0\n"
          ],
          "name": "stdout"
        }
      ]
    },
    {
      "cell_type": "markdown",
      "metadata": {
        "id": "MY5f-MWxgmqH"
      },
      "source": [
        "As expected, `dy/dw` has the same value as `x`, i.e., `3`, and `dy/db` has the value `1`. Note that `x.grad` is `None` because `x` doesn't have `requires_grad` set to `True`. \n",
        "\n",
        "The \"grad\" in `w.grad` is short for _gradient_, which is another term for derivative. The term _gradient_ is primarily used while dealing with vectors and matrices."
      ]
    },
    {
      "cell_type": "markdown",
      "metadata": {
        "id": "xhJpIIjEhq7h"
      },
      "source": [
        "## Tensor functions\n",
        "\n",
        "Apart from arithmetic operations, the `torch` module also contains many functions for creating and manipulating tensors. Let's look at some examples."
      ]
    },
    {
      "cell_type": "code",
      "metadata": {
        "colab": {
          "base_uri": "https://localhost:8080/"
        },
        "id": "9sgL707deIB7",
        "outputId": "593b3777-56fd-4ba8-bd9d-eeb48106af09"
      },
      "source": [
        "# Create a tensor with a fixed value for every element\n",
        "t6 = torch.full((3, 2), 42.)\n",
        "t6"
      ],
      "execution_count": 19,
      "outputs": [
        {
          "output_type": "execute_result",
          "data": {
            "text/plain": [
              "tensor([[42., 42.],\n",
              "        [42., 42.],\n",
              "        [42., 42.]])"
            ]
          },
          "metadata": {
            "tags": []
          },
          "execution_count": 19
        }
      ]
    },
    {
      "cell_type": "code",
      "metadata": {
        "colab": {
          "base_uri": "https://localhost:8080/"
        },
        "id": "5yAhz0pSh8NU",
        "outputId": "405dbd4d-d3e4-4e4d-b183-cde1e0a9e89b"
      },
      "source": [
        "# Concatenate two tensors with compatible shapes\n",
        "t7 = torch.cat((t3, t6))\n",
        "t7"
      ],
      "execution_count": 20,
      "outputs": [
        {
          "output_type": "execute_result",
          "data": {
            "text/plain": [
              "tensor([[10., 20.],\n",
              "        [11., 21.],\n",
              "        [12., 24.],\n",
              "        [42., 42.],\n",
              "        [42., 42.],\n",
              "        [42., 42.]])"
            ]
          },
          "metadata": {
            "tags": []
          },
          "execution_count": 20
        }
      ]
    },
    {
      "cell_type": "code",
      "metadata": {
        "id": "epGSNd2PiPSa",
        "colab": {
          "base_uri": "https://localhost:8080/"
        },
        "outputId": "1d6d0c6f-994b-4f8d-c687-1d69bb0b03ac"
      },
      "source": [
        "# Compute the sin of each element\n",
        "# RuntimeError: exp_vml_cpu not implemented for ‘Long’\n",
        "# math funcs doesn't work with torch if value != float\n",
        "t8 = torch.sin(t7)\n",
        "t8"
      ],
      "execution_count": 21,
      "outputs": [
        {
          "output_type": "execute_result",
          "data": {
            "text/plain": [
              "tensor([[-0.5440,  0.9129],\n",
              "        [-1.0000,  0.8367],\n",
              "        [-0.5366, -0.9056],\n",
              "        [-0.9165, -0.9165],\n",
              "        [-0.9165, -0.9165],\n",
              "        [-0.9165, -0.9165]])"
            ]
          },
          "metadata": {
            "tags": []
          },
          "execution_count": 21
        }
      ]
    },
    {
      "cell_type": "code",
      "metadata": {
        "colab": {
          "base_uri": "https://localhost:8080/"
        },
        "id": "PUdzCHCHTUYr",
        "outputId": "f777a0a0-375e-4470-9579-11c0eb21aa3e"
      },
      "source": [
        "# Change the shape of a tensor\n",
        "t9 = t8.reshape((3, 2, 2))\n",
        "t9"
      ],
      "execution_count": 22,
      "outputs": [
        {
          "output_type": "execute_result",
          "data": {
            "text/plain": [
              "tensor([[[-0.5440,  0.9129],\n",
              "         [-1.0000,  0.8367]],\n",
              "\n",
              "        [[-0.5366, -0.9056],\n",
              "         [-0.9165, -0.9165]],\n",
              "\n",
              "        [[-0.9165, -0.9165],\n",
              "         [-0.9165, -0.9165]]])"
            ]
          },
          "metadata": {
            "tags": []
          },
          "execution_count": 22
        }
      ]
    },
    {
      "cell_type": "markdown",
      "metadata": {
        "id": "95Wo1bZ0T0Cw"
      },
      "source": [
        "You can learn more about tensor operations [here]( https://pytorch.org/docs/stable/torch.html)"
      ]
    },
    {
      "cell_type": "markdown",
      "metadata": {
        "id": "2CLKsaxjT4E7"
      },
      "source": [
        "# Interoperability with Numpy\n",
        "Instead of reinventing the wheel, PyTorch interoperates well with Numpy to leverage its existing ecosystem of tools and libraries.\n",
        "\n"
      ]
    },
    {
      "cell_type": "code",
      "metadata": {
        "colab": {
          "base_uri": "https://localhost:8080/"
        },
        "id": "yOZG2gbuT077",
        "outputId": "9e285ca5-d45c-4438-b176-809455bffcc6"
      },
      "source": [
        "import numpy as np\n",
        "\n",
        "x = np.array([[1, 2, 3], [4, 5, 6]], dtype=np.float32)\n",
        "x"
      ],
      "execution_count": 23,
      "outputs": [
        {
          "output_type": "execute_result",
          "data": {
            "text/plain": [
              "array([[1., 2., 3.],\n",
              "       [4., 5., 6.]], dtype=float32)"
            ]
          },
          "metadata": {
            "tags": []
          },
          "execution_count": 23
        }
      ]
    },
    {
      "cell_type": "markdown",
      "metadata": {
        "id": "0EoLaNiHUBOh"
      },
      "source": [
        "We can convert a `Numpy` array to a `PyTorch` `tensor` using `torch.from_numpy`."
      ]
    },
    {
      "cell_type": "code",
      "metadata": {
        "colab": {
          "base_uri": "https://localhost:8080/"
        },
        "id": "2npQnrRPUB-k",
        "outputId": "06c0da36-9e22-4388-d4af-4fad189a324e"
      },
      "source": [
        "y = torch.from_numpy(x)\n",
        "y"
      ],
      "execution_count": 24,
      "outputs": [
        {
          "output_type": "execute_result",
          "data": {
            "text/plain": [
              "tensor([[1., 2., 3.],\n",
              "        [4., 5., 6.]])"
            ]
          },
          "metadata": {
            "tags": []
          },
          "execution_count": 24
        }
      ]
    },
    {
      "cell_type": "markdown",
      "metadata": {
        "id": "2qDACGv2UGzB"
      },
      "source": [
        "Let's verify that the numpy array and torch tensor have similar data types."
      ]
    },
    {
      "cell_type": "code",
      "metadata": {
        "colab": {
          "base_uri": "https://localhost:8080/"
        },
        "id": "WKSr361jUJie",
        "outputId": "64a06fc2-d5d2-44ab-a7ca-a1406f9e4631"
      },
      "source": [
        "x.dtype, y.dtype"
      ],
      "execution_count": 25,
      "outputs": [
        {
          "output_type": "execute_result",
          "data": {
            "text/plain": [
              "(dtype('float32'), torch.float32)"
            ]
          },
          "metadata": {
            "tags": []
          },
          "execution_count": 25
        }
      ]
    },
    {
      "cell_type": "markdown",
      "metadata": {
        "id": "TwZShLsWUNfF"
      },
      "source": [
        "We can convert a PyTorch tensor to a Numpy array using the `.numpy()` method of a tensor."
      ]
    },
    {
      "cell_type": "code",
      "metadata": {
        "colab": {
          "base_uri": "https://localhost:8080/"
        },
        "id": "_e46WivRUU5J",
        "outputId": "aed5f30a-7f68-416d-bfdd-aa0c7e01ce9f"
      },
      "source": [
        "z = y.numpy()\n",
        "z, type(z)"
      ],
      "execution_count": 26,
      "outputs": [
        {
          "output_type": "execute_result",
          "data": {
            "text/plain": [
              "(array([[1., 2., 3.],\n",
              "        [4., 5., 6.]], dtype=float32), numpy.ndarray)"
            ]
          },
          "metadata": {
            "tags": []
          },
          "execution_count": 26
        }
      ]
    },
    {
      "cell_type": "markdown",
      "metadata": {
        "id": "asAUy45BUYCg"
      },
      "source": [
        "The interoperability between PyTorch and Numpy is essential because most datasets you'll work with will likely be read and preprocessed as Numpy arrays.\n",
        "\n",
        "You might wonder why we need a library like PyTorch at all since Numpy already provides data structures and utilities for working with multi-dimensional numeric data. There are two main reasons:\n",
        "\n",
        "1. **Autograd**: The ability to automatically compute gradients for tensor operations is essential for training deep learning models.\n",
        "2. **GPU support**: While working with massive datasets and large models, PyTorch tensor operations can be performed efficiently using a Graphics Processing Unit (GPU). Computations that might typically take hours can be completed within minutes using GPUs.\n"
      ]
    },
    {
      "cell_type": "code",
      "metadata": {
        "id": "1MYjvdjbUciz"
      },
      "source": [
        "!pip install jovian --upgrade --quiet"
      ],
      "execution_count": 27,
      "outputs": []
    },
    {
      "cell_type": "code",
      "metadata": {
        "colab": {
          "base_uri": "https://localhost:8080/",
          "height": 137
        },
        "id": "dd3hlEPzUgok",
        "outputId": "9faa86af-a8e5-4c27-8c38-005367d2624f"
      },
      "source": [
        "import jovian\n",
        "jovian.commit(project='PyTorch_Tensors_Gradient')"
      ],
      "execution_count": 28,
      "outputs": [
        {
          "output_type": "stream",
          "text": [
            "[jovian] Detected Colab notebook...\u001b[0m\n",
            "[jovian] Please enter your API key ( from https://jovian.ai/ ):\u001b[0m\n",
            "API KEY: ··········\n",
            "[jovian] Uploading colab notebook to Jovian...\u001b[0m\n",
            "[jovian] Capturing environment..\u001b[0m\n",
            "[jovian] Committed successfully! https://jovian.ai/boubekri/pytorch-tensors-gradient\u001b[0m\n"
          ],
          "name": "stdout"
        },
        {
          "output_type": "execute_result",
          "data": {
            "application/vnd.google.colaboratory.intrinsic+json": {
              "type": "string"
            },
            "text/plain": [
              "'https://jovian.ai/boubekri/pytorch-tensors-gradient'"
            ]
          },
          "metadata": {
            "tags": []
          },
          "execution_count": 28
        }
      ]
    }
  ]
}